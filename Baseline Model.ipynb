{
 "cells": [
  {
   "cell_type": "markdown",
   "metadata": {},
   "source": [
    "# Build a Baseline Model\n",
    "\n",
    "Here I build a baseline model for comparison with model building in the future."
   ]
  },
  {
   "cell_type": "markdown",
   "metadata": {},
   "source": [
    "### Load Modules"
   ]
  },
  {
   "cell_type": "code",
   "execution_count": 46,
   "metadata": {},
   "outputs": [
    {
     "name": "stderr",
     "output_type": "stream",
     "text": [
      "/Users/bethanys08/.pyenv/versions/anaconda3-2019.03/envs/myenv2/lib/python3.7/site-packages/sklearn/externals/six.py:31: DeprecationWarning: The module is deprecated in version 0.21 and will be removed in version 0.23 since we've dropped support for Python 2.7. Please rely on the official version of six (https://pypi.org/project/six/).\n",
      "  \"(https://pypi.org/project/six/).\", DeprecationWarning)\n",
      "/Users/bethanys08/.pyenv/versions/anaconda3-2019.03/envs/myenv2/lib/python3.7/site-packages/sklearn/externals/joblib/__init__.py:15: DeprecationWarning: sklearn.externals.joblib is deprecated in 0.21 and will be removed in 0.23. Please import this functionality directly from joblib, which can be installed with: pip install joblib. If this warning is raised when loading pickled models, you may need to re-serialize those models with scikit-learn 0.21+.\n",
      "  warnings.warn(msg, category=DeprecationWarning)\n"
     ]
    }
   ],
   "source": [
    "import pandas as pd\n",
    "import numpy as np\n",
    "from sklearn.model_selection import train_test_split\n",
    "import lightgbm as lgb\n",
    "from statsmodels.tsa.seasonal import seasonal_decompose\n",
    "import matplotlib.pyplot as plt\n",
    "from pmdarima import auto_arima\n",
    "%matplotlib inline"
   ]
  },
  {
   "cell_type": "code",
   "execution_count": 3,
   "metadata": {},
   "outputs": [
    {
     "name": "stdout",
     "output_type": "stream",
     "text": [
      "1.1_Get_All_Parking_Zones.ipynb       README.md\r\n",
      "1.2_Get_Detailed_Blockface_Info.ipynb Test_Collecting_Data.ipynb\r\n",
      "1.3_Get_Parking_Data.ipynb            Untitled.ipynb\r\n",
      "1.4_Format_archived_data.ipynb        block_locations.csv\r\n",
      "1.5_Process_Weather_Data.ipynb        blockface_detail.csv\r\n",
      "2019.1001.pkl                         data_by_day.pkl\r\n",
      "2019.1002.pkl                         \u001b[34mdata_files\u001b[m\u001b[m\r\n",
      "2019.1006.pkl                         \u001b[34mfailed\u001b[m\u001b[m\r\n",
      "GetParkingData.py                     seattle_map.png\r\n"
     ]
    }
   ],
   "source": [
    "!ls 1.collect_data/"
   ]
  },
  {
   "cell_type": "code",
   "execution_count": 4,
   "metadata": {},
   "outputs": [],
   "source": [
    "blockface_detail = pd.read_csv('1.collect_data/blockface_detail.csv')"
   ]
  },
  {
   "cell_type": "code",
   "execution_count": 5,
   "metadata": {},
   "outputs": [
    {
     "data": {
      "text/html": [
       "<div>\n",
       "<style scoped>\n",
       "    .dataframe tbody tr th:only-of-type {\n",
       "        vertical-align: middle;\n",
       "    }\n",
       "\n",
       "    .dataframe tbody tr th {\n",
       "        vertical-align: top;\n",
       "    }\n",
       "\n",
       "    .dataframe thead th {\n",
       "        text-align: right;\n",
       "    }\n",
       "</style>\n",
       "<table border=\"1\" class=\"dataframe\">\n",
       "  <thead>\n",
       "    <tr style=\"text-align: right;\">\n",
       "      <th></th>\n",
       "      <th>latitude</th>\n",
       "      <th>longitude</th>\n",
       "      <th>sourceelementkey</th>\n",
       "    </tr>\n",
       "  </thead>\n",
       "  <tbody>\n",
       "    <tr>\n",
       "      <td>0</td>\n",
       "      <td>47.602873</td>\n",
       "      <td>-122.334694</td>\n",
       "      <td>1001</td>\n",
       "    </tr>\n",
       "    <tr>\n",
       "      <td>1</td>\n",
       "      <td>47.602949</td>\n",
       "      <td>-122.334513</td>\n",
       "      <td>1002</td>\n",
       "    </tr>\n",
       "    <tr>\n",
       "      <td>2</td>\n",
       "      <td>47.603674</td>\n",
       "      <td>-122.335143</td>\n",
       "      <td>1006</td>\n",
       "    </tr>\n",
       "    <tr>\n",
       "      <td>3</td>\n",
       "      <td>47.605018</td>\n",
       "      <td>-122.336658</td>\n",
       "      <td>1009</td>\n",
       "    </tr>\n",
       "    <tr>\n",
       "      <td>4</td>\n",
       "      <td>47.605101</td>\n",
       "      <td>-122.336447</td>\n",
       "      <td>1010</td>\n",
       "    </tr>\n",
       "  </tbody>\n",
       "</table>\n",
       "</div>"
      ],
      "text/plain": [
       "    latitude   longitude  sourceelementkey\n",
       "0  47.602873 -122.334694              1001\n",
       "1  47.602949 -122.334513              1002\n",
       "2  47.603674 -122.335143              1006\n",
       "3  47.605018 -122.336658              1009\n",
       "4  47.605101 -122.336447              1010"
      ]
     },
     "execution_count": 5,
     "metadata": {},
     "output_type": "execute_result"
    }
   ],
   "source": [
    "blockface_detail_locs = blockface_detail[['latitude', 'longitude', 'sourceelementkey']]\n",
    "blockface_detail_locs.head()"
   ]
  },
  {
   "cell_type": "markdown",
   "metadata": {},
   "source": [
    "Load in dataframe "
   ]
  },
  {
   "cell_type": "code",
   "execution_count": 6,
   "metadata": {},
   "outputs": [],
   "source": [
    "df = pd.read_pickle('1.collect_data/data_files/15min.pkl').dropna()"
   ]
  },
  {
   "cell_type": "code",
   "execution_count": 7,
   "metadata": {},
   "outputs": [
    {
     "data": {
      "text/html": [
       "<div>\n",
       "<style scoped>\n",
       "    .dataframe tbody tr th:only-of-type {\n",
       "        vertical-align: middle;\n",
       "    }\n",
       "\n",
       "    .dataframe tbody tr th {\n",
       "        vertical-align: top;\n",
       "    }\n",
       "\n",
       "    .dataframe thead th {\n",
       "        text-align: right;\n",
       "    }\n",
       "</style>\n",
       "<table border=\"1\" class=\"dataframe\">\n",
       "  <thead>\n",
       "    <tr style=\"text-align: right;\">\n",
       "      <th></th>\n",
       "      <th></th>\n",
       "      <th>PaidOccupancy</th>\n",
       "      <th>ParkingSpaceCount</th>\n",
       "      <th>PercentOccupied</th>\n",
       "    </tr>\n",
       "    <tr>\n",
       "      <th>SourceElementKey</th>\n",
       "      <th>OccupancyDateTime</th>\n",
       "      <th></th>\n",
       "      <th></th>\n",
       "      <th></th>\n",
       "    </tr>\n",
       "  </thead>\n",
       "  <tbody>\n",
       "    <tr>\n",
       "      <td rowspan=\"5\" valign=\"top\">1001</td>\n",
       "      <td>2012-01-03 09:00:00</td>\n",
       "      <td>0.133333</td>\n",
       "      <td>7.0</td>\n",
       "      <td>0.019048</td>\n",
       "    </tr>\n",
       "    <tr>\n",
       "      <td>2012-01-03 09:15:00</td>\n",
       "      <td>1.000000</td>\n",
       "      <td>7.0</td>\n",
       "      <td>0.142857</td>\n",
       "    </tr>\n",
       "    <tr>\n",
       "      <td>2012-01-03 09:30:00</td>\n",
       "      <td>1.000000</td>\n",
       "      <td>7.0</td>\n",
       "      <td>0.142857</td>\n",
       "    </tr>\n",
       "    <tr>\n",
       "      <td>2012-01-03 09:45:00</td>\n",
       "      <td>1.800000</td>\n",
       "      <td>7.0</td>\n",
       "      <td>0.257143</td>\n",
       "    </tr>\n",
       "    <tr>\n",
       "      <td>2012-01-03 10:00:00</td>\n",
       "      <td>1.933333</td>\n",
       "      <td>7.0</td>\n",
       "      <td>0.276190</td>\n",
       "    </tr>\n",
       "  </tbody>\n",
       "</table>\n",
       "</div>"
      ],
      "text/plain": [
       "                                      PaidOccupancy  ParkingSpaceCount  \\\n",
       "SourceElementKey OccupancyDateTime                                       \n",
       "1001             2012-01-03 09:00:00       0.133333                7.0   \n",
       "                 2012-01-03 09:15:00       1.000000                7.0   \n",
       "                 2012-01-03 09:30:00       1.000000                7.0   \n",
       "                 2012-01-03 09:45:00       1.800000                7.0   \n",
       "                 2012-01-03 10:00:00       1.933333                7.0   \n",
       "\n",
       "                                      PercentOccupied  \n",
       "SourceElementKey OccupancyDateTime                     \n",
       "1001             2012-01-03 09:00:00         0.019048  \n",
       "                 2012-01-03 09:15:00         0.142857  \n",
       "                 2012-01-03 09:30:00         0.142857  \n",
       "                 2012-01-03 09:45:00         0.257143  \n",
       "                 2012-01-03 10:00:00         0.276190  "
      ]
     },
     "execution_count": 7,
     "metadata": {},
     "output_type": "execute_result"
    }
   ],
   "source": [
    "df.head()"
   ]
  },
  {
   "cell_type": "markdown",
   "metadata": {},
   "source": [
    "Reset index required to use the blockID and datetime as parameters for the model"
   ]
  },
  {
   "cell_type": "code",
   "execution_count": 8,
   "metadata": {},
   "outputs": [],
   "source": [
    "df.reset_index(inplace=True)"
   ]
  },
  {
   "cell_type": "code",
   "execution_count": 9,
   "metadata": {},
   "outputs": [],
   "source": [
    "last_two_years = df[df['OccupancyDateTime'] > '2018-01-01 00:00:00']"
   ]
  },
  {
   "cell_type": "code",
   "execution_count": 10,
   "metadata": {},
   "outputs": [
    {
     "data": {
      "text/html": [
       "<div>\n",
       "<style scoped>\n",
       "    .dataframe tbody tr th:only-of-type {\n",
       "        vertical-align: middle;\n",
       "    }\n",
       "\n",
       "    .dataframe tbody tr th {\n",
       "        vertical-align: top;\n",
       "    }\n",
       "\n",
       "    .dataframe thead th {\n",
       "        text-align: right;\n",
       "    }\n",
       "</style>\n",
       "<table border=\"1\" class=\"dataframe\">\n",
       "  <thead>\n",
       "    <tr style=\"text-align: right;\">\n",
       "      <th></th>\n",
       "      <th>SourceElementKey</th>\n",
       "      <th>OccupancyDateTime</th>\n",
       "      <th>PaidOccupancy</th>\n",
       "      <th>ParkingSpaceCount</th>\n",
       "      <th>PercentOccupied</th>\n",
       "    </tr>\n",
       "  </thead>\n",
       "  <tbody>\n",
       "    <tr>\n",
       "      <td>67211</td>\n",
       "      <td>1001</td>\n",
       "      <td>2018-01-02 09:00:00</td>\n",
       "      <td>0.0</td>\n",
       "      <td>5.0</td>\n",
       "      <td>0.0</td>\n",
       "    </tr>\n",
       "    <tr>\n",
       "      <td>67212</td>\n",
       "      <td>1001</td>\n",
       "      <td>2018-01-02 09:15:00</td>\n",
       "      <td>0.0</td>\n",
       "      <td>5.0</td>\n",
       "      <td>0.0</td>\n",
       "    </tr>\n",
       "    <tr>\n",
       "      <td>67213</td>\n",
       "      <td>1001</td>\n",
       "      <td>2018-01-02 09:30:00</td>\n",
       "      <td>0.0</td>\n",
       "      <td>5.0</td>\n",
       "      <td>0.0</td>\n",
       "    </tr>\n",
       "    <tr>\n",
       "      <td>67214</td>\n",
       "      <td>1001</td>\n",
       "      <td>2018-01-02 09:45:00</td>\n",
       "      <td>0.0</td>\n",
       "      <td>5.0</td>\n",
       "      <td>0.0</td>\n",
       "    </tr>\n",
       "    <tr>\n",
       "      <td>67215</td>\n",
       "      <td>1001</td>\n",
       "      <td>2018-01-02 10:00:00</td>\n",
       "      <td>0.0</td>\n",
       "      <td>5.0</td>\n",
       "      <td>0.0</td>\n",
       "    </tr>\n",
       "  </tbody>\n",
       "</table>\n",
       "</div>"
      ],
      "text/plain": [
       "       SourceElementKey   OccupancyDateTime  PaidOccupancy  ParkingSpaceCount  \\\n",
       "67211              1001 2018-01-02 09:00:00            0.0                5.0   \n",
       "67212              1001 2018-01-02 09:15:00            0.0                5.0   \n",
       "67213              1001 2018-01-02 09:30:00            0.0                5.0   \n",
       "67214              1001 2018-01-02 09:45:00            0.0                5.0   \n",
       "67215              1001 2018-01-02 10:00:00            0.0                5.0   \n",
       "\n",
       "       PercentOccupied  \n",
       "67211              0.0  \n",
       "67212              0.0  \n",
       "67213              0.0  \n",
       "67214              0.0  \n",
       "67215              0.0  "
      ]
     },
     "execution_count": 10,
     "metadata": {},
     "output_type": "execute_result"
    }
   ],
   "source": [
    "last_two_years.head()"
   ]
  },
  {
   "cell_type": "code",
   "execution_count": 11,
   "metadata": {
    "scrolled": true
   },
   "outputs": [
    {
     "data": {
      "text/plain": [
       "144176748    4\n",
       "144176749    4\n",
       "144176750    4\n",
       "144176751    4\n",
       "144176752    4\n",
       "Name: OccupancyDateTime, dtype: int64"
      ]
     },
     "execution_count": 11,
     "metadata": {},
     "output_type": "execute_result"
    }
   ],
   "source": [
    "last_two_years.tail().OccupancyDateTime.dt.dayofweek"
   ]
  },
  {
   "cell_type": "code",
   "execution_count": 12,
   "metadata": {},
   "outputs": [],
   "source": [
    "merged = pd.merge(last_two_years, \n",
    "                  blockface_detail_locs, \n",
    "                  how='left', \n",
    "                  left_on='SourceElementKey', \n",
    "                  right_on='sourceelementkey').drop('sourceelementkey', axis=1)"
   ]
  },
  {
   "cell_type": "code",
   "execution_count": 13,
   "metadata": {},
   "outputs": [
    {
     "data": {
      "text/html": [
       "<div>\n",
       "<style scoped>\n",
       "    .dataframe tbody tr th:only-of-type {\n",
       "        vertical-align: middle;\n",
       "    }\n",
       "\n",
       "    .dataframe tbody tr th {\n",
       "        vertical-align: top;\n",
       "    }\n",
       "\n",
       "    .dataframe thead th {\n",
       "        text-align: right;\n",
       "    }\n",
       "</style>\n",
       "<table border=\"1\" class=\"dataframe\">\n",
       "  <thead>\n",
       "    <tr style=\"text-align: right;\">\n",
       "      <th></th>\n",
       "      <th>SourceElementKey</th>\n",
       "      <th>OccupancyDateTime</th>\n",
       "      <th>PaidOccupancy</th>\n",
       "      <th>ParkingSpaceCount</th>\n",
       "      <th>PercentOccupied</th>\n",
       "      <th>latitude</th>\n",
       "      <th>longitude</th>\n",
       "    </tr>\n",
       "  </thead>\n",
       "  <tbody>\n",
       "    <tr>\n",
       "      <td>32360200</td>\n",
       "      <td>121340</td>\n",
       "      <td>2019-08-30 16:00:00</td>\n",
       "      <td>0.0</td>\n",
       "      <td>2.0</td>\n",
       "      <td>0.0</td>\n",
       "      <td>47.624221</td>\n",
       "      <td>-122.333423</td>\n",
       "    </tr>\n",
       "    <tr>\n",
       "      <td>32360201</td>\n",
       "      <td>121340</td>\n",
       "      <td>2019-08-30 16:15:00</td>\n",
       "      <td>0.0</td>\n",
       "      <td>2.0</td>\n",
       "      <td>0.0</td>\n",
       "      <td>47.624221</td>\n",
       "      <td>-122.333423</td>\n",
       "    </tr>\n",
       "    <tr>\n",
       "      <td>32360202</td>\n",
       "      <td>121340</td>\n",
       "      <td>2019-08-30 16:30:00</td>\n",
       "      <td>0.0</td>\n",
       "      <td>2.0</td>\n",
       "      <td>0.0</td>\n",
       "      <td>47.624221</td>\n",
       "      <td>-122.333423</td>\n",
       "    </tr>\n",
       "    <tr>\n",
       "      <td>32360203</td>\n",
       "      <td>121340</td>\n",
       "      <td>2019-08-30 16:45:00</td>\n",
       "      <td>0.0</td>\n",
       "      <td>2.0</td>\n",
       "      <td>0.0</td>\n",
       "      <td>47.624221</td>\n",
       "      <td>-122.333423</td>\n",
       "    </tr>\n",
       "    <tr>\n",
       "      <td>32360204</td>\n",
       "      <td>121340</td>\n",
       "      <td>2019-08-30 17:00:00</td>\n",
       "      <td>0.0</td>\n",
       "      <td>2.0</td>\n",
       "      <td>0.0</td>\n",
       "      <td>47.624221</td>\n",
       "      <td>-122.333423</td>\n",
       "    </tr>\n",
       "  </tbody>\n",
       "</table>\n",
       "</div>"
      ],
      "text/plain": [
       "          SourceElementKey   OccupancyDateTime  PaidOccupancy  \\\n",
       "32360200            121340 2019-08-30 16:00:00            0.0   \n",
       "32360201            121340 2019-08-30 16:15:00            0.0   \n",
       "32360202            121340 2019-08-30 16:30:00            0.0   \n",
       "32360203            121340 2019-08-30 16:45:00            0.0   \n",
       "32360204            121340 2019-08-30 17:00:00            0.0   \n",
       "\n",
       "          ParkingSpaceCount  PercentOccupied   latitude   longitude  \n",
       "32360200                2.0              0.0  47.624221 -122.333423  \n",
       "32360201                2.0              0.0  47.624221 -122.333423  \n",
       "32360202                2.0              0.0  47.624221 -122.333423  \n",
       "32360203                2.0              0.0  47.624221 -122.333423  \n",
       "32360204                2.0              0.0  47.624221 -122.333423  "
      ]
     },
     "execution_count": 13,
     "metadata": {},
     "output_type": "execute_result"
    }
   ],
   "source": [
    "merged.tail()"
   ]
  },
  {
   "cell_type": "markdown",
   "metadata": {},
   "source": [
    "Here I add month,day, year etc. so that the ML model can be trained on them."
   ]
  },
  {
   "cell_type": "code",
   "execution_count": 14,
   "metadata": {},
   "outputs": [],
   "source": [
    "merged['Month'] = merged.OccupancyDateTime.dt.month\n",
    "merged['Year'] = merged.OccupancyDateTime.dt.year\n",
    "merged['Hour'] = merged.OccupancyDateTime.dt.hour\n",
    "merged['DayOfWeek'] = merged.OccupancyDateTime.dt.dayofweek\n",
    "merged['Day'] = merged.OccupancyDateTime.dt.day"
   ]
  },
  {
   "cell_type": "code",
   "execution_count": 15,
   "metadata": {},
   "outputs": [],
   "source": [
    "merged['Dummy'] = 0"
   ]
  },
  {
   "cell_type": "code",
   "execution_count": 16,
   "metadata": {},
   "outputs": [
    {
     "data": {
      "text/html": [
       "<div>\n",
       "<style scoped>\n",
       "    .dataframe tbody tr th:only-of-type {\n",
       "        vertical-align: middle;\n",
       "    }\n",
       "\n",
       "    .dataframe tbody tr th {\n",
       "        vertical-align: top;\n",
       "    }\n",
       "\n",
       "    .dataframe thead th {\n",
       "        text-align: right;\n",
       "    }\n",
       "</style>\n",
       "<table border=\"1\" class=\"dataframe\">\n",
       "  <thead>\n",
       "    <tr style=\"text-align: right;\">\n",
       "      <th></th>\n",
       "      <th>SourceElementKey</th>\n",
       "      <th>OccupancyDateTime</th>\n",
       "      <th>PaidOccupancy</th>\n",
       "      <th>ParkingSpaceCount</th>\n",
       "      <th>PercentOccupied</th>\n",
       "      <th>latitude</th>\n",
       "      <th>longitude</th>\n",
       "      <th>Month</th>\n",
       "      <th>Year</th>\n",
       "      <th>Hour</th>\n",
       "      <th>DayOfWeek</th>\n",
       "      <th>Day</th>\n",
       "      <th>Dummy</th>\n",
       "    </tr>\n",
       "  </thead>\n",
       "  <tbody>\n",
       "    <tr>\n",
       "      <td>0</td>\n",
       "      <td>1001</td>\n",
       "      <td>2018-01-02 09:00:00</td>\n",
       "      <td>0.0</td>\n",
       "      <td>5.0</td>\n",
       "      <td>0.0</td>\n",
       "      <td>47.602873</td>\n",
       "      <td>-122.334694</td>\n",
       "      <td>1</td>\n",
       "      <td>2018</td>\n",
       "      <td>9</td>\n",
       "      <td>1</td>\n",
       "      <td>2</td>\n",
       "      <td>0</td>\n",
       "    </tr>\n",
       "    <tr>\n",
       "      <td>1</td>\n",
       "      <td>1001</td>\n",
       "      <td>2018-01-02 09:15:00</td>\n",
       "      <td>0.0</td>\n",
       "      <td>5.0</td>\n",
       "      <td>0.0</td>\n",
       "      <td>47.602873</td>\n",
       "      <td>-122.334694</td>\n",
       "      <td>1</td>\n",
       "      <td>2018</td>\n",
       "      <td>9</td>\n",
       "      <td>1</td>\n",
       "      <td>2</td>\n",
       "      <td>0</td>\n",
       "    </tr>\n",
       "    <tr>\n",
       "      <td>2</td>\n",
       "      <td>1001</td>\n",
       "      <td>2018-01-02 09:30:00</td>\n",
       "      <td>0.0</td>\n",
       "      <td>5.0</td>\n",
       "      <td>0.0</td>\n",
       "      <td>47.602873</td>\n",
       "      <td>-122.334694</td>\n",
       "      <td>1</td>\n",
       "      <td>2018</td>\n",
       "      <td>9</td>\n",
       "      <td>1</td>\n",
       "      <td>2</td>\n",
       "      <td>0</td>\n",
       "    </tr>\n",
       "    <tr>\n",
       "      <td>3</td>\n",
       "      <td>1001</td>\n",
       "      <td>2018-01-02 09:45:00</td>\n",
       "      <td>0.0</td>\n",
       "      <td>5.0</td>\n",
       "      <td>0.0</td>\n",
       "      <td>47.602873</td>\n",
       "      <td>-122.334694</td>\n",
       "      <td>1</td>\n",
       "      <td>2018</td>\n",
       "      <td>9</td>\n",
       "      <td>1</td>\n",
       "      <td>2</td>\n",
       "      <td>0</td>\n",
       "    </tr>\n",
       "    <tr>\n",
       "      <td>4</td>\n",
       "      <td>1001</td>\n",
       "      <td>2018-01-02 10:00:00</td>\n",
       "      <td>0.0</td>\n",
       "      <td>5.0</td>\n",
       "      <td>0.0</td>\n",
       "      <td>47.602873</td>\n",
       "      <td>-122.334694</td>\n",
       "      <td>1</td>\n",
       "      <td>2018</td>\n",
       "      <td>10</td>\n",
       "      <td>1</td>\n",
       "      <td>2</td>\n",
       "      <td>0</td>\n",
       "    </tr>\n",
       "  </tbody>\n",
       "</table>\n",
       "</div>"
      ],
      "text/plain": [
       "   SourceElementKey   OccupancyDateTime  PaidOccupancy  ParkingSpaceCount  \\\n",
       "0              1001 2018-01-02 09:00:00            0.0                5.0   \n",
       "1              1001 2018-01-02 09:15:00            0.0                5.0   \n",
       "2              1001 2018-01-02 09:30:00            0.0                5.0   \n",
       "3              1001 2018-01-02 09:45:00            0.0                5.0   \n",
       "4              1001 2018-01-02 10:00:00            0.0                5.0   \n",
       "\n",
       "   PercentOccupied   latitude   longitude  Month  Year  Hour  DayOfWeek  Day  \\\n",
       "0              0.0  47.602873 -122.334694      1  2018     9          1    2   \n",
       "1              0.0  47.602873 -122.334694      1  2018     9          1    2   \n",
       "2              0.0  47.602873 -122.334694      1  2018     9          1    2   \n",
       "3              0.0  47.602873 -122.334694      1  2018     9          1    2   \n",
       "4              0.0  47.602873 -122.334694      1  2018    10          1    2   \n",
       "\n",
       "   Dummy  \n",
       "0      0  \n",
       "1      0  \n",
       "2      0  \n",
       "3      0  \n",
       "4      0  "
      ]
     },
     "execution_count": 16,
     "metadata": {},
     "output_type": "execute_result"
    }
   ],
   "source": [
    "merged.head()"
   ]
  },
  {
   "cell_type": "code",
   "execution_count": 17,
   "metadata": {},
   "outputs": [],
   "source": [
    "# y = df['PercentOccupied'].values\n",
    "# X = df[['Dummy', 'SourceElementKey']]"
   ]
  },
  {
   "cell_type": "markdown",
   "metadata": {},
   "source": [
    "Split the data into train and test sets"
   ]
  },
  {
   "cell_type": "code",
   "execution_count": 18,
   "metadata": {},
   "outputs": [],
   "source": [
    "df_train, df_test = train_test_split(\n",
    "    merged, test_size=0.3, random_state=42)"
   ]
  },
  {
   "cell_type": "code",
   "execution_count": 19,
   "metadata": {},
   "outputs": [],
   "source": [
    "baseline_columns = ['Dummy', 'SourceElementKey']"
   ]
  },
  {
   "cell_type": "markdown",
   "metadata": {},
   "source": [
    "Build the actual dataset objects for LightGBM"
   ]
  },
  {
   "cell_type": "code",
   "execution_count": 20,
   "metadata": {},
   "outputs": [],
   "source": [
    "lgb_train = lgb.Dataset(data=df_train[baseline_columns], \n",
    "                        label=df_train['PercentOccupied'], \n",
    "                        feature_name=baseline_columns, \n",
    "                        categorical_feature=['SourceElementKey'])\n",
    "lgb_test = lgb.Dataset(data=df_test[baseline_columns], \n",
    "                       label=df_test['PercentOccupied'], \n",
    "                       feature_name=baseline_columns, \n",
    "                       categorical_feature=['SourceElementKey'],\n",
    "                       reference=lgb_train)"
   ]
  },
  {
   "cell_type": "markdown",
   "metadata": {},
   "source": [
    "Set the parameters for the ML model"
   ]
  },
  {
   "cell_type": "code",
   "execution_count": 21,
   "metadata": {},
   "outputs": [],
   "source": [
    "params = {\n",
    "    'boosting_type': 'gbdt',\n",
    "    'objective': 'regression',\n",
    "    'metric': {'l2', 'l1'},\n",
    "    'num_leaves': 31,\n",
    "    'learning_rate': 0.05,\n",
    "    'feature_fraction': 0.9,\n",
    "    'bagging_fraction': 0.8,\n",
    "    'bagging_freq': 5,\n",
    "}"
   ]
  },
  {
   "cell_type": "markdown",
   "metadata": {},
   "source": [
    "Train model only on dummy variable and blockID"
   ]
  },
  {
   "cell_type": "code",
   "execution_count": 22,
   "metadata": {},
   "outputs": [
    {
     "name": "stdout",
     "output_type": "stream",
     "text": [
      "Starting training...\n"
     ]
    },
    {
     "name": "stderr",
     "output_type": "stream",
     "text": [
      "/Users/bethanys08/.pyenv/versions/anaconda3-2019.03/envs/myenv2/lib/python3.7/site-packages/lightgbm/basic.py:1205: UserWarning: Using categorical_feature in Dataset.\n",
      "  warnings.warn('Using categorical_feature in Dataset.')\n",
      "/Users/bethanys08/.pyenv/versions/anaconda3-2019.03/envs/myenv2/lib/python3.7/site-packages/lightgbm/basic.py:762: UserWarning: categorical_feature in param dict is overridden.\n",
      "  warnings.warn('categorical_feature in param dict is overridden.')\n"
     ]
    },
    {
     "name": "stdout",
     "output_type": "stream",
     "text": [
      "[1]\tvalid_0's l2: 0.142787\tvalid_0's l1: 0.289265\n",
      "[2]\tvalid_0's l2: 0.138308\tvalid_0's l1: 0.284308\n",
      "[3]\tvalid_0's l2: 0.134264\tvalid_0's l1: 0.279692\n",
      "[4]\tvalid_0's l2: 0.130609\tvalid_0's l1: 0.275393\n",
      "[5]\tvalid_0's l2: 0.127302\tvalid_0's l1: 0.271416\n",
      "[6]\tvalid_0's l2: 0.124312\tvalid_0's l1: 0.267728\n",
      "[7]\tvalid_0's l2: 0.121605\tvalid_0's l1: 0.264334\n",
      "[8]\tvalid_0's l2: 0.119161\tvalid_0's l1: 0.261179\n",
      "[9]\tvalid_0's l2: 0.116945\tvalid_0's l1: 0.258218\n",
      "[10]\tvalid_0's l2: 0.114938\tvalid_0's l1: 0.255464\n",
      "[11]\tvalid_0's l2: 0.113119\tvalid_0's l1: 0.252891\n",
      "[12]\tvalid_0's l2: 0.111474\tvalid_0's l1: 0.250501\n",
      "[13]\tvalid_0's l2: 0.109975\tvalid_0's l1: 0.24829\n",
      "[14]\tvalid_0's l2: 0.108622\tvalid_0's l1: 0.24621\n",
      "[15]\tvalid_0's l2: 0.107388\tvalid_0's l1: 0.244268\n",
      "[16]\tvalid_0's l2: 0.106278\tvalid_0's l1: 0.242509\n",
      "[17]\tvalid_0's l2: 0.105269\tvalid_0's l1: 0.24086\n",
      "[18]\tvalid_0's l2: 0.104346\tvalid_0's l1: 0.239291\n",
      "[19]\tvalid_0's l2: 0.103511\tvalid_0's l1: 0.237834\n",
      "[20]\tvalid_0's l2: 0.102756\tvalid_0's l1: 0.236518\n",
      "[21]\tvalid_0's l2: 0.102074\tvalid_0's l1: 0.235298\n",
      "[22]\tvalid_0's l2: 0.10145\tvalid_0's l1: 0.234142\n",
      "[23]\tvalid_0's l2: 0.100885\tvalid_0's l1: 0.23307\n",
      "[24]\tvalid_0's l2: 0.100377\tvalid_0's l1: 0.232103\n",
      "[25]\tvalid_0's l2: 0.0999184\tvalid_0's l1: 0.231206\n",
      "[26]\tvalid_0's l2: 0.0994984\tvalid_0's l1: 0.230353\n",
      "[27]\tvalid_0's l2: 0.0991212\tvalid_0's l1: 0.22958\n",
      "[28]\tvalid_0's l2: 0.0987769\tvalid_0's l1: 0.228858\n",
      "[29]\tvalid_0's l2: 0.098461\tvalid_0's l1: 0.228172\n",
      "[30]\tvalid_0's l2: 0.0981791\tvalid_0's l1: 0.227552\n",
      "[31]\tvalid_0's l2: 0.0979195\tvalid_0's l1: 0.226967\n",
      "[32]\tvalid_0's l2: 0.0976878\tvalid_0's l1: 0.226438\n",
      "[33]\tvalid_0's l2: 0.0974785\tvalid_0's l1: 0.225949\n",
      "[34]\tvalid_0's l2: 0.0972847\tvalid_0's l1: 0.225484\n",
      "[35]\tvalid_0's l2: 0.0971099\tvalid_0's l1: 0.225058\n",
      "[36]\tvalid_0's l2: 0.0969513\tvalid_0's l1: 0.22466\n",
      "[37]\tvalid_0's l2: 0.0968079\tvalid_0's l1: 0.224291\n",
      "[38]\tvalid_0's l2: 0.0966781\tvalid_0's l1: 0.223954\n",
      "[39]\tvalid_0's l2: 0.0965609\tvalid_0's l1: 0.223639\n",
      "[40]\tvalid_0's l2: 0.0964551\tvalid_0's l1: 0.223348\n",
      "[41]\tvalid_0's l2: 0.0963581\tvalid_0's l1: 0.223067\n",
      "[42]\tvalid_0's l2: 0.0962716\tvalid_0's l1: 0.222822\n",
      "[43]\tvalid_0's l2: 0.0961902\tvalid_0's l1: 0.222576\n",
      "[44]\tvalid_0's l2: 0.096117\tvalid_0's l1: 0.22235\n",
      "[45]\tvalid_0's l2: 0.0960504\tvalid_0's l1: 0.22214\n",
      "[46]\tvalid_0's l2: 0.0959897\tvalid_0's l1: 0.221948\n",
      "[47]\tvalid_0's l2: 0.0959354\tvalid_0's l1: 0.221772\n",
      "[48]\tvalid_0's l2: 0.0958863\tvalid_0's l1: 0.221608\n",
      "[49]\tvalid_0's l2: 0.095842\tvalid_0's l1: 0.221455\n",
      "[50]\tvalid_0's l2: 0.0958002\tvalid_0's l1: 0.221304\n",
      "[51]\tvalid_0's l2: 0.0957622\tvalid_0's l1: 0.221166\n",
      "[52]\tvalid_0's l2: 0.0957284\tvalid_0's l1: 0.22104\n",
      "[53]\tvalid_0's l2: 0.0956984\tvalid_0's l1: 0.220926\n",
      "[54]\tvalid_0's l2: 0.0956709\tvalid_0's l1: 0.220815\n",
      "[55]\tvalid_0's l2: 0.095646\tvalid_0's l1: 0.220715\n",
      "[56]\tvalid_0's l2: 0.0956228\tvalid_0's l1: 0.220615\n",
      "[57]\tvalid_0's l2: 0.0956027\tvalid_0's l1: 0.220526\n",
      "[58]\tvalid_0's l2: 0.0955835\tvalid_0's l1: 0.220436\n",
      "[59]\tvalid_0's l2: 0.095566\tvalid_0's l1: 0.220351\n",
      "[60]\tvalid_0's l2: 0.095551\tvalid_0's l1: 0.220277\n",
      "[61]\tvalid_0's l2: 0.0955374\tvalid_0's l1: 0.220208\n",
      "[62]\tvalid_0's l2: 0.0955242\tvalid_0's l1: 0.220137\n",
      "[63]\tvalid_0's l2: 0.0955122\tvalid_0's l1: 0.220071\n",
      "[64]\tvalid_0's l2: 0.0955016\tvalid_0's l1: 0.220009\n",
      "[65]\tvalid_0's l2: 0.0954923\tvalid_0's l1: 0.219953\n",
      "[66]\tvalid_0's l2: 0.0954836\tvalid_0's l1: 0.2199\n",
      "[67]\tvalid_0's l2: 0.095476\tvalid_0's l1: 0.219853\n",
      "[68]\tvalid_0's l2: 0.0954687\tvalid_0's l1: 0.219806\n",
      "[69]\tvalid_0's l2: 0.0954624\tvalid_0's l1: 0.219764\n",
      "[70]\tvalid_0's l2: 0.0954563\tvalid_0's l1: 0.219722\n",
      "[71]\tvalid_0's l2: 0.0954509\tvalid_0's l1: 0.219682\n",
      "[72]\tvalid_0's l2: 0.0954458\tvalid_0's l1: 0.219643\n",
      "[73]\tvalid_0's l2: 0.0954416\tvalid_0's l1: 0.219612\n",
      "[74]\tvalid_0's l2: 0.0954378\tvalid_0's l1: 0.219583\n",
      "[75]\tvalid_0's l2: 0.0954344\tvalid_0's l1: 0.219555\n",
      "[76]\tvalid_0's l2: 0.0954307\tvalid_0's l1: 0.219525\n",
      "[77]\tvalid_0's l2: 0.0954275\tvalid_0's l1: 0.219497\n",
      "[78]\tvalid_0's l2: 0.0954245\tvalid_0's l1: 0.219471\n",
      "[79]\tvalid_0's l2: 0.0954219\tvalid_0's l1: 0.219447\n",
      "[80]\tvalid_0's l2: 0.0954195\tvalid_0's l1: 0.219424\n",
      "[81]\tvalid_0's l2: 0.0954174\tvalid_0's l1: 0.219402\n",
      "[82]\tvalid_0's l2: 0.0954155\tvalid_0's l1: 0.219381\n",
      "[83]\tvalid_0's l2: 0.0954138\tvalid_0's l1: 0.219362\n",
      "[84]\tvalid_0's l2: 0.0954123\tvalid_0's l1: 0.219343\n",
      "[85]\tvalid_0's l2: 0.0954109\tvalid_0's l1: 0.219326\n",
      "[86]\tvalid_0's l2: 0.0954096\tvalid_0's l1: 0.21931\n",
      "[87]\tvalid_0's l2: 0.0954085\tvalid_0's l1: 0.219295\n",
      "[88]\tvalid_0's l2: 0.0954075\tvalid_0's l1: 0.219281\n",
      "[89]\tvalid_0's l2: 0.0954066\tvalid_0's l1: 0.219269\n",
      "[90]\tvalid_0's l2: 0.0954058\tvalid_0's l1: 0.219257\n",
      "[91]\tvalid_0's l2: 0.095405\tvalid_0's l1: 0.219244\n",
      "[92]\tvalid_0's l2: 0.0954042\tvalid_0's l1: 0.219232\n",
      "[93]\tvalid_0's l2: 0.0954035\tvalid_0's l1: 0.219221\n",
      "[94]\tvalid_0's l2: 0.0954029\tvalid_0's l1: 0.21921\n",
      "[95]\tvalid_0's l2: 0.0954024\tvalid_0's l1: 0.2192\n",
      "[96]\tvalid_0's l2: 0.095402\tvalid_0's l1: 0.219191\n",
      "[97]\tvalid_0's l2: 0.0954015\tvalid_0's l1: 0.219182\n",
      "[98]\tvalid_0's l2: 0.0954012\tvalid_0's l1: 0.219174\n",
      "[99]\tvalid_0's l2: 0.0954009\tvalid_0's l1: 0.219166\n",
      "[100]\tvalid_0's l2: 0.0954006\tvalid_0's l1: 0.219159\n",
      "Saving model...\n"
     ]
    },
    {
     "data": {
      "text/plain": [
       "<lightgbm.basic.Booster at 0x1c21002f50>"
      ]
     },
     "execution_count": 22,
     "metadata": {},
     "output_type": "execute_result"
    }
   ],
   "source": [
    "print('Starting training...')\n",
    "# train\n",
    "gbm = lgb.train(params,\n",
    "                lgb_train,\n",
    "               valid_sets=lgb_test)\n",
    "\n",
    "print('Saving model...')\n",
    "# save model to file\n",
    "gbm.save_model('baseline_model.txt')"
   ]
  },
  {
   "cell_type": "code",
   "execution_count": 23,
   "metadata": {},
   "outputs": [],
   "source": [
    "y_pred = gbm.predict(df_test[baseline_columns], num_iteration=gbm.best_iteration)"
   ]
  },
  {
   "cell_type": "code",
   "execution_count": 24,
   "metadata": {},
   "outputs": [],
   "source": [
    "def smape_error(forecast, actual):\n",
    "    numerator = np.absolute(forecast-actual)\n",
    "    denominator = np.absolute(forecast) + np.absolute(actual)\n",
    "\n",
    "    num_samples = len(numerator)\n",
    "\n",
    "    return 100/num_samples * np.sum(numerator/denominator)"
   ]
  },
  {
   "cell_type": "code",
   "execution_count": 25,
   "metadata": {},
   "outputs": [
    {
     "name": "stdout",
     "output_type": "stream",
     "text": [
      "smape: 33.583995\n"
     ]
    }
   ],
   "source": [
    "baseline_smape = smape_error(y_pred, df_test['PercentOccupied'])\n",
    "print('smape: %f' % baseline_smape)"
   ]
  },
  {
   "cell_type": "markdown",
   "metadata": {},
   "source": [
    "# Simple Model\n",
    "\n",
    "Build a simple model only on datetime info and blockID"
   ]
  },
  {
   "cell_type": "code",
   "execution_count": 26,
   "metadata": {
    "scrolled": true
   },
   "outputs": [
    {
     "data": {
      "text/plain": [
       "144176748    30\n",
       "144176749    30\n",
       "144176750    30\n",
       "144176751    30\n",
       "144176752    30\n",
       "Name: OccupancyDateTime, dtype: int64"
      ]
     },
     "execution_count": 26,
     "metadata": {},
     "output_type": "execute_result"
    }
   ],
   "source": [
    "df.tail().OccupancyDateTime.dt.day"
   ]
  },
  {
   "cell_type": "code",
   "execution_count": 27,
   "metadata": {},
   "outputs": [],
   "source": [
    "simple_columns = ['SourceElementKey', 'Year', 'Month', 'Day', 'Hour', 'DayOfWeek', 'latitude', 'longitude']"
   ]
  },
  {
   "cell_type": "code",
   "execution_count": 28,
   "metadata": {},
   "outputs": [],
   "source": [
    "simple_train = lgb.Dataset(data=df_train[simple_columns], \n",
    "                           label=df_train['PercentOccupied'],\n",
    "                            feature_name=simple_columns, \n",
    "                       categorical_feature=['SourceElementKey', 'DayOfWeek'])\n",
    "simple_test = lgb.Dataset(data=df_test[simple_columns], \n",
    "                          label=df_test['PercentOccupied'], \n",
    "                          feature_name=simple_columns, \n",
    "                          categorical_feature=['SourceElementKey', 'DayOfWeek'],\n",
    "                          reference=simple_train)"
   ]
  },
  {
   "cell_type": "code",
   "execution_count": 29,
   "metadata": {},
   "outputs": [
    {
     "name": "stdout",
     "output_type": "stream",
     "text": [
      "Starting training...\n",
      "[1]\tvalid_0's l2: 0.142441\tvalid_0's l1: 0.288976\n",
      "[2]\tvalid_0's l2: 0.137636\tvalid_0's l1: 0.283674\n",
      "[3]\tvalid_0's l2: 0.135221\tvalid_0's l1: 0.280627\n",
      "[4]\tvalid_0's l2: 0.131283\tvalid_0's l1: 0.27609\n",
      "[5]\tvalid_0's l2: 0.129213\tvalid_0's l1: 0.273458\n",
      "[6]\tvalid_0's l2: 0.125574\tvalid_0's l1: 0.269226\n",
      "[7]\tvalid_0's l2: 0.122283\tvalid_0's l1: 0.265306\n",
      "[8]\tvalid_0's l2: 0.119294\tvalid_0's l1: 0.261622\n",
      "[9]\tvalid_0's l2: 0.116548\tvalid_0's l1: 0.258182\n",
      "[10]\tvalid_0's l2: 0.114051\tvalid_0's l1: 0.254978\n",
      "[11]\tvalid_0's l2: 0.111745\tvalid_0's l1: 0.252011\n",
      "[12]\tvalid_0's l2: 0.109671\tvalid_0's l1: 0.249217\n",
      "[13]\tvalid_0's l2: 0.108618\tvalid_0's l1: 0.247695\n",
      "[14]\tvalid_0's l2: 0.107669\tvalid_0's l1: 0.246296\n",
      "[15]\tvalid_0's l2: 0.105894\tvalid_0's l1: 0.243732\n",
      "[16]\tvalid_0's l2: 0.105058\tvalid_0's l1: 0.242458\n",
      "[17]\tvalid_0's l2: 0.103486\tvalid_0's l1: 0.24025\n",
      "[18]\tvalid_0's l2: 0.101985\tvalid_0's l1: 0.238197\n",
      "[19]\tvalid_0's l2: 0.100493\tvalid_0's l1: 0.235997\n",
      "[20]\tvalid_0's l2: 0.0992297\tvalid_0's l1: 0.234203\n",
      "[21]\tvalid_0's l2: 0.0980821\tvalid_0's l1: 0.232434\n",
      "[22]\tvalid_0's l2: 0.0969515\tvalid_0's l1: 0.230653\n",
      "[23]\tvalid_0's l2: 0.0959381\tvalid_0's l1: 0.229184\n",
      "[24]\tvalid_0's l2: 0.0949716\tvalid_0's l1: 0.227605\n",
      "[25]\tvalid_0's l2: 0.0941208\tvalid_0's l1: 0.226292\n",
      "[26]\tvalid_0's l2: 0.0932731\tvalid_0's l1: 0.224866\n",
      "[27]\tvalid_0's l2: 0.0925262\tvalid_0's l1: 0.22371\n",
      "[28]\tvalid_0's l2: 0.0917847\tvalid_0's l1: 0.222451\n",
      "[29]\tvalid_0's l2: 0.0911588\tvalid_0's l1: 0.221275\n",
      "[30]\tvalid_0's l2: 0.0905912\tvalid_0's l1: 0.220297\n",
      "[31]\tvalid_0's l2: 0.090014\tvalid_0's l1: 0.219421\n",
      "[32]\tvalid_0's l2: 0.0894654\tvalid_0's l1: 0.218404\n",
      "[33]\tvalid_0's l2: 0.0889948\tvalid_0's l1: 0.217687\n",
      "[34]\tvalid_0's l2: 0.0886948\tvalid_0's l1: 0.217154\n",
      "[35]\tvalid_0's l2: 0.0883618\tvalid_0's l1: 0.216559\n",
      "[36]\tvalid_0's l2: 0.0881025\tvalid_0's l1: 0.216088\n",
      "[37]\tvalid_0's l2: 0.0875832\tvalid_0's l1: 0.215159\n",
      "[38]\tvalid_0's l2: 0.0870982\tvalid_0's l1: 0.214272\n",
      "[39]\tvalid_0's l2: 0.0867269\tvalid_0's l1: 0.213613\n",
      "[40]\tvalid_0's l2: 0.0863029\tvalid_0's l1: 0.212811\n",
      "[41]\tvalid_0's l2: 0.085974\tvalid_0's l1: 0.212267\n",
      "[42]\tvalid_0's l2: 0.0857407\tvalid_0's l1: 0.211872\n",
      "[43]\tvalid_0's l2: 0.0854183\tvalid_0's l1: 0.211195\n",
      "[44]\tvalid_0's l2: 0.0851322\tvalid_0's l1: 0.210588\n",
      "[45]\tvalid_0's l2: 0.0848064\tvalid_0's l1: 0.210003\n",
      "[46]\tvalid_0's l2: 0.0845229\tvalid_0's l1: 0.209571\n",
      "[47]\tvalid_0's l2: 0.0842578\tvalid_0's l1: 0.209034\n",
      "[48]\tvalid_0's l2: 0.084002\tvalid_0's l1: 0.208573\n",
      "[49]\tvalid_0's l2: 0.0837627\tvalid_0's l1: 0.208184\n",
      "[50]\tvalid_0's l2: 0.0834757\tvalid_0's l1: 0.207582\n",
      "[51]\tvalid_0's l2: 0.0832318\tvalid_0's l1: 0.207121\n",
      "[52]\tvalid_0's l2: 0.0830371\tvalid_0's l1: 0.206812\n",
      "[53]\tvalid_0's l2: 0.0828902\tvalid_0's l1: 0.20655\n",
      "[54]\tvalid_0's l2: 0.0826478\tvalid_0's l1: 0.206023\n",
      "[55]\tvalid_0's l2: 0.0824737\tvalid_0's l1: 0.205682\n",
      "[56]\tvalid_0's l2: 0.082253\tvalid_0's l1: 0.205219\n",
      "[57]\tvalid_0's l2: 0.0820759\tvalid_0's l1: 0.204862\n",
      "[58]\tvalid_0's l2: 0.0818971\tvalid_0's l1: 0.204589\n",
      "[59]\tvalid_0's l2: 0.0816406\tvalid_0's l1: 0.204177\n",
      "[60]\tvalid_0's l2: 0.0814735\tvalid_0's l1: 0.203872\n",
      "[61]\tvalid_0's l2: 0.0812871\tvalid_0's l1: 0.203482\n",
      "[62]\tvalid_0's l2: 0.0811069\tvalid_0's l1: 0.203168\n",
      "[63]\tvalid_0's l2: 0.0809493\tvalid_0's l1: 0.202907\n",
      "[64]\tvalid_0's l2: 0.0808164\tvalid_0's l1: 0.202685\n",
      "[65]\tvalid_0's l2: 0.0806128\tvalid_0's l1: 0.202371\n",
      "[66]\tvalid_0's l2: 0.0804889\tvalid_0's l1: 0.202139\n",
      "[67]\tvalid_0's l2: 0.0803417\tvalid_0's l1: 0.201856\n",
      "[68]\tvalid_0's l2: 0.0801711\tvalid_0's l1: 0.201592\n",
      "[69]\tvalid_0's l2: 0.0800395\tvalid_0's l1: 0.201361\n",
      "[70]\tvalid_0's l2: 0.0799164\tvalid_0's l1: 0.201134\n",
      "[71]\tvalid_0's l2: 0.0797812\tvalid_0's l1: 0.200903\n",
      "[72]\tvalid_0's l2: 0.0796584\tvalid_0's l1: 0.200666\n",
      "[73]\tvalid_0's l2: 0.0795336\tvalid_0's l1: 0.200457\n",
      "[74]\tvalid_0's l2: 0.0794337\tvalid_0's l1: 0.200312\n",
      "[75]\tvalid_0's l2: 0.0793071\tvalid_0's l1: 0.200091\n",
      "[76]\tvalid_0's l2: 0.0791695\tvalid_0's l1: 0.199838\n",
      "[77]\tvalid_0's l2: 0.0790662\tvalid_0's l1: 0.199664\n",
      "[78]\tvalid_0's l2: 0.078965\tvalid_0's l1: 0.199474\n",
      "[79]\tvalid_0's l2: 0.078869\tvalid_0's l1: 0.199306\n",
      "[80]\tvalid_0's l2: 0.0787635\tvalid_0's l1: 0.199127\n",
      "[81]\tvalid_0's l2: 0.0786515\tvalid_0's l1: 0.198897\n",
      "[82]\tvalid_0's l2: 0.0785511\tvalid_0's l1: 0.198728\n",
      "[83]\tvalid_0's l2: 0.0784637\tvalid_0's l1: 0.198574\n",
      "[84]\tvalid_0's l2: 0.0783787\tvalid_0's l1: 0.198449\n",
      "[85]\tvalid_0's l2: 0.0782834\tvalid_0's l1: 0.198307\n",
      "[86]\tvalid_0's l2: 0.0782049\tvalid_0's l1: 0.198148\n",
      "[87]\tvalid_0's l2: 0.0780778\tvalid_0's l1: 0.197934\n",
      "[88]\tvalid_0's l2: 0.0779897\tvalid_0's l1: 0.197822\n",
      "[89]\tvalid_0's l2: 0.0778953\tvalid_0's l1: 0.19762\n",
      "[90]\tvalid_0's l2: 0.0777258\tvalid_0's l1: 0.197349\n",
      "[91]\tvalid_0's l2: 0.0776422\tvalid_0's l1: 0.197221\n",
      "[92]\tvalid_0's l2: 0.0775701\tvalid_0's l1: 0.197097\n",
      "[93]\tvalid_0's l2: 0.0774761\tvalid_0's l1: 0.19692\n",
      "[94]\tvalid_0's l2: 0.077416\tvalid_0's l1: 0.19683\n",
      "[95]\tvalid_0's l2: 0.0773203\tvalid_0's l1: 0.196677\n",
      "[96]\tvalid_0's l2: 0.0772433\tvalid_0's l1: 0.19657\n",
      "[97]\tvalid_0's l2: 0.0771566\tvalid_0's l1: 0.196397\n",
      "[98]\tvalid_0's l2: 0.077055\tvalid_0's l1: 0.19622\n",
      "[99]\tvalid_0's l2: 0.0769864\tvalid_0's l1: 0.196132\n",
      "[100]\tvalid_0's l2: 0.0768989\tvalid_0's l1: 0.195974\n",
      "Saving model...\n"
     ]
    },
    {
     "data": {
      "text/plain": [
       "<lightgbm.basic.Booster at 0x1c2106fe10>"
      ]
     },
     "execution_count": 29,
     "metadata": {},
     "output_type": "execute_result"
    }
   ],
   "source": [
    "print('Starting training...')\n",
    "# train\n",
    "gbm_simple = lgb.train(params,\n",
    "                simple_train,\n",
    "                valid_sets=simple_test)\n",
    "\n",
    "print('Saving model...')\n",
    "# save model to file\n",
    "gbm_simple.save_model('simple_ml_model.txt')"
   ]
  },
  {
   "cell_type": "code",
   "execution_count": 30,
   "metadata": {},
   "outputs": [],
   "source": [
    "y_pred = gbm_simple.predict(df_test[simple_columns], num_iteration=gbm_simple.best_iteration)"
   ]
  },
  {
   "cell_type": "code",
   "execution_count": 31,
   "metadata": {},
   "outputs": [
    {
     "name": "stdout",
     "output_type": "stream",
     "text": [
      "smape: 32.201023\n"
     ]
    }
   ],
   "source": [
    "simple_smape = smape_error(y_pred, df_test['PercentOccupied'])\n",
    "print('smape: %f' % simple_smape)"
   ]
  },
  {
   "cell_type": "markdown",
   "metadata": {},
   "source": [
    "This only slightly improves the model compared to the baseline"
   ]
  },
  {
   "cell_type": "markdown",
   "metadata": {},
   "source": [
    "# Baseline Timeseries\n",
    "Predict model based on previous values"
   ]
  },
  {
   "cell_type": "markdown",
   "metadata": {},
   "source": [
    "First, predict values based on value 15 minutes ago"
   ]
  },
  {
   "cell_type": "code",
   "execution_count": 32,
   "metadata": {},
   "outputs": [
    {
     "name": "stdout",
     "output_type": "stream",
     "text": [
      "smape: 12.955439\n"
     ]
    }
   ],
   "source": [
    "# shift values by one\n",
    "pred_values = pd.concat([pd.Series([0]), df['PercentOccupied']])\n",
    "timeseries_smape = smape_error(pred_values.values[:-1], df['PercentOccupied'])\n",
    "print('smape: %f' % timeseries_smape)"
   ]
  },
  {
   "cell_type": "markdown",
   "metadata": {},
   "source": [
    "Next, predict value based on value 1 hour ago"
   ]
  },
  {
   "cell_type": "code",
   "execution_count": 33,
   "metadata": {},
   "outputs": [
    {
     "name": "stdout",
     "output_type": "stream",
     "text": [
      "smape: 28.535425\n"
     ]
    }
   ],
   "source": [
    "# shift values by four (i.e. 1 hour)\n",
    "pred_values = pd.concat([pd.Series([0,0,0,0]), df['PaidOccupancy']])\n",
    "timeseries_smape = smape_error(pred_values.values[:-4], df['PaidOccupancy'])\n",
    "print('smape: %f' % timeseries_smape)"
   ]
  },
  {
   "cell_type": "markdown",
   "metadata": {},
   "source": [
    "## SARIMA"
   ]
  },
  {
   "cell_type": "code",
   "execution_count": 66,
   "metadata": {},
   "outputs": [
    {
     "data": {
      "text/html": [
       "<div>\n",
       "<style scoped>\n",
       "    .dataframe tbody tr th:only-of-type {\n",
       "        vertical-align: middle;\n",
       "    }\n",
       "\n",
       "    .dataframe tbody tr th {\n",
       "        vertical-align: top;\n",
       "    }\n",
       "\n",
       "    .dataframe thead th {\n",
       "        text-align: right;\n",
       "    }\n",
       "</style>\n",
       "<table border=\"1\" class=\"dataframe\">\n",
       "  <thead>\n",
       "    <tr style=\"text-align: right;\">\n",
       "      <th></th>\n",
       "      <th>SourceElementKey</th>\n",
       "      <th>OccupancyDateTime</th>\n",
       "      <th>PaidOccupancy</th>\n",
       "      <th>ParkingSpaceCount</th>\n",
       "      <th>PercentOccupied</th>\n",
       "    </tr>\n",
       "  </thead>\n",
       "  <tbody>\n",
       "    <tr>\n",
       "      <td>0</td>\n",
       "      <td>1001</td>\n",
       "      <td>2012-01-03 09:00:00</td>\n",
       "      <td>0.133333</td>\n",
       "      <td>7.0</td>\n",
       "      <td>0.019048</td>\n",
       "    </tr>\n",
       "    <tr>\n",
       "      <td>1</td>\n",
       "      <td>1001</td>\n",
       "      <td>2012-01-03 09:15:00</td>\n",
       "      <td>1.000000</td>\n",
       "      <td>7.0</td>\n",
       "      <td>0.142857</td>\n",
       "    </tr>\n",
       "    <tr>\n",
       "      <td>2</td>\n",
       "      <td>1001</td>\n",
       "      <td>2012-01-03 09:30:00</td>\n",
       "      <td>1.000000</td>\n",
       "      <td>7.0</td>\n",
       "      <td>0.142857</td>\n",
       "    </tr>\n",
       "    <tr>\n",
       "      <td>3</td>\n",
       "      <td>1001</td>\n",
       "      <td>2012-01-03 09:45:00</td>\n",
       "      <td>1.800000</td>\n",
       "      <td>7.0</td>\n",
       "      <td>0.257143</td>\n",
       "    </tr>\n",
       "    <tr>\n",
       "      <td>4</td>\n",
       "      <td>1001</td>\n",
       "      <td>2012-01-03 10:00:00</td>\n",
       "      <td>1.933333</td>\n",
       "      <td>7.0</td>\n",
       "      <td>0.276190</td>\n",
       "    </tr>\n",
       "  </tbody>\n",
       "</table>\n",
       "</div>"
      ],
      "text/plain": [
       "   SourceElementKey   OccupancyDateTime  PaidOccupancy  ParkingSpaceCount  \\\n",
       "0              1001 2012-01-03 09:00:00       0.133333                7.0   \n",
       "1              1001 2012-01-03 09:15:00       1.000000                7.0   \n",
       "2              1001 2012-01-03 09:30:00       1.000000                7.0   \n",
       "3              1001 2012-01-03 09:45:00       1.800000                7.0   \n",
       "4              1001 2012-01-03 10:00:00       1.933333                7.0   \n",
       "\n",
       "   PercentOccupied  \n",
       "0         0.019048  \n",
       "1         0.142857  \n",
       "2         0.142857  \n",
       "3         0.257143  \n",
       "4         0.276190  "
      ]
     },
     "execution_count": 66,
     "metadata": {},
     "output_type": "execute_result"
    }
   ],
   "source": [
    "from sklearn.metrics import mean_squared_error\n",
    "from statsmodels.graphics.tsaplots import plot_acf, plot_pacf\n",
    "df.head()"
   ]
  },
  {
   "cell_type": "code",
   "execution_count": 113,
   "metadata": {},
   "outputs": [
    {
     "data": {
      "text/plain": [
       "array([  1001,   1002,   1006, ..., 135261, 136041, 136322])"
      ]
     },
     "execution_count": 113,
     "metadata": {},
     "output_type": "execute_result"
    }
   ],
   "source": [
    "blockface_detail.sourceelementkey.values"
   ]
  },
  {
   "cell_type": "code",
   "execution_count": 114,
   "metadata": {},
   "outputs": [],
   "source": [
    "block = 1006\n",
    "mask = (df['SourceElementKey'] == block) & (df['OccupancyDateTime'] > ('2019-01-01'))\n",
    "\n",
    "curr = df[mask]\n",
    "pct_occupied = curr.PercentOccupied"
   ]
  },
  {
   "cell_type": "code",
   "execution_count": 115,
   "metadata": {},
   "outputs": [
    {
     "data": {
      "text/html": [
       "<div>\n",
       "<style scoped>\n",
       "    .dataframe tbody tr th:only-of-type {\n",
       "        vertical-align: middle;\n",
       "    }\n",
       "\n",
       "    .dataframe tbody tr th {\n",
       "        vertical-align: top;\n",
       "    }\n",
       "\n",
       "    .dataframe thead th {\n",
       "        text-align: right;\n",
       "    }\n",
       "</style>\n",
       "<table border=\"1\" class=\"dataframe\">\n",
       "  <thead>\n",
       "    <tr style=\"text-align: right;\">\n",
       "      <th></th>\n",
       "      <th>SourceElementKey</th>\n",
       "      <th>OccupancyDateTime</th>\n",
       "      <th>PaidOccupancy</th>\n",
       "      <th>ParkingSpaceCount</th>\n",
       "      <th>PercentOccupied</th>\n",
       "    </tr>\n",
       "  </thead>\n",
       "  <tbody>\n",
       "    <tr>\n",
       "      <td>357711</td>\n",
       "      <td>1006</td>\n",
       "      <td>2019-08-31 09:45:00</td>\n",
       "      <td>1.000000</td>\n",
       "      <td>7.0</td>\n",
       "      <td>0.142857</td>\n",
       "    </tr>\n",
       "    <tr>\n",
       "      <td>357712</td>\n",
       "      <td>1006</td>\n",
       "      <td>2019-08-31 10:00:00</td>\n",
       "      <td>0.133333</td>\n",
       "      <td>7.0</td>\n",
       "      <td>0.019048</td>\n",
       "    </tr>\n",
       "    <tr>\n",
       "      <td>357713</td>\n",
       "      <td>1006</td>\n",
       "      <td>2019-08-31 10:15:00</td>\n",
       "      <td>1.000000</td>\n",
       "      <td>7.0</td>\n",
       "      <td>0.142857</td>\n",
       "    </tr>\n",
       "    <tr>\n",
       "      <td>357714</td>\n",
       "      <td>1006</td>\n",
       "      <td>2019-08-31 10:30:00</td>\n",
       "      <td>1.000000</td>\n",
       "      <td>7.0</td>\n",
       "      <td>0.142857</td>\n",
       "    </tr>\n",
       "    <tr>\n",
       "      <td>357715</td>\n",
       "      <td>1006</td>\n",
       "      <td>2019-08-31 10:45:00</td>\n",
       "      <td>1.333333</td>\n",
       "      <td>7.0</td>\n",
       "      <td>0.190476</td>\n",
       "    </tr>\n",
       "    <tr>\n",
       "      <td>357716</td>\n",
       "      <td>1006</td>\n",
       "      <td>2019-08-31 11:00:00</td>\n",
       "      <td>2.000000</td>\n",
       "      <td>7.0</td>\n",
       "      <td>0.285714</td>\n",
       "    </tr>\n",
       "    <tr>\n",
       "      <td>357717</td>\n",
       "      <td>1006</td>\n",
       "      <td>2019-08-31 11:15:00</td>\n",
       "      <td>2.000000</td>\n",
       "      <td>7.0</td>\n",
       "      <td>0.285714</td>\n",
       "    </tr>\n",
       "    <tr>\n",
       "      <td>357718</td>\n",
       "      <td>1006</td>\n",
       "      <td>2019-08-31 11:30:00</td>\n",
       "      <td>2.000000</td>\n",
       "      <td>7.0</td>\n",
       "      <td>0.285714</td>\n",
       "    </tr>\n",
       "    <tr>\n",
       "      <td>357719</td>\n",
       "      <td>1006</td>\n",
       "      <td>2019-08-31 11:45:00</td>\n",
       "      <td>2.000000</td>\n",
       "      <td>7.0</td>\n",
       "      <td>0.285714</td>\n",
       "    </tr>\n",
       "    <tr>\n",
       "      <td>357720</td>\n",
       "      <td>1006</td>\n",
       "      <td>2019-08-31 12:00:00</td>\n",
       "      <td>2.000000</td>\n",
       "      <td>7.0</td>\n",
       "      <td>0.285714</td>\n",
       "    </tr>\n",
       "    <tr>\n",
       "      <td>357721</td>\n",
       "      <td>1006</td>\n",
       "      <td>2019-08-31 12:15:00</td>\n",
       "      <td>2.866667</td>\n",
       "      <td>7.0</td>\n",
       "      <td>0.409524</td>\n",
       "    </tr>\n",
       "    <tr>\n",
       "      <td>357722</td>\n",
       "      <td>1006</td>\n",
       "      <td>2019-08-31 12:30:00</td>\n",
       "      <td>2.533333</td>\n",
       "      <td>7.0</td>\n",
       "      <td>0.361905</td>\n",
       "    </tr>\n",
       "    <tr>\n",
       "      <td>357723</td>\n",
       "      <td>1006</td>\n",
       "      <td>2019-08-31 12:45:00</td>\n",
       "      <td>0.800000</td>\n",
       "      <td>7.0</td>\n",
       "      <td>0.114286</td>\n",
       "    </tr>\n",
       "    <tr>\n",
       "      <td>357724</td>\n",
       "      <td>1006</td>\n",
       "      <td>2019-08-31 13:00:00</td>\n",
       "      <td>0.000000</td>\n",
       "      <td>7.0</td>\n",
       "      <td>0.000000</td>\n",
       "    </tr>\n",
       "    <tr>\n",
       "      <td>357725</td>\n",
       "      <td>1006</td>\n",
       "      <td>2019-08-31 13:15:00</td>\n",
       "      <td>0.933333</td>\n",
       "      <td>7.0</td>\n",
       "      <td>0.133333</td>\n",
       "    </tr>\n",
       "    <tr>\n",
       "      <td>357726</td>\n",
       "      <td>1006</td>\n",
       "      <td>2019-08-31 13:30:00</td>\n",
       "      <td>1.000000</td>\n",
       "      <td>7.0</td>\n",
       "      <td>0.142857</td>\n",
       "    </tr>\n",
       "    <tr>\n",
       "      <td>357727</td>\n",
       "      <td>1006</td>\n",
       "      <td>2019-08-31 13:45:00</td>\n",
       "      <td>1.600000</td>\n",
       "      <td>7.0</td>\n",
       "      <td>0.228571</td>\n",
       "    </tr>\n",
       "    <tr>\n",
       "      <td>357728</td>\n",
       "      <td>1006</td>\n",
       "      <td>2019-08-31 14:00:00</td>\n",
       "      <td>2.000000</td>\n",
       "      <td>7.0</td>\n",
       "      <td>0.285714</td>\n",
       "    </tr>\n",
       "    <tr>\n",
       "      <td>357729</td>\n",
       "      <td>1006</td>\n",
       "      <td>2019-08-31 14:15:00</td>\n",
       "      <td>2.000000</td>\n",
       "      <td>7.0</td>\n",
       "      <td>0.285714</td>\n",
       "    </tr>\n",
       "    <tr>\n",
       "      <td>357730</td>\n",
       "      <td>1006</td>\n",
       "      <td>2019-08-31 14:30:00</td>\n",
       "      <td>3.800000</td>\n",
       "      <td>7.0</td>\n",
       "      <td>0.542857</td>\n",
       "    </tr>\n",
       "    <tr>\n",
       "      <td>357731</td>\n",
       "      <td>1006</td>\n",
       "      <td>2019-08-31 14:45:00</td>\n",
       "      <td>3.133333</td>\n",
       "      <td>7.0</td>\n",
       "      <td>0.447619</td>\n",
       "    </tr>\n",
       "    <tr>\n",
       "      <td>357732</td>\n",
       "      <td>1006</td>\n",
       "      <td>2019-08-31 15:00:00</td>\n",
       "      <td>4.800000</td>\n",
       "      <td>7.0</td>\n",
       "      <td>0.685714</td>\n",
       "    </tr>\n",
       "    <tr>\n",
       "      <td>357733</td>\n",
       "      <td>1006</td>\n",
       "      <td>2019-08-31 15:15:00</td>\n",
       "      <td>4.800000</td>\n",
       "      <td>7.0</td>\n",
       "      <td>0.685714</td>\n",
       "    </tr>\n",
       "    <tr>\n",
       "      <td>357734</td>\n",
       "      <td>1006</td>\n",
       "      <td>2019-08-31 15:30:00</td>\n",
       "      <td>5.000000</td>\n",
       "      <td>7.0</td>\n",
       "      <td>0.714286</td>\n",
       "    </tr>\n",
       "    <tr>\n",
       "      <td>357735</td>\n",
       "      <td>1006</td>\n",
       "      <td>2019-08-31 15:45:00</td>\n",
       "      <td>5.000000</td>\n",
       "      <td>7.0</td>\n",
       "      <td>0.714286</td>\n",
       "    </tr>\n",
       "    <tr>\n",
       "      <td>357736</td>\n",
       "      <td>1006</td>\n",
       "      <td>2019-08-31 16:00:00</td>\n",
       "      <td>3.866667</td>\n",
       "      <td>7.0</td>\n",
       "      <td>0.552381</td>\n",
       "    </tr>\n",
       "    <tr>\n",
       "      <td>357737</td>\n",
       "      <td>1006</td>\n",
       "      <td>2019-08-31 16:15:00</td>\n",
       "      <td>4.000000</td>\n",
       "      <td>7.0</td>\n",
       "      <td>0.571429</td>\n",
       "    </tr>\n",
       "    <tr>\n",
       "      <td>357738</td>\n",
       "      <td>1006</td>\n",
       "      <td>2019-08-31 16:30:00</td>\n",
       "      <td>4.000000</td>\n",
       "      <td>7.0</td>\n",
       "      <td>0.571429</td>\n",
       "    </tr>\n",
       "    <tr>\n",
       "      <td>357739</td>\n",
       "      <td>1006</td>\n",
       "      <td>2019-08-31 16:45:00</td>\n",
       "      <td>5.133333</td>\n",
       "      <td>7.0</td>\n",
       "      <td>0.733333</td>\n",
       "    </tr>\n",
       "    <tr>\n",
       "      <td>357740</td>\n",
       "      <td>1006</td>\n",
       "      <td>2019-08-31 17:00:00</td>\n",
       "      <td>5.600000</td>\n",
       "      <td>7.0</td>\n",
       "      <td>0.800000</td>\n",
       "    </tr>\n",
       "    <tr>\n",
       "      <td>357741</td>\n",
       "      <td>1006</td>\n",
       "      <td>2019-08-31 17:15:00</td>\n",
       "      <td>5.000000</td>\n",
       "      <td>7.0</td>\n",
       "      <td>0.714286</td>\n",
       "    </tr>\n",
       "    <tr>\n",
       "      <td>357742</td>\n",
       "      <td>1006</td>\n",
       "      <td>2019-08-31 17:30:00</td>\n",
       "      <td>3.200000</td>\n",
       "      <td>7.0</td>\n",
       "      <td>0.457143</td>\n",
       "    </tr>\n",
       "    <tr>\n",
       "      <td>357743</td>\n",
       "      <td>1006</td>\n",
       "      <td>2019-08-31 17:45:00</td>\n",
       "      <td>2.000000</td>\n",
       "      <td>7.0</td>\n",
       "      <td>0.285714</td>\n",
       "    </tr>\n",
       "    <tr>\n",
       "      <td>357744</td>\n",
       "      <td>1006</td>\n",
       "      <td>2019-08-31 18:00:00</td>\n",
       "      <td>1.000000</td>\n",
       "      <td>7.0</td>\n",
       "      <td>0.142857</td>\n",
       "    </tr>\n",
       "    <tr>\n",
       "      <td>357745</td>\n",
       "      <td>1006</td>\n",
       "      <td>2019-08-31 18:15:00</td>\n",
       "      <td>1.533333</td>\n",
       "      <td>7.0</td>\n",
       "      <td>0.219048</td>\n",
       "    </tr>\n",
       "    <tr>\n",
       "      <td>357746</td>\n",
       "      <td>1006</td>\n",
       "      <td>2019-08-31 18:30:00</td>\n",
       "      <td>2.000000</td>\n",
       "      <td>7.0</td>\n",
       "      <td>0.285714</td>\n",
       "    </tr>\n",
       "    <tr>\n",
       "      <td>357747</td>\n",
       "      <td>1006</td>\n",
       "      <td>2019-08-31 18:45:00</td>\n",
       "      <td>3.666667</td>\n",
       "      <td>7.0</td>\n",
       "      <td>0.523810</td>\n",
       "    </tr>\n",
       "    <tr>\n",
       "      <td>357748</td>\n",
       "      <td>1006</td>\n",
       "      <td>2019-08-31 19:00:00</td>\n",
       "      <td>2.066667</td>\n",
       "      <td>7.0</td>\n",
       "      <td>0.295238</td>\n",
       "    </tr>\n",
       "  </tbody>\n",
       "</table>\n",
       "</div>"
      ],
      "text/plain": [
       "        SourceElementKey   OccupancyDateTime  PaidOccupancy  \\\n",
       "357711              1006 2019-08-31 09:45:00       1.000000   \n",
       "357712              1006 2019-08-31 10:00:00       0.133333   \n",
       "357713              1006 2019-08-31 10:15:00       1.000000   \n",
       "357714              1006 2019-08-31 10:30:00       1.000000   \n",
       "357715              1006 2019-08-31 10:45:00       1.333333   \n",
       "357716              1006 2019-08-31 11:00:00       2.000000   \n",
       "357717              1006 2019-08-31 11:15:00       2.000000   \n",
       "357718              1006 2019-08-31 11:30:00       2.000000   \n",
       "357719              1006 2019-08-31 11:45:00       2.000000   \n",
       "357720              1006 2019-08-31 12:00:00       2.000000   \n",
       "357721              1006 2019-08-31 12:15:00       2.866667   \n",
       "357722              1006 2019-08-31 12:30:00       2.533333   \n",
       "357723              1006 2019-08-31 12:45:00       0.800000   \n",
       "357724              1006 2019-08-31 13:00:00       0.000000   \n",
       "357725              1006 2019-08-31 13:15:00       0.933333   \n",
       "357726              1006 2019-08-31 13:30:00       1.000000   \n",
       "357727              1006 2019-08-31 13:45:00       1.600000   \n",
       "357728              1006 2019-08-31 14:00:00       2.000000   \n",
       "357729              1006 2019-08-31 14:15:00       2.000000   \n",
       "357730              1006 2019-08-31 14:30:00       3.800000   \n",
       "357731              1006 2019-08-31 14:45:00       3.133333   \n",
       "357732              1006 2019-08-31 15:00:00       4.800000   \n",
       "357733              1006 2019-08-31 15:15:00       4.800000   \n",
       "357734              1006 2019-08-31 15:30:00       5.000000   \n",
       "357735              1006 2019-08-31 15:45:00       5.000000   \n",
       "357736              1006 2019-08-31 16:00:00       3.866667   \n",
       "357737              1006 2019-08-31 16:15:00       4.000000   \n",
       "357738              1006 2019-08-31 16:30:00       4.000000   \n",
       "357739              1006 2019-08-31 16:45:00       5.133333   \n",
       "357740              1006 2019-08-31 17:00:00       5.600000   \n",
       "357741              1006 2019-08-31 17:15:00       5.000000   \n",
       "357742              1006 2019-08-31 17:30:00       3.200000   \n",
       "357743              1006 2019-08-31 17:45:00       2.000000   \n",
       "357744              1006 2019-08-31 18:00:00       1.000000   \n",
       "357745              1006 2019-08-31 18:15:00       1.533333   \n",
       "357746              1006 2019-08-31 18:30:00       2.000000   \n",
       "357747              1006 2019-08-31 18:45:00       3.666667   \n",
       "357748              1006 2019-08-31 19:00:00       2.066667   \n",
       "\n",
       "        ParkingSpaceCount  PercentOccupied  \n",
       "357711                7.0         0.142857  \n",
       "357712                7.0         0.019048  \n",
       "357713                7.0         0.142857  \n",
       "357714                7.0         0.142857  \n",
       "357715                7.0         0.190476  \n",
       "357716                7.0         0.285714  \n",
       "357717                7.0         0.285714  \n",
       "357718                7.0         0.285714  \n",
       "357719                7.0         0.285714  \n",
       "357720                7.0         0.285714  \n",
       "357721                7.0         0.409524  \n",
       "357722                7.0         0.361905  \n",
       "357723                7.0         0.114286  \n",
       "357724                7.0         0.000000  \n",
       "357725                7.0         0.133333  \n",
       "357726                7.0         0.142857  \n",
       "357727                7.0         0.228571  \n",
       "357728                7.0         0.285714  \n",
       "357729                7.0         0.285714  \n",
       "357730                7.0         0.542857  \n",
       "357731                7.0         0.447619  \n",
       "357732                7.0         0.685714  \n",
       "357733                7.0         0.685714  \n",
       "357734                7.0         0.714286  \n",
       "357735                7.0         0.714286  \n",
       "357736                7.0         0.552381  \n",
       "357737                7.0         0.571429  \n",
       "357738                7.0         0.571429  \n",
       "357739                7.0         0.733333  \n",
       "357740                7.0         0.800000  \n",
       "357741                7.0         0.714286  \n",
       "357742                7.0         0.457143  \n",
       "357743                7.0         0.285714  \n",
       "357744                7.0         0.142857  \n",
       "357745                7.0         0.219048  \n",
       "357746                7.0         0.285714  \n",
       "357747                7.0         0.523810  \n",
       "357748                7.0         0.295238  "
      ]
     },
     "execution_count": 115,
     "metadata": {},
     "output_type": "execute_result"
    }
   ],
   "source": [
    "curr.tail(38)"
   ]
  },
  {
   "cell_type": "code",
   "execution_count": 116,
   "metadata": {},
   "outputs": [
    {
     "data": {
      "image/png": "[encoded data removed]",
      "text/plain": [
       "<Figure size 432x288 with 1 Axes>"
      ]
     },
     "metadata": {
      "needs_background": "light"
     },
     "output_type": "display_data"
    }
   ],
   "source": [
    "plt.figure()\n",
    "plt.plot(curr.OccupancyDateTime, curr.PercentOccupied)\n",
    "plt.show()"
   ]
  },
  {
   "cell_type": "code",
   "execution_count": 118,
   "metadata": {
    "scrolled": true
   },
   "outputs": [
    {
     "data": {
      "image/png": "[encoded data removed]",
      "text/plain": [
       "<Figure size 720x720 with 4 Axes>"
      ]
     },
     "metadata": {
      "needs_background": "light"
     },
     "output_type": "display_data"
    }
   ],
   "source": [
    "\n",
    "lags = np.arange(45, 1000, 45)\n",
    "\n",
    "fig, axs = plt.subplots(2,2, figsize=(10,10))\n",
    "\n",
    "(ax1, ax2, ax3, ax4) = axs.ravel()\n",
    "plot_acf(pct_occupied, ax=ax1, lags=np.arange(50))\n",
    "ax1.axvline(45)\n",
    "plot_pacf(pct_occupied, ax=ax2, lags=np.arange(50))\n",
    "plot_acf(pct_occupied, ax=ax3, lags=lags)\n",
    "plot_pacf(pct_occupied, ax=ax4, lags=lags)\n",
    "#ax1.axvline(36)\n",
    "plt.show()"
   ]
  },
  {
   "cell_type": "code",
   "execution_count": 119,
   "metadata": {},
   "outputs": [
    {
     "data": {
      "text/plain": [
       "348663    0.000000\n",
       "348664    0.000000\n",
       "348665    0.000000\n",
       "348666    0.000000\n",
       "348667    0.000000\n",
       "            ...   \n",
       "357744    0.142857\n",
       "357745    0.219048\n",
       "357746    0.285714\n",
       "357747    0.523810\n",
       "357748    0.295238\n",
       "Name: PercentOccupied, Length: 9086, dtype: float64"
      ]
     },
     "execution_count": 119,
     "metadata": {},
     "output_type": "execute_result"
    }
   ],
   "source": [
    "pct_occupied"
   ]
  },
  {
   "cell_type": "code",
   "execution_count": null,
   "metadata": {
    "scrolled": true
   },
   "outputs": [
    {
     "name": "stdout",
     "output_type": "stream",
     "text": [
      "9086\n"
     ]
    },
    {
     "name": "stderr",
     "output_type": "stream",
     "text": [
      "/Users/bethanys08/.pyenv/versions/anaconda3-2019.03/envs/myenv2/lib/python3.7/site-packages/pmdarima/arima/auto.py:229: UserWarning: stepwise model cannot be fit in parallel (n_jobs=1). Falling back to stepwise parameter search.\n",
      "  'Falling back to stepwise parameter search.' % n_jobs)\n",
      "/Users/bethanys08/.pyenv/versions/anaconda3-2019.03/envs/myenv2/lib/python3.7/site-packages/statsmodels/base/model.py:512: ConvergenceWarning: Maximum Likelihood optimization failed to converge. Check mle_retvals\n",
      "  \"Check mle_retvals\", ConvergenceWarning)\n"
     ]
    },
    {
     "name": "stdout",
     "output_type": "stream",
     "text": [
      "Fit ARIMA: order=(2, 1, 2) seasonal_order=(1, 0, 1, 45); AIC=-10749.514, BIC=-10694.134, Fit time=297.568 seconds\n",
      "Fit ARIMA: order=(0, 1, 0) seasonal_order=(0, 0, 0, 45); AIC=-8734.292, BIC=-8720.447, Fit time=0.934 seconds\n",
      "Fit ARIMA: order=(1, 1, 0) seasonal_order=(1, 0, 0, 45); AIC=-9285.689, BIC=-9257.999, Fit time=53.200 seconds\n",
      "Fit ARIMA: order=(0, 1, 1) seasonal_order=(0, 0, 1, 45); AIC=-9136.033, BIC=-9108.343, Fit time=62.092 seconds\n"
     ]
    },
    {
     "name": "stderr",
     "output_type": "stream",
     "text": [
      "/Users/bethanys08/.pyenv/versions/anaconda3-2019.03/envs/myenv2/lib/python3.7/site-packages/statsmodels/base/model.py:512: ConvergenceWarning: Maximum Likelihood optimization failed to converge. Check mle_retvals\n",
      "  \"Check mle_retvals\", ConvergenceWarning)\n"
     ]
    },
    {
     "name": "stdout",
     "output_type": "stream",
     "text": [
      "Fit ARIMA: order=(2, 1, 2) seasonal_order=(0, 0, 1, 45); AIC=-9948.850, BIC=-9900.393, Fit time=261.024 seconds\n"
     ]
    },
    {
     "name": "stderr",
     "output_type": "stream",
     "text": [
      "/Users/bethanys08/.pyenv/versions/anaconda3-2019.03/envs/myenv2/lib/python3.7/site-packages/statsmodels/base/model.py:512: ConvergenceWarning: Maximum Likelihood optimization failed to converge. Check mle_retvals\n",
      "  \"Check mle_retvals\", ConvergenceWarning)\n"
     ]
    },
    {
     "name": "stdout",
     "output_type": "stream",
     "text": [
      "Fit ARIMA: order=(2, 1, 2) seasonal_order=(2, 0, 1, 45); AIC=-10550.239, BIC=-10487.936, Fit time=1735.473 seconds\n"
     ]
    },
    {
     "name": "stderr",
     "output_type": "stream",
     "text": [
      "/Users/bethanys08/.pyenv/versions/anaconda3-2019.03/envs/myenv2/lib/python3.7/site-packages/statsmodels/base/model.py:512: ConvergenceWarning: Maximum Likelihood optimization failed to converge. Check mle_retvals\n",
      "  \"Check mle_retvals\", ConvergenceWarning)\n"
     ]
    },
    {
     "name": "stdout",
     "output_type": "stream",
     "text": [
      "Fit ARIMA: order=(2, 1, 2) seasonal_order=(1, 0, 0, 45); AIC=-10085.020, BIC=-10036.562, Fit time=232.969 seconds\n"
     ]
    },
    {
     "name": "stderr",
     "output_type": "stream",
     "text": [
      "/Users/bethanys08/.pyenv/versions/anaconda3-2019.03/envs/myenv2/lib/python3.7/site-packages/statsmodels/base/model.py:512: ConvergenceWarning: Maximum Likelihood optimization failed to converge. Check mle_retvals\n",
      "  \"Check mle_retvals\", ConvergenceWarning)\n"
     ]
    },
    {
     "name": "stdout",
     "output_type": "stream",
     "text": [
      "Fit ARIMA: order=(2, 1, 2) seasonal_order=(1, 0, 2, 45); AIC=-10576.032, BIC=-10513.730, Fit time=1705.166 seconds\n"
     ]
    },
    {
     "name": "stderr",
     "output_type": "stream",
     "text": [
      "/Users/bethanys08/.pyenv/versions/anaconda3-2019.03/envs/myenv2/lib/python3.7/site-packages/statsmodels/base/model.py:512: ConvergenceWarning: Maximum Likelihood optimization failed to converge. Check mle_retvals\n",
      "  \"Check mle_retvals\", ConvergenceWarning)\n"
     ]
    },
    {
     "name": "stdout",
     "output_type": "stream",
     "text": [
      "Fit ARIMA: order=(2, 1, 2) seasonal_order=(0, 0, 0, 45); AIC=-9510.843, BIC=-9469.308, Fit time=9.665 seconds\n"
     ]
    },
    {
     "name": "stderr",
     "output_type": "stream",
     "text": [
      "/Users/bethanys08/.pyenv/versions/anaconda3-2019.03/envs/myenv2/lib/python3.7/site-packages/statsmodels/base/model.py:512: ConvergenceWarning: Maximum Likelihood optimization failed to converge. Check mle_retvals\n",
      "  \"Check mle_retvals\", ConvergenceWarning)\n"
     ]
    },
    {
     "name": "stdout",
     "output_type": "stream",
     "text": [
      "Fit ARIMA: order=(2, 1, 2) seasonal_order=(2, 0, 2, 45); AIC=-11035.499, BIC=-10966.274, Fit time=1846.910 seconds\n"
     ]
    },
    {
     "name": "stderr",
     "output_type": "stream",
     "text": [
      "/Users/bethanys08/.pyenv/versions/anaconda3-2019.03/envs/myenv2/lib/python3.7/site-packages/statsmodels/base/model.py:512: ConvergenceWarning: Maximum Likelihood optimization failed to converge. Check mle_retvals\n",
      "  \"Check mle_retvals\", ConvergenceWarning)\n"
     ]
    },
    {
     "name": "stdout",
     "output_type": "stream",
     "text": [
      "Fit ARIMA: order=(1, 1, 2) seasonal_order=(2, 0, 2, 45); AIC=-11126.413, BIC=-11064.110, Fit time=1696.164 seconds\n"
     ]
    },
    {
     "name": "stderr",
     "output_type": "stream",
     "text": [
      "/Users/bethanys08/.pyenv/versions/anaconda3-2019.03/envs/myenv2/lib/python3.7/site-packages/statsmodels/tsa/statespace/sarimax.py:949: UserWarning: Non-stationary starting autoregressive parameters found. Using zeros as starting parameters.\n",
      "  warn('Non-stationary starting autoregressive parameters'\n",
      "/Users/bethanys08/.pyenv/versions/anaconda3-2019.03/envs/myenv2/lib/python3.7/site-packages/statsmodels/tsa/statespace/sarimax.py:961: UserWarning: Non-invertible starting MA parameters found. Using zeros as starting parameters.\n",
      "  warn('Non-invertible starting MA parameters found.'\n",
      "/Users/bethanys08/.pyenv/versions/anaconda3-2019.03/envs/myenv2/lib/python3.7/site-packages/statsmodels/base/model.py:512: ConvergenceWarning: Maximum Likelihood optimization failed to converge. Check mle_retvals\n",
      "  \"Check mle_retvals\", ConvergenceWarning)\n"
     ]
    },
    {
     "name": "stdout",
     "output_type": "stream",
     "text": [
      "Fit ARIMA: order=(1, 1, 1) seasonal_order=(2, 0, 2, 45); AIC=-10770.097, BIC=-10714.717, Fit time=1977.132 seconds\n"
     ]
    }
   ],
   "source": [
    "from pmdarima.arima import ARIMA\n",
    "#for block in blockface_detail.sourceelementkey.values[:1]:\n",
    "print(len(pct_occupied))\n",
    "\n",
    "\n",
    "tr, tt = pct_occupied.iloc[:7500], pct_occupied.iloc[7500:]\n",
    "\n",
    "mdl = auto_arima(tr, error_action='ignore', trace=True,\n",
    "                      seasonal=True, m=45, n_jobs=-1)\n",
    "preds, conf_int = mdl.predict(n_periods=tt.shape[0], return_conf_int=True)\n",
    "\n",
    "\n",
    "print(\"Test RMSE: %.3f\" % np.sqrt(mean_squared_error(tt, preds)))\n",
    "\n",
    "# #############################################################################\n",
    "# Plot the points and the forecasts\n",
    "x_axis = np.arange(tr.shape[0] + preds.shape[0])\n",
    "x_years = x_axis + 0  # Year starts at 1821\n",
    "plt.figure()\n",
    "plt.plot(x_years[x_axis[:tr.shape[0]]], tr, alpha=0.75)\n",
    "plt.plot(x_years[x_axis[tr.shape[0]:]], preds, alpha=0.75)  # Forecasts\n",
    "plt.scatter(x_years[x_axis[tr.shape[0]:]], tt,\n",
    "            alpha=0.4, marker='x')  # Test data\n",
    "plt.fill_between(x_years[x_axis[-preds.shape[0]:]],\n",
    "                 conf_int[:, 0], conf_int[:, 1],\n",
    "                 alpha=0.1, color='b')\n",
    "plt.title(\"Parking\")\n",
    "#plt.xlabel(\"Year\")\n",
    "plt.show()"
   ]
  },
  {
   "cell_type": "code",
   "execution_count": 35,
   "metadata": {},
   "outputs": [],
   "source": [
    "def using_Grouper(df):\n",
    "    level_values = df.index.get_level_values\n",
    "    return (df.groupby([level_values(0)]\n",
    "                       +[pd.Grouper(freq='1D', level=-1)]).sum())"
   ]
  },
  {
   "cell_type": "code",
   "execution_count": 36,
   "metadata": {},
   "outputs": [],
   "source": [
    "daily_data = using_Grouper(pd.read_pickle('1.collect_data/data_files/15min.pkl').dropna())\n"
   ]
  },
  {
   "cell_type": "code",
   "execution_count": 37,
   "metadata": {},
   "outputs": [
    {
     "data": {
      "text/html": [
       "<div>\n",
       "<style scoped>\n",
       "    .dataframe tbody tr th:only-of-type {\n",
       "        vertical-align: middle;\n",
       "    }\n",
       "\n",
       "    .dataframe tbody tr th {\n",
       "        vertical-align: top;\n",
       "    }\n",
       "\n",
       "    .dataframe thead th {\n",
       "        text-align: right;\n",
       "    }\n",
       "</style>\n",
       "<table border=\"1\" class=\"dataframe\">\n",
       "  <thead>\n",
       "    <tr style=\"text-align: right;\">\n",
       "      <th></th>\n",
       "      <th></th>\n",
       "      <th>PaidOccupancy</th>\n",
       "      <th>ParkingSpaceCount</th>\n",
       "      <th>PercentOccupied</th>\n",
       "    </tr>\n",
       "    <tr>\n",
       "      <th>SourceElementKey</th>\n",
       "      <th>OccupancyDateTime</th>\n",
       "      <th></th>\n",
       "      <th></th>\n",
       "      <th></th>\n",
       "    </tr>\n",
       "  </thead>\n",
       "  <tbody>\n",
       "    <tr>\n",
       "      <td rowspan=\"5\" valign=\"top\">1001</td>\n",
       "      <td>2012-01-03</td>\n",
       "      <td>65.019349</td>\n",
       "      <td>227.468172</td>\n",
       "      <td>9.382775</td>\n",
       "    </tr>\n",
       "    <tr>\n",
       "      <td>2012-01-04</td>\n",
       "      <td>54.146468</td>\n",
       "      <td>253.898471</td>\n",
       "      <td>7.871416</td>\n",
       "    </tr>\n",
       "    <tr>\n",
       "      <td>2012-01-05</td>\n",
       "      <td>66.146468</td>\n",
       "      <td>253.898471</td>\n",
       "      <td>9.585702</td>\n",
       "    </tr>\n",
       "    <tr>\n",
       "      <td>2012-01-06</td>\n",
       "      <td>75.914688</td>\n",
       "      <td>254.290896</td>\n",
       "      <td>10.970685</td>\n",
       "    </tr>\n",
       "    <tr>\n",
       "      <td>2012-01-07</td>\n",
       "      <td>64.400000</td>\n",
       "      <td>259.000000</td>\n",
       "      <td>9.200000</td>\n",
       "    </tr>\n",
       "  </tbody>\n",
       "</table>\n",
       "</div>"
      ],
      "text/plain": [
       "                                    PaidOccupancy  ParkingSpaceCount  \\\n",
       "SourceElementKey OccupancyDateTime                                     \n",
       "1001             2012-01-03             65.019349         227.468172   \n",
       "                 2012-01-04             54.146468         253.898471   \n",
       "                 2012-01-05             66.146468         253.898471   \n",
       "                 2012-01-06             75.914688         254.290896   \n",
       "                 2012-01-07             64.400000         259.000000   \n",
       "\n",
       "                                    PercentOccupied  \n",
       "SourceElementKey OccupancyDateTime                   \n",
       "1001             2012-01-03                9.382775  \n",
       "                 2012-01-04                7.871416  \n",
       "                 2012-01-05                9.585702  \n",
       "                 2012-01-06               10.970685  \n",
       "                 2012-01-07                9.200000  "
      ]
     },
     "execution_count": 37,
     "metadata": {},
     "output_type": "execute_result"
    }
   ],
   "source": [
    "daily_data.head()"
   ]
  },
  {
   "cell_type": "code",
   "execution_count": 38,
   "metadata": {},
   "outputs": [
    {
     "name": "stdout",
     "output_type": "stream",
     "text": [
      "smape: 19.771590\n"
     ]
    }
   ],
   "source": [
    "# shift values by one\n",
    "pred_values = pd.concat([pd.Series([0]), daily_data['PaidOccupancy']])\n",
    "timeseries_smape = smape_error(pred_values.values[:-1], daily_data['PaidOccupancy'])\n",
    "print('smape: %f' % timeseries_smape)"
   ]
  },
  {
   "cell_type": "code",
   "execution_count": null,
   "metadata": {},
   "outputs": [],
   "source": []
  }
 ],
 "metadata": {
  "kernelspec": {
   "display_name": "Python 3",
   "language": "python",
   "name": "python3"
  },
  "language_info": {
   "codemirror_mode": {
    "name": "ipython",
    "version": 3
   },
   "file_extension": ".py",
   "mimetype": "text/x-python",
   "name": "python",
   "nbconvert_exporter": "python",
   "pygments_lexer": "ipython3",
   "version": "3.7.4"
  }
 },
 "nbformat": 4,
 "nbformat_minor": 2
}
