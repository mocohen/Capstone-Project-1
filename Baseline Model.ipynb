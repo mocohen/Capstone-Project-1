{
 "cells": [
  {
   "cell_type": "code",
   "execution_count": 171,
   "metadata": {},
   "outputs": [],
   "source": [
    "import pandas as pd\n",
    "import numpy as np\n",
    "from sklearn.model_selection import train_test_split\n",
    "import lightgbm as lgb\n",
    "from statsmodels.tsa.seasonal import seasonal_decompose\n",
    "import matplotlib.pyplot as plt\n",
    "%matplotlib inline"
   ]
  },
  {
   "cell_type": "code",
   "execution_count": 122,
   "metadata": {},
   "outputs": [
    {
     "name": "stdout",
     "output_type": "stream",
     "text": [
      "15min.pkl                      2018.pkl\r\n",
      "2012.csv.zip                   2019.csv.zip\r\n",
      "2012.pkl                       2019.pkl\r\n",
      "2013.csv.zip                   48hrs.pkl\r\n",
      "2013.pkl                       5min.2019.pkl\r\n",
      "2014.csv.zip                   5min.pkl\r\n",
      "2014.pkl                       Annual_Parking_Study_Data.csv\r\n",
      "2015.csv.zip                   Blockface.csv\r\n",
      "2015.pkl                       fixed.zip\r\n",
      "2016.csv.zip                   kaggle_usholidays.csv\r\n",
      "2016.pkl                       make_five_min_freq.py\r\n",
      "2017.csv.zip                   \u001b[34mtest\u001b[m\u001b[m\r\n",
      "2017.pkl                       transpose_and_trim_five_min.py\r\n",
      "2018.csv.zip                   \u001b[34mweather\u001b[m\u001b[m\r\n"
     ]
    }
   ],
   "source": [
    "!ls 1.collect_data/data_files/"
   ]
  },
  {
   "cell_type": "code",
   "execution_count": 123,
   "metadata": {},
   "outputs": [],
   "source": [
    "df = pd.read_pickle('1.collect_data/data_files/15min.pkl').dropna()"
   ]
  },
  {
   "cell_type": "code",
   "execution_count": 124,
   "metadata": {},
   "outputs": [
    {
     "data": {
      "text/html": [
       "<div>\n",
       "<style scoped>\n",
       "    .dataframe tbody tr th:only-of-type {\n",
       "        vertical-align: middle;\n",
       "    }\n",
       "\n",
       "    .dataframe tbody tr th {\n",
       "        vertical-align: top;\n",
       "    }\n",
       "\n",
       "    .dataframe thead th {\n",
       "        text-align: right;\n",
       "    }\n",
       "</style>\n",
       "<table border=\"1\" class=\"dataframe\">\n",
       "  <thead>\n",
       "    <tr style=\"text-align: right;\">\n",
       "      <th></th>\n",
       "      <th></th>\n",
       "      <th>PaidOccupancy</th>\n",
       "      <th>ParkingSpaceCount</th>\n",
       "      <th>PercentOccupied</th>\n",
       "    </tr>\n",
       "    <tr>\n",
       "      <th>SourceElementKey</th>\n",
       "      <th>OccupancyDateTime</th>\n",
       "      <th></th>\n",
       "      <th></th>\n",
       "      <th></th>\n",
       "    </tr>\n",
       "  </thead>\n",
       "  <tbody>\n",
       "    <tr>\n",
       "      <th rowspan=\"5\" valign=\"top\">1001</th>\n",
       "      <th>2012-01-03 09:00:00</th>\n",
       "      <td>0.133333</td>\n",
       "      <td>7.0</td>\n",
       "      <td>0.019048</td>\n",
       "    </tr>\n",
       "    <tr>\n",
       "      <th>2012-01-03 09:15:00</th>\n",
       "      <td>1.000000</td>\n",
       "      <td>7.0</td>\n",
       "      <td>0.142857</td>\n",
       "    </tr>\n",
       "    <tr>\n",
       "      <th>2012-01-03 09:30:00</th>\n",
       "      <td>1.000000</td>\n",
       "      <td>7.0</td>\n",
       "      <td>0.142857</td>\n",
       "    </tr>\n",
       "    <tr>\n",
       "      <th>2012-01-03 09:45:00</th>\n",
       "      <td>1.800000</td>\n",
       "      <td>7.0</td>\n",
       "      <td>0.257143</td>\n",
       "    </tr>\n",
       "    <tr>\n",
       "      <th>2012-01-03 10:00:00</th>\n",
       "      <td>1.933333</td>\n",
       "      <td>7.0</td>\n",
       "      <td>0.276190</td>\n",
       "    </tr>\n",
       "  </tbody>\n",
       "</table>\n",
       "</div>"
      ],
      "text/plain": [
       "                                      PaidOccupancy  ParkingSpaceCount  \\\n",
       "SourceElementKey OccupancyDateTime                                       \n",
       "1001             2012-01-03 09:00:00       0.133333                7.0   \n",
       "                 2012-01-03 09:15:00       1.000000                7.0   \n",
       "                 2012-01-03 09:30:00       1.000000                7.0   \n",
       "                 2012-01-03 09:45:00       1.800000                7.0   \n",
       "                 2012-01-03 10:00:00       1.933333                7.0   \n",
       "\n",
       "                                      PercentOccupied  \n",
       "SourceElementKey OccupancyDateTime                     \n",
       "1001             2012-01-03 09:00:00         0.019048  \n",
       "                 2012-01-03 09:15:00         0.142857  \n",
       "                 2012-01-03 09:30:00         0.142857  \n",
       "                 2012-01-03 09:45:00         0.257143  \n",
       "                 2012-01-03 10:00:00         0.276190  "
      ]
     },
     "execution_count": 124,
     "metadata": {},
     "output_type": "execute_result"
    }
   ],
   "source": [
    "df.head()"
   ]
  },
  {
   "cell_type": "code",
   "execution_count": 125,
   "metadata": {},
   "outputs": [],
   "source": [
    "df.reset_index(inplace=True)"
   ]
  },
  {
   "cell_type": "code",
   "execution_count": 126,
   "metadata": {},
   "outputs": [
    {
     "data": {
      "text/html": [
       "<div>\n",
       "<style scoped>\n",
       "    .dataframe tbody tr th:only-of-type {\n",
       "        vertical-align: middle;\n",
       "    }\n",
       "\n",
       "    .dataframe tbody tr th {\n",
       "        vertical-align: top;\n",
       "    }\n",
       "\n",
       "    .dataframe thead th {\n",
       "        text-align: right;\n",
       "    }\n",
       "</style>\n",
       "<table border=\"1\" class=\"dataframe\">\n",
       "  <thead>\n",
       "    <tr style=\"text-align: right;\">\n",
       "      <th></th>\n",
       "      <th>SourceElementKey</th>\n",
       "      <th>OccupancyDateTime</th>\n",
       "      <th>PaidOccupancy</th>\n",
       "      <th>ParkingSpaceCount</th>\n",
       "      <th>PercentOccupied</th>\n",
       "    </tr>\n",
       "  </thead>\n",
       "  <tbody>\n",
       "    <tr>\n",
       "      <th>0</th>\n",
       "      <td>1001</td>\n",
       "      <td>2012-01-03 09:00:00</td>\n",
       "      <td>0.133333</td>\n",
       "      <td>7.0</td>\n",
       "      <td>0.019048</td>\n",
       "    </tr>\n",
       "    <tr>\n",
       "      <th>1</th>\n",
       "      <td>1001</td>\n",
       "      <td>2012-01-03 09:15:00</td>\n",
       "      <td>1.000000</td>\n",
       "      <td>7.0</td>\n",
       "      <td>0.142857</td>\n",
       "    </tr>\n",
       "    <tr>\n",
       "      <th>2</th>\n",
       "      <td>1001</td>\n",
       "      <td>2012-01-03 09:30:00</td>\n",
       "      <td>1.000000</td>\n",
       "      <td>7.0</td>\n",
       "      <td>0.142857</td>\n",
       "    </tr>\n",
       "    <tr>\n",
       "      <th>3</th>\n",
       "      <td>1001</td>\n",
       "      <td>2012-01-03 09:45:00</td>\n",
       "      <td>1.800000</td>\n",
       "      <td>7.0</td>\n",
       "      <td>0.257143</td>\n",
       "    </tr>\n",
       "    <tr>\n",
       "      <th>4</th>\n",
       "      <td>1001</td>\n",
       "      <td>2012-01-03 10:00:00</td>\n",
       "      <td>1.933333</td>\n",
       "      <td>7.0</td>\n",
       "      <td>0.276190</td>\n",
       "    </tr>\n",
       "  </tbody>\n",
       "</table>\n",
       "</div>"
      ],
      "text/plain": [
       "   SourceElementKey   OccupancyDateTime  PaidOccupancy  ParkingSpaceCount  \\\n",
       "0              1001 2012-01-03 09:00:00       0.133333                7.0   \n",
       "1              1001 2012-01-03 09:15:00       1.000000                7.0   \n",
       "2              1001 2012-01-03 09:30:00       1.000000                7.0   \n",
       "3              1001 2012-01-03 09:45:00       1.800000                7.0   \n",
       "4              1001 2012-01-03 10:00:00       1.933333                7.0   \n",
       "\n",
       "   PercentOccupied  \n",
       "0         0.019048  \n",
       "1         0.142857  \n",
       "2         0.142857  \n",
       "3         0.257143  \n",
       "4         0.276190  "
      ]
     },
     "execution_count": 126,
     "metadata": {},
     "output_type": "execute_result"
    }
   ],
   "source": [
    "df.head()"
   ]
  },
  {
   "cell_type": "code",
   "execution_count": 127,
   "metadata": {},
   "outputs": [
    {
     "data": {
      "text/plain": [
       "144176748    4\n",
       "144176749    4\n",
       "144176750    4\n",
       "144176751    4\n",
       "144176752    4\n",
       "Name: OccupancyDateTime, dtype: int64"
      ]
     },
     "execution_count": 127,
     "metadata": {},
     "output_type": "execute_result"
    }
   ],
   "source": [
    "df.tail().OccupancyDateTime.dt.dayofweek"
   ]
  },
  {
   "cell_type": "code",
   "execution_count": 128,
   "metadata": {},
   "outputs": [],
   "source": [
    "df['Month'] = df.OccupancyDateTime.dt.month\n",
    "df['Year'] = df.OccupancyDateTime.dt.year\n",
    "df['Hour'] = df.OccupancyDateTime.dt.hour\n",
    "df['DayOfWeek'] = df.OccupancyDateTime.dt.dayofweek\n",
    "df['Day'] = df.OccupancyDateTime.dt.day"
   ]
  },
  {
   "cell_type": "code",
   "execution_count": 129,
   "metadata": {},
   "outputs": [],
   "source": [
    "df['Dummy'] = 0"
   ]
  },
  {
   "cell_type": "code",
   "execution_count": 130,
   "metadata": {},
   "outputs": [
    {
     "data": {
      "text/html": [
       "<div>\n",
       "<style scoped>\n",
       "    .dataframe tbody tr th:only-of-type {\n",
       "        vertical-align: middle;\n",
       "    }\n",
       "\n",
       "    .dataframe tbody tr th {\n",
       "        vertical-align: top;\n",
       "    }\n",
       "\n",
       "    .dataframe thead th {\n",
       "        text-align: right;\n",
       "    }\n",
       "</style>\n",
       "<table border=\"1\" class=\"dataframe\">\n",
       "  <thead>\n",
       "    <tr style=\"text-align: right;\">\n",
       "      <th></th>\n",
       "      <th>SourceElementKey</th>\n",
       "      <th>OccupancyDateTime</th>\n",
       "      <th>PaidOccupancy</th>\n",
       "      <th>ParkingSpaceCount</th>\n",
       "      <th>PercentOccupied</th>\n",
       "      <th>Month</th>\n",
       "      <th>Year</th>\n",
       "      <th>Hour</th>\n",
       "      <th>DayOfWeek</th>\n",
       "      <th>Day</th>\n",
       "      <th>Dummy</th>\n",
       "    </tr>\n",
       "  </thead>\n",
       "  <tbody>\n",
       "    <tr>\n",
       "      <th>0</th>\n",
       "      <td>1001</td>\n",
       "      <td>2012-01-03 09:00:00</td>\n",
       "      <td>0.133333</td>\n",
       "      <td>7.0</td>\n",
       "      <td>0.019048</td>\n",
       "      <td>1</td>\n",
       "      <td>2012</td>\n",
       "      <td>9</td>\n",
       "      <td>1</td>\n",
       "      <td>3</td>\n",
       "      <td>0</td>\n",
       "    </tr>\n",
       "    <tr>\n",
       "      <th>1</th>\n",
       "      <td>1001</td>\n",
       "      <td>2012-01-03 09:15:00</td>\n",
       "      <td>1.000000</td>\n",
       "      <td>7.0</td>\n",
       "      <td>0.142857</td>\n",
       "      <td>1</td>\n",
       "      <td>2012</td>\n",
       "      <td>9</td>\n",
       "      <td>1</td>\n",
       "      <td>3</td>\n",
       "      <td>0</td>\n",
       "    </tr>\n",
       "    <tr>\n",
       "      <th>2</th>\n",
       "      <td>1001</td>\n",
       "      <td>2012-01-03 09:30:00</td>\n",
       "      <td>1.000000</td>\n",
       "      <td>7.0</td>\n",
       "      <td>0.142857</td>\n",
       "      <td>1</td>\n",
       "      <td>2012</td>\n",
       "      <td>9</td>\n",
       "      <td>1</td>\n",
       "      <td>3</td>\n",
       "      <td>0</td>\n",
       "    </tr>\n",
       "    <tr>\n",
       "      <th>3</th>\n",
       "      <td>1001</td>\n",
       "      <td>2012-01-03 09:45:00</td>\n",
       "      <td>1.800000</td>\n",
       "      <td>7.0</td>\n",
       "      <td>0.257143</td>\n",
       "      <td>1</td>\n",
       "      <td>2012</td>\n",
       "      <td>9</td>\n",
       "      <td>1</td>\n",
       "      <td>3</td>\n",
       "      <td>0</td>\n",
       "    </tr>\n",
       "    <tr>\n",
       "      <th>4</th>\n",
       "      <td>1001</td>\n",
       "      <td>2012-01-03 10:00:00</td>\n",
       "      <td>1.933333</td>\n",
       "      <td>7.0</td>\n",
       "      <td>0.276190</td>\n",
       "      <td>1</td>\n",
       "      <td>2012</td>\n",
       "      <td>10</td>\n",
       "      <td>1</td>\n",
       "      <td>3</td>\n",
       "      <td>0</td>\n",
       "    </tr>\n",
       "  </tbody>\n",
       "</table>\n",
       "</div>"
      ],
      "text/plain": [
       "   SourceElementKey   OccupancyDateTime  PaidOccupancy  ParkingSpaceCount  \\\n",
       "0              1001 2012-01-03 09:00:00       0.133333                7.0   \n",
       "1              1001 2012-01-03 09:15:00       1.000000                7.0   \n",
       "2              1001 2012-01-03 09:30:00       1.000000                7.0   \n",
       "3              1001 2012-01-03 09:45:00       1.800000                7.0   \n",
       "4              1001 2012-01-03 10:00:00       1.933333                7.0   \n",
       "\n",
       "   PercentOccupied  Month  Year  Hour  DayOfWeek  Day  Dummy  \n",
       "0         0.019048      1  2012     9          1    3      0  \n",
       "1         0.142857      1  2012     9          1    3      0  \n",
       "2         0.142857      1  2012     9          1    3      0  \n",
       "3         0.257143      1  2012     9          1    3      0  \n",
       "4         0.276190      1  2012    10          1    3      0  "
      ]
     },
     "execution_count": 130,
     "metadata": {},
     "output_type": "execute_result"
    }
   ],
   "source": [
    "df.head()"
   ]
  },
  {
   "cell_type": "code",
   "execution_count": 131,
   "metadata": {},
   "outputs": [],
   "source": [
    "# y = df['PercentOccupied'].values\n",
    "# X = df[['Dummy', 'SourceElementKey']]"
   ]
  },
  {
   "cell_type": "code",
   "execution_count": 132,
   "metadata": {},
   "outputs": [],
   "source": [
    "df_train, df_test = train_test_split(\n",
    "    df, test_size=0.3, random_state=42)"
   ]
  },
  {
   "cell_type": "code",
   "execution_count": 133,
   "metadata": {},
   "outputs": [],
   "source": [
    "baseline_columns = ['Dummy', 'SourceElementKey']"
   ]
  },
  {
   "cell_type": "code",
   "execution_count": 137,
   "metadata": {},
   "outputs": [],
   "source": [
    "lgb_train = lgb.Dataset(data=df_train[baseline_columns], label=df_train['PercentOccupied'])\n",
    "lgb_test = lgb.Dataset(data=df_test[baseline_columns], label=df_test['PercentOccupied'], reference=lgb_train)"
   ]
  },
  {
   "cell_type": "code",
   "execution_count": 138,
   "metadata": {},
   "outputs": [],
   "source": [
    "params = {\n",
    "#     'boosting_type': 'gbdt',\n",
    "#     'objective': 'regression',\n",
    "#     'metric': {'mape'},\n",
    "#     'num_leaves': 31,\n",
    "#     'learning_rate': 0.05,\n",
    "#     'feature_fraction': 0.9,\n",
    "#     'bagging_fraction': 0.8,\n",
    "#     'bagging_freq': 5,\n",
    "#     'verbose': 0\n",
    "}"
   ]
  },
  {
   "cell_type": "code",
   "execution_count": 139,
   "metadata": {},
   "outputs": [
    {
     "name": "stdout",
     "output_type": "stream",
     "text": [
      "Starting training...\n",
      "Saving model...\n"
     ]
    },
    {
     "data": {
      "text/plain": [
       "<lightgbm.basic.Booster at 0x118ac7d68>"
      ]
     },
     "execution_count": 139,
     "metadata": {},
     "output_type": "execute_result"
    }
   ],
   "source": [
    "print('Starting training...')\n",
    "# train\n",
    "gbm = lgb.train(params,\n",
    "                lgb_train)\n",
    "\n",
    "print('Saving model...')\n",
    "# save model to file\n",
    "gbm.save_model('baseline_model.txt')"
   ]
  },
  {
   "cell_type": "code",
   "execution_count": 140,
   "metadata": {},
   "outputs": [],
   "source": [
    "y_pred = gbm.predict(X_test, num_iteration=gbm.best_iteration)"
   ]
  },
  {
   "cell_type": "code",
   "execution_count": 141,
   "metadata": {},
   "outputs": [],
   "source": [
    "def smape_error(forecast, actual):\n",
    "    numerator = np.absolute(forecast-actual)\n",
    "    denominator = np.absolute(forecast) + np.absolute(actual)\n",
    "\n",
    "    num_samples = len(numerator)\n",
    "\n",
    "    return 100/num_samples * np.sum(numerator/denominator)"
   ]
  },
  {
   "cell_type": "code",
   "execution_count": 142,
   "metadata": {},
   "outputs": [
    {
     "name": "stdout",
     "output_type": "stream",
     "text": [
      "smape: 38.330624\n"
     ]
    }
   ],
   "source": [
    "baseline_smape = smape_error(y_pred, y_test)\n",
    "print('smape: %f' % baseline_smape)"
   ]
  },
  {
   "cell_type": "markdown",
   "metadata": {},
   "source": [
    "# Simple Model"
   ]
  },
  {
   "cell_type": "code",
   "execution_count": 143,
   "metadata": {},
   "outputs": [
    {
     "data": {
      "text/plain": [
       "144176748    30\n",
       "144176749    30\n",
       "144176750    30\n",
       "144176751    30\n",
       "144176752    30\n",
       "Name: OccupancyDateTime, dtype: int64"
      ]
     },
     "execution_count": 143,
     "metadata": {},
     "output_type": "execute_result"
    }
   ],
   "source": [
    "df.tail().OccupancyDateTime.dt.day"
   ]
  },
  {
   "cell_type": "code",
   "execution_count": 144,
   "metadata": {},
   "outputs": [],
   "source": [
    "simple_columns = ['SourceElementKey', 'Year', 'Month', 'Day', 'Hour', 'DayOfWeek']"
   ]
  },
  {
   "cell_type": "code",
   "execution_count": 145,
   "metadata": {},
   "outputs": [],
   "source": [
    "simple_train = lgb.Dataset(data=df_train[simple_columns], label=df_train['PercentOccupied'])\n",
    "simple_test = lgb.Dataset(data=df_test[simple_columns], label=df_test['PercentOccupied'], reference=simple_train)"
   ]
  },
  {
   "cell_type": "code",
   "execution_count": 146,
   "metadata": {},
   "outputs": [
    {
     "name": "stdout",
     "output_type": "stream",
     "text": [
      "Starting training...\n",
      "Saving model...\n"
     ]
    },
    {
     "data": {
      "text/plain": [
       "<lightgbm.basic.Booster at 0x1161b9860>"
      ]
     },
     "execution_count": 146,
     "metadata": {},
     "output_type": "execute_result"
    }
   ],
   "source": [
    "print('Starting training...')\n",
    "# train\n",
    "gbm_simple = lgb.train(params,\n",
    "                simple_train)\n",
    "\n",
    "print('Saving model...')\n",
    "# save model to file\n",
    "gbm_simple.save_model('simple_ml_model.txt')"
   ]
  },
  {
   "cell_type": "code",
   "execution_count": 147,
   "metadata": {},
   "outputs": [],
   "source": [
    "y_pred = gbm_simple.predict(X_test, num_iteration=gbm_simple.best_iteration)"
   ]
  },
  {
   "cell_type": "code",
   "execution_count": 149,
   "metadata": {},
   "outputs": [
    {
     "name": "stdout",
     "output_type": "stream",
     "text": [
      "smape: 39.558633\n"
     ]
    }
   ],
   "source": [
    "simple_smape = smape_error(y_pred, y_test)\n",
    "print('smape: %f' % simple_smape)"
   ]
  },
  {
   "cell_type": "markdown",
   "metadata": {},
   "source": [
    "# Baseline Timeseries"
   ]
  },
  {
   "cell_type": "code",
   "execution_count": 162,
   "metadata": {},
   "outputs": [
    {
     "name": "stdout",
     "output_type": "stream",
     "text": [
      "smape: 12.955439\n"
     ]
    }
   ],
   "source": [
    "# shift values by one\n",
    "pred_values = pd.concat([pd.Series([0]), df['PercentOccupied']])\n",
    "timeseries_smape = smape_error(pred_values.values[:-1], df['PercentOccupied'])\n",
    "print('smape: %f' % timeseries_smape)"
   ]
  },
  {
   "cell_type": "code",
   "execution_count": 170,
   "metadata": {},
   "outputs": [
    {
     "name": "stdout",
     "output_type": "stream",
     "text": [
      "smape: 28.535425\n"
     ]
    }
   ],
   "source": [
    "# shift values by four (i.e. 1 hour)\n",
    "pred_values = pd.concat([pd.Series([0,0,0,0]), df['PaidOccupancy']])\n",
    "timeseries_smape = smape_error(pred_values.values[:-4], df['PaidOccupancy'])\n",
    "print('smape: %f' % timeseries_smape)"
   ]
  },
  {
   "cell_type": "code",
   "execution_count": 164,
   "metadata": {},
   "outputs": [],
   "source": [
    "def using_Grouper(df):\n",
    "    level_values = df.index.get_level_values\n",
    "    return (df.groupby([level_values(0)]\n",
    "                       +[pd.Grouper(freq='1D', level=-1)]).sum())"
   ]
  },
  {
   "cell_type": "code",
   "execution_count": 167,
   "metadata": {},
   "outputs": [],
   "source": [
    "daily_data = using_Grouper(pd.read_pickle('1.collect_data/data_files/15min.pkl').dropna())\n"
   ]
  },
  {
   "cell_type": "code",
   "execution_count": 168,
   "metadata": {},
   "outputs": [
    {
     "data": {
      "text/html": [
       "<div>\n",
       "<style scoped>\n",
       "    .dataframe tbody tr th:only-of-type {\n",
       "        vertical-align: middle;\n",
       "    }\n",
       "\n",
       "    .dataframe tbody tr th {\n",
       "        vertical-align: top;\n",
       "    }\n",
       "\n",
       "    .dataframe thead th {\n",
       "        text-align: right;\n",
       "    }\n",
       "</style>\n",
       "<table border=\"1\" class=\"dataframe\">\n",
       "  <thead>\n",
       "    <tr style=\"text-align: right;\">\n",
       "      <th></th>\n",
       "      <th></th>\n",
       "      <th>PaidOccupancy</th>\n",
       "      <th>ParkingSpaceCount</th>\n",
       "      <th>PercentOccupied</th>\n",
       "    </tr>\n",
       "    <tr>\n",
       "      <th>SourceElementKey</th>\n",
       "      <th>OccupancyDateTime</th>\n",
       "      <th></th>\n",
       "      <th></th>\n",
       "      <th></th>\n",
       "    </tr>\n",
       "  </thead>\n",
       "  <tbody>\n",
       "    <tr>\n",
       "      <th rowspan=\"5\" valign=\"top\">1001</th>\n",
       "      <th>2012-01-03</th>\n",
       "      <td>65.019349</td>\n",
       "      <td>227.468172</td>\n",
       "      <td>9.382775</td>\n",
       "    </tr>\n",
       "    <tr>\n",
       "      <th>2012-01-04</th>\n",
       "      <td>54.146468</td>\n",
       "      <td>253.898471</td>\n",
       "      <td>7.871416</td>\n",
       "    </tr>\n",
       "    <tr>\n",
       "      <th>2012-01-05</th>\n",
       "      <td>66.146468</td>\n",
       "      <td>253.898471</td>\n",
       "      <td>9.585702</td>\n",
       "    </tr>\n",
       "    <tr>\n",
       "      <th>2012-01-06</th>\n",
       "      <td>75.914688</td>\n",
       "      <td>254.290896</td>\n",
       "      <td>10.970685</td>\n",
       "    </tr>\n",
       "    <tr>\n",
       "      <th>2012-01-07</th>\n",
       "      <td>64.400000</td>\n",
       "      <td>259.000000</td>\n",
       "      <td>9.200000</td>\n",
       "    </tr>\n",
       "  </tbody>\n",
       "</table>\n",
       "</div>"
      ],
      "text/plain": [
       "                                    PaidOccupancy  ParkingSpaceCount  \\\n",
       "SourceElementKey OccupancyDateTime                                     \n",
       "1001             2012-01-03             65.019349         227.468172   \n",
       "                 2012-01-04             54.146468         253.898471   \n",
       "                 2012-01-05             66.146468         253.898471   \n",
       "                 2012-01-06             75.914688         254.290896   \n",
       "                 2012-01-07             64.400000         259.000000   \n",
       "\n",
       "                                    PercentOccupied  \n",
       "SourceElementKey OccupancyDateTime                   \n",
       "1001             2012-01-03                9.382775  \n",
       "                 2012-01-04                7.871416  \n",
       "                 2012-01-05                9.585702  \n",
       "                 2012-01-06               10.970685  \n",
       "                 2012-01-07                9.200000  "
      ]
     },
     "execution_count": 168,
     "metadata": {},
     "output_type": "execute_result"
    }
   ],
   "source": [
    "daily_data.head()"
   ]
  },
  {
   "cell_type": "code",
   "execution_count": 169,
   "metadata": {},
   "outputs": [
    {
     "name": "stdout",
     "output_type": "stream",
     "text": [
      "smape: 19.771590\n"
     ]
    }
   ],
   "source": [
    "# shift values by one\n",
    "pred_values = pd.concat([pd.Series([0]), daily_data['PaidOccupancy']])\n",
    "timeseries_smape = smape_error(pred_values.values[:-1], daily_data['PaidOccupancy'])\n",
    "print('smape: %f' % timeseries_smape)"
   ]
  },
  {
   "cell_type": "code",
   "execution_count": null,
   "metadata": {},
   "outputs": [],
   "source": []
  }
 ],
 "metadata": {
  "kernelspec": {
   "display_name": "Python 3",
   "language": "python",
   "name": "python3"
  },
  "language_info": {
   "codemirror_mode": {
    "name": "ipython",
    "version": 3
   },
   "file_extension": ".py",
   "mimetype": "text/x-python",
   "name": "python",
   "nbconvert_exporter": "python",
   "pygments_lexer": "ipython3",
   "version": "3.7.3"
  }
 },
 "nbformat": 4,
 "nbformat_minor": 2
}
