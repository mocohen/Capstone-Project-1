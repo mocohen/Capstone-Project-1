{
 "cells": [
  {
   "cell_type": "code",
   "execution_count": 1,
   "metadata": {},
   "outputs": [],
   "source": [
    "import pandas as pd\n",
    "import numpy as np\n",
    "import sklearn as sk\n",
    "from datetime import timedelta, date, datetime\n",
    "from sodapy import Socrata"
   ]
  },
  {
   "cell_type": "code",
   "execution_count": 2,
   "metadata": {},
   "outputs": [],
   "source": [
    "import os, sys\n",
    "sys.path.append(os.path.dirname(os.path.abspath('.')))\n",
    "import app_tokens"
   ]
  },
  {
   "cell_type": "code",
   "execution_count": 3,
   "metadata": {},
   "outputs": [],
   "source": [
    "blockface_detail = pd.read_csv('blockface_detail.csv', index_col=0)"
   ]
  },
  {
   "cell_type": "code",
   "execution_count": 4,
   "metadata": {},
   "outputs": [
    {
     "name": "stdout",
     "output_type": "stream",
     "text": [
      "<class 'pandas.core.frame.DataFrame'>\n",
      "Int64Index: 1505 entries, 0 to 1504\n",
      "Data columns (total 11 columns):\n",
      "blockfacename               1505 non-null object\n",
      "location                    1505 non-null object\n",
      "paidparkingarea             1505 non-null object\n",
      "paidparkingsubarea          1147 non-null object\n",
      "parkingcategory             1505 non-null object\n",
      "parkingspacecount           1505 non-null int64\n",
      "parkingtimelimitcategory    1504 non-null float64\n",
      "sideofstreet                1505 non-null object\n",
      "sourceelementkey            1505 non-null int64\n",
      "latitude                    1505 non-null float64\n",
      "longitude                   1505 non-null float64\n",
      "dtypes: float64(3), int64(2), object(6)\n",
      "memory usage: 141.1+ KB\n"
     ]
    }
   ],
   "source": [
    "blockface_detail.info()"
   ]
  },
  {
   "cell_type": "code",
   "execution_count": 5,
   "metadata": {},
   "outputs": [
    {
     "data": {
      "text/html": [
       "<div>\n",
       "<style scoped>\n",
       "    .dataframe tbody tr th:only-of-type {\n",
       "        vertical-align: middle;\n",
       "    }\n",
       "\n",
       "    .dataframe tbody tr th {\n",
       "        vertical-align: top;\n",
       "    }\n",
       "\n",
       "    .dataframe thead th {\n",
       "        text-align: right;\n",
       "    }\n",
       "</style>\n",
       "<table border=\"1\" class=\"dataframe\">\n",
       "  <thead>\n",
       "    <tr style=\"text-align: right;\">\n",
       "      <th></th>\n",
       "      <th>blockfacename</th>\n",
       "      <th>location</th>\n",
       "      <th>paidparkingarea</th>\n",
       "      <th>paidparkingsubarea</th>\n",
       "      <th>parkingcategory</th>\n",
       "      <th>parkingspacecount</th>\n",
       "      <th>parkingtimelimitcategory</th>\n",
       "      <th>sideofstreet</th>\n",
       "      <th>sourceelementkey</th>\n",
       "      <th>latitude</th>\n",
       "      <th>longitude</th>\n",
       "    </tr>\n",
       "  </thead>\n",
       "  <tbody>\n",
       "    <tr>\n",
       "      <th>0</th>\n",
       "      <td>1ST AVE BETWEEN CHERRY ST AND COLUMBIA ST</td>\n",
       "      <td>{'type': 'Point', 'coordinates': [-122.3346935...</td>\n",
       "      <td>Pioneer Square</td>\n",
       "      <td>Core</td>\n",
       "      <td>Paid Parking</td>\n",
       "      <td>4</td>\n",
       "      <td>120.0</td>\n",
       "      <td>SW</td>\n",
       "      <td>1001</td>\n",
       "      <td>47.602873</td>\n",
       "      <td>-122.334694</td>\n",
       "    </tr>\n",
       "    <tr>\n",
       "      <th>1</th>\n",
       "      <td>1ST AVE BETWEEN CHERRY ST AND COLUMBIA ST</td>\n",
       "      <td>{'type': 'Point', 'coordinates': [-122.3345126...</td>\n",
       "      <td>Pioneer Square</td>\n",
       "      <td>Core</td>\n",
       "      <td>Paid Parking</td>\n",
       "      <td>8</td>\n",
       "      <td>120.0</td>\n",
       "      <td>NE</td>\n",
       "      <td>1002</td>\n",
       "      <td>47.602949</td>\n",
       "      <td>-122.334513</td>\n",
       "    </tr>\n",
       "    <tr>\n",
       "      <th>2</th>\n",
       "      <td>1ST AVE BETWEEN COLUMBIA ST AND MARION ST</td>\n",
       "      <td>{'type': 'Point', 'coordinates': [-122.3351432...</td>\n",
       "      <td>Commercial Core</td>\n",
       "      <td>Waterfront</td>\n",
       "      <td>Paid Parking</td>\n",
       "      <td>7</td>\n",
       "      <td>120.0</td>\n",
       "      <td>NE</td>\n",
       "      <td>1006</td>\n",
       "      <td>47.603674</td>\n",
       "      <td>-122.335143</td>\n",
       "    </tr>\n",
       "    <tr>\n",
       "      <th>3</th>\n",
       "      <td>1ST AVE BETWEEN MADISON ST AND SPRING ST</td>\n",
       "      <td>{'type': 'Point', 'coordinates': [-122.3366575...</td>\n",
       "      <td>Commercial Core</td>\n",
       "      <td>Waterfront</td>\n",
       "      <td>Paid Parking</td>\n",
       "      <td>5</td>\n",
       "      <td>30.0</td>\n",
       "      <td>SW</td>\n",
       "      <td>1009</td>\n",
       "      <td>47.605018</td>\n",
       "      <td>-122.336658</td>\n",
       "    </tr>\n",
       "    <tr>\n",
       "      <th>4</th>\n",
       "      <td>1ST AVE BETWEEN MADISON ST AND SPRING ST</td>\n",
       "      <td>{'type': 'Point', 'coordinates': [-122.3364474...</td>\n",
       "      <td>Commercial Core</td>\n",
       "      <td>Waterfront</td>\n",
       "      <td>Paid Parking</td>\n",
       "      <td>5</td>\n",
       "      <td>120.0</td>\n",
       "      <td>NE</td>\n",
       "      <td>1010</td>\n",
       "      <td>47.605101</td>\n",
       "      <td>-122.336447</td>\n",
       "    </tr>\n",
       "  </tbody>\n",
       "</table>\n",
       "</div>"
      ],
      "text/plain": [
       "                               blockfacename  \\\n",
       "0  1ST AVE BETWEEN CHERRY ST AND COLUMBIA ST   \n",
       "1  1ST AVE BETWEEN CHERRY ST AND COLUMBIA ST   \n",
       "2  1ST AVE BETWEEN COLUMBIA ST AND MARION ST   \n",
       "3   1ST AVE BETWEEN MADISON ST AND SPRING ST   \n",
       "4   1ST AVE BETWEEN MADISON ST AND SPRING ST   \n",
       "\n",
       "                                            location  paidparkingarea  \\\n",
       "0  {'type': 'Point', 'coordinates': [-122.3346935...   Pioneer Square   \n",
       "1  {'type': 'Point', 'coordinates': [-122.3345126...   Pioneer Square   \n",
       "2  {'type': 'Point', 'coordinates': [-122.3351432...  Commercial Core   \n",
       "3  {'type': 'Point', 'coordinates': [-122.3366575...  Commercial Core   \n",
       "4  {'type': 'Point', 'coordinates': [-122.3364474...  Commercial Core   \n",
       "\n",
       "  paidparkingsubarea parkingcategory  parkingspacecount  \\\n",
       "0               Core    Paid Parking                  4   \n",
       "1               Core    Paid Parking                  8   \n",
       "2         Waterfront    Paid Parking                  7   \n",
       "3         Waterfront    Paid Parking                  5   \n",
       "4         Waterfront    Paid Parking                  5   \n",
       "\n",
       "   parkingtimelimitcategory sideofstreet  sourceelementkey   latitude  \\\n",
       "0                     120.0           SW              1001  47.602873   \n",
       "1                     120.0           NE              1002  47.602949   \n",
       "2                     120.0           NE              1006  47.603674   \n",
       "3                      30.0           SW              1009  47.605018   \n",
       "4                     120.0           NE              1010  47.605101   \n",
       "\n",
       "    longitude  \n",
       "0 -122.334694  \n",
       "1 -122.334513  \n",
       "2 -122.335143  \n",
       "3 -122.336658  \n",
       "4 -122.336447  "
      ]
     },
     "execution_count": 5,
     "metadata": {},
     "output_type": "execute_result"
    }
   ],
   "source": [
    "blockface_detail.head()"
   ]
  },
  {
   "cell_type": "code",
   "execution_count": 6,
   "metadata": {},
   "outputs": [],
   "source": [
    "#data is delayed 48 hrs\n",
    "# socrata data keys for parking data\n",
    "#2019 ytd\n",
    "data_ytd = 'qktt-2bsy'\n",
    "#last 30 days\n",
    "data_mtd = 'rke9-rsvs'\n",
    "# last 48 hours\n",
    "data_48hrs = 'hiyf-7edq'"
   ]
  },
  {
   "cell_type": "code",
   "execution_count": 22,
   "metadata": {},
   "outputs": [
    {
     "name": "stdout",
     "output_type": "stream",
     "text": [
      "ind: 192\tkey: 10221\trecords read: 0.000MM\telapsed time:0:00:00.001341\r"
     ]
    },
    {
     "ename": "SystemExit",
     "evalue": "Failed at index 192, block_key 10221",
     "output_type": "error",
     "traceback": [
      "An exception has occurred, use %tb to see the full traceback.\n",
      "\u001b[0;31mSystemExit\u001b[0m\u001b[0;31m:\u001b[0m Failed at index 192, block_key 10221\n"
     ]
    }
   ],
   "source": [
    "# Unauthenticated client only works with public data sets. Note 'None'\n",
    "# in place of application token, and no username or password:\n",
    "#client = Socrata(\"data.seattle.gov\", None)\n",
    "\n",
    "starttime = datetime.now()\n",
    "# Example authenticated client (needed for non-public datasets):\n",
    "client = Socrata('data.seattle.gov',\n",
    "                 app_tokens.getAppTokens()['seattle_gov'],\n",
    "                timeout=500)\n",
    "\n",
    "\n",
    "\n",
    "\n",
    "\n",
    "# columns that are numeric\n",
    "num_cols = ['paidoccupancy',]\n",
    "\n",
    "for ind, block_key in blockface_detail[192:193]['sourceelementkey'].iteritems():\n",
    "    # Number of records to read at a time\n",
    "    loop_size = df_len = 10\n",
    "\n",
    "    # list of dataframes\n",
    "    dfs = []\n",
    "    i = 0\n",
    "    #check to see if last record was full or not\n",
    "    while loop_size == df_len:\n",
    "        #print(i)\n",
    "        print('ind: %d\\tkey: %d\\trecords read: %.3fMM\\telapsed time:%s' % (ind, block_key, i*loop_size/1e6, datetime.now()-starttime), end='\\r')\n",
    "        # fetch results from seattle city server\n",
    "        try:\n",
    "            results = client.get(data_ytd,\n",
    "                             sourceelementkey=block_key, \n",
    "                             select='occupancydatetime,paidoccupancy',\n",
    "                             order='occupancydatetime',\n",
    "                             limit=loop_size,\n",
    "                             offset=loop_size * i)\n",
    "        except:\n",
    "            raise SystemExit('Failed at index %d, block_key %d' % (ind, block_key))\n",
    "        \n",
    "        #convert to dataframe\n",
    "        df = pd.DataFrame.from_records(results)\n",
    "\n",
    "\n",
    "        # convert to appropriate data types\n",
    "        df[num_cols] = df[num_cols].apply(pd.to_numeric)\n",
    "        df[['occupancydatetime']] = df[['occupancydatetime']].apply(pd.to_datetime)    \n",
    "\n",
    "        # get length of new dataframe\n",
    "        df_len = len(df)\n",
    "        #append dataframe to list of dataframe\n",
    "        dfs.append(df)\n",
    "        #update counter\n",
    "        i += 1\n",
    "    \n",
    "    results_df = pd.concat(dfs, ignore_index=True).set_index('occupancydatetime')\n",
    "    results_df = results_df.resample('15T').mean()\n",
    "    results_df.dropna().to_pickle(\"data_files/2019/2019.%d.pkl\" % block_key)    "
   ]
  },
  {
   "cell_type": "code",
   "execution_count": null,
   "metadata": {},
   "outputs": [],
   "source": [
    "read = pd.read_pickle('2019.1001.pkl')"
   ]
  },
  {
   "cell_type": "code",
   "execution_count": null,
   "metadata": {},
   "outputs": [],
   "source": [
    "read"
   ]
  },
  {
   "cell_type": "code",
   "execution_count": null,
   "metadata": {},
   "outputs": [],
   "source": []
  }
 ],
 "metadata": {
  "kernelspec": {
   "display_name": "Python 3",
   "language": "python",
   "name": "python3"
  },
  "language_info": {
   "codemirror_mode": {
    "name": "ipython",
    "version": 3
   },
   "file_extension": ".py",
   "mimetype": "text/x-python",
   "name": "python",
   "nbconvert_exporter": "python",
   "pygments_lexer": "ipython3",
   "version": "3.7.3"
  }
 },
 "nbformat": 4,
 "nbformat_minor": 2
}
