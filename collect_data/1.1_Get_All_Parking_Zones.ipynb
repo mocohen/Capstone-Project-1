{
 "cells": [
  {
   "cell_type": "code",
   "execution_count": 1,
   "metadata": {},
   "outputs": [],
   "source": [
    "import pandas as pd\n",
    "from datetime import timedelta, date\n",
    "from sodapy import Socrata\n",
    "import requests"
   ]
  },
  {
   "cell_type": "code",
   "execution_count": 2,
   "metadata": {},
   "outputs": [],
   "source": [
    "import os, sys\n",
    "sys.path.append(os.path.dirname(os.path.abspath('.')))\n",
    "import app_tokens"
   ]
  },
  {
   "cell_type": "code",
   "execution_count": 3,
   "metadata": {},
   "outputs": [],
   "source": [
    "def getData(data_key, timeout=1):\n",
    "    # Example authenticated client (needed for non-public datasets):\n",
    "    client = Socrata('data.seattle.gov',\n",
    "                     app_tokens.getAppTokens()['seattle_gov'],\n",
    "                    timeout=timeout*60)\n",
    "\n",
    "    results = client.get(data_key,\n",
    "                     select='distinct sourceelementkey,location',\n",
    "                     limit=100000)    \n",
    "    client.close()\n",
    "    return results"
   ]
  },
  {
   "cell_type": "code",
   "execution_count": 24,
   "metadata": {},
   "outputs": [],
   "source": [
    "# Unauthenticated client only works with public data sets. Note 'None'\n",
    "# in place of application token, and no username or password:\n",
    "#client = Socrata(\"data.seattle.gov\", None)\n",
    "\n",
    "#data is delayed 48 hrs\n",
    "# socrata data keys for parking data\n",
    "#2019 ytd\n",
    "data_ytd = 'qktt-2bsy'\n",
    "#last 30 days\n",
    "data_mtd = 'rke9-rsvs'\n",
    "# last 48 hours\n",
    "data_48hrs = 'hiyf-7edq'\n",
    "\n",
    "i=0\n",
    "while i < 5:\n",
    "    try:\n",
    "        results = getData(data_mtd, timeout=(i+1))\n",
    "        i=5\n",
    "    except requests.exceptions.Timeout:\n",
    "        i += 1\n",
    "        if i == 5:\n",
    "            print('too many timeouts')\n",
    "            raise requests.exceptions.Timeout()\n",
    "        print('Timeout, retrying...')\n"
   ]
  },
  {
   "cell_type": "code",
   "execution_count": 33,
   "metadata": {},
   "outputs": [],
   "source": [
    "# convert results to dataframe, change sourcelementkey to numberic datatype\n",
    "df = pd.DataFrame.from_records(results)\n",
    "df['sourceelementkey'] = df['sourceelementkey'].apply(pd.to_numeric)\n",
    "df = df.sort_values(by='sourceelementkey')"
   ]
  },
  {
   "cell_type": "code",
   "execution_count": 34,
   "metadata": {},
   "outputs": [
    {
     "data": {
      "text/html": [
       "<div>\n",
       "<style scoped>\n",
       "    .dataframe tbody tr th:only-of-type {\n",
       "        vertical-align: middle;\n",
       "    }\n",
       "\n",
       "    .dataframe tbody tr th {\n",
       "        vertical-align: top;\n",
       "    }\n",
       "\n",
       "    .dataframe thead th {\n",
       "        text-align: right;\n",
       "    }\n",
       "</style>\n",
       "<table border=\"1\" class=\"dataframe\">\n",
       "  <thead>\n",
       "    <tr style=\"text-align: right;\">\n",
       "      <th></th>\n",
       "      <th>location</th>\n",
       "      <th>sourceelementkey</th>\n",
       "    </tr>\n",
       "  </thead>\n",
       "  <tbody>\n",
       "    <tr>\n",
       "      <th>0</th>\n",
       "      <td>{'type': 'Point', 'coordinates': [-122.3346935...</td>\n",
       "      <td>1001</td>\n",
       "    </tr>\n",
       "    <tr>\n",
       "      <th>1</th>\n",
       "      <td>{'type': 'Point', 'coordinates': [-122.3345126...</td>\n",
       "      <td>1002</td>\n",
       "    </tr>\n",
       "    <tr>\n",
       "      <th>2</th>\n",
       "      <td>{'type': 'Point', 'coordinates': [-122.3351432...</td>\n",
       "      <td>1006</td>\n",
       "    </tr>\n",
       "    <tr>\n",
       "      <th>3</th>\n",
       "      <td>{'type': 'Point', 'coordinates': [-122.3366575...</td>\n",
       "      <td>1009</td>\n",
       "    </tr>\n",
       "    <tr>\n",
       "      <th>4</th>\n",
       "      <td>{'type': 'Point', 'coordinates': [-122.3364474...</td>\n",
       "      <td>1010</td>\n",
       "    </tr>\n",
       "  </tbody>\n",
       "</table>\n",
       "</div>"
      ],
      "text/plain": [
       "                                            location  sourceelementkey\n",
       "0  {'type': 'Point', 'coordinates': [-122.3346935...              1001\n",
       "1  {'type': 'Point', 'coordinates': [-122.3345126...              1002\n",
       "2  {'type': 'Point', 'coordinates': [-122.3351432...              1006\n",
       "3  {'type': 'Point', 'coordinates': [-122.3366575...              1009\n",
       "4  {'type': 'Point', 'coordinates': [-122.3364474...              1010"
      ]
     },
     "execution_count": 34,
     "metadata": {},
     "output_type": "execute_result"
    }
   ],
   "source": [
    "#take a peak at the data\n",
    "df.head()"
   ]
  },
  {
   "cell_type": "code",
   "execution_count": 35,
   "metadata": {},
   "outputs": [
    {
     "name": "stdout",
     "output_type": "stream",
     "text": [
      "1461\n",
      "1461\n"
     ]
    }
   ],
   "source": [
    "print(len(df))\n",
    "print(df['sourceelementkey'].nunique())"
   ]
  },
  {
   "cell_type": "code",
   "execution_count": 36,
   "metadata": {},
   "outputs": [],
   "source": [
    "# unpack location object into latitude and longitude\n",
    "def unpackCoordinates(location_obj):\n",
    "    lat = location_obj['coordinates'][0]\n",
    "    long = location_obj['coordinates'][1]\n",
    "    # all seattle lat/long should be approx 47, -122. swap lat and long if wrong way\n",
    "    if lat < long:\n",
    "        return pd.Series([long, lat])\n",
    "    else:\n",
    "        return pd.Series([lat, long])"
   ]
  },
  {
   "cell_type": "code",
   "execution_count": 37,
   "metadata": {},
   "outputs": [],
   "source": [
    "df[['latitude', 'longitude']] = df.location.apply(unpackCoordinates)"
   ]
  },
  {
   "cell_type": "code",
   "execution_count": 38,
   "metadata": {},
   "outputs": [
    {
     "data": {
      "text/html": [
       "<div>\n",
       "<style scoped>\n",
       "    .dataframe tbody tr th:only-of-type {\n",
       "        vertical-align: middle;\n",
       "    }\n",
       "\n",
       "    .dataframe tbody tr th {\n",
       "        vertical-align: top;\n",
       "    }\n",
       "\n",
       "    .dataframe thead th {\n",
       "        text-align: right;\n",
       "    }\n",
       "</style>\n",
       "<table border=\"1\" class=\"dataframe\">\n",
       "  <thead>\n",
       "    <tr style=\"text-align: right;\">\n",
       "      <th></th>\n",
       "      <th>location</th>\n",
       "      <th>sourceelementkey</th>\n",
       "      <th>latitude</th>\n",
       "      <th>longitude</th>\n",
       "    </tr>\n",
       "  </thead>\n",
       "  <tbody>\n",
       "    <tr>\n",
       "      <th>0</th>\n",
       "      <td>{'type': 'Point', 'coordinates': [-122.3346935...</td>\n",
       "      <td>1001</td>\n",
       "      <td>47.602873</td>\n",
       "      <td>-122.334694</td>\n",
       "    </tr>\n",
       "    <tr>\n",
       "      <th>1</th>\n",
       "      <td>{'type': 'Point', 'coordinates': [-122.3345126...</td>\n",
       "      <td>1002</td>\n",
       "      <td>47.602949</td>\n",
       "      <td>-122.334513</td>\n",
       "    </tr>\n",
       "    <tr>\n",
       "      <th>2</th>\n",
       "      <td>{'type': 'Point', 'coordinates': [-122.3351432...</td>\n",
       "      <td>1006</td>\n",
       "      <td>47.603674</td>\n",
       "      <td>-122.335143</td>\n",
       "    </tr>\n",
       "    <tr>\n",
       "      <th>3</th>\n",
       "      <td>{'type': 'Point', 'coordinates': [-122.3366575...</td>\n",
       "      <td>1009</td>\n",
       "      <td>47.605018</td>\n",
       "      <td>-122.336658</td>\n",
       "    </tr>\n",
       "    <tr>\n",
       "      <th>4</th>\n",
       "      <td>{'type': 'Point', 'coordinates': [-122.3364474...</td>\n",
       "      <td>1010</td>\n",
       "      <td>47.605101</td>\n",
       "      <td>-122.336447</td>\n",
       "    </tr>\n",
       "  </tbody>\n",
       "</table>\n",
       "</div>"
      ],
      "text/plain": [
       "                                            location  sourceelementkey  \\\n",
       "0  {'type': 'Point', 'coordinates': [-122.3346935...              1001   \n",
       "1  {'type': 'Point', 'coordinates': [-122.3345126...              1002   \n",
       "2  {'type': 'Point', 'coordinates': [-122.3351432...              1006   \n",
       "3  {'type': 'Point', 'coordinates': [-122.3366575...              1009   \n",
       "4  {'type': 'Point', 'coordinates': [-122.3364474...              1010   \n",
       "\n",
       "    latitude   longitude  \n",
       "0  47.602873 -122.334694  \n",
       "1  47.602949 -122.334513  \n",
       "2  47.603674 -122.335143  \n",
       "3  47.605018 -122.336658  \n",
       "4  47.605101 -122.336447  "
      ]
     },
     "execution_count": 38,
     "metadata": {},
     "output_type": "execute_result"
    }
   ],
   "source": [
    "df.head()"
   ]
  },
  {
   "cell_type": "code",
   "execution_count": 39,
   "metadata": {},
   "outputs": [
    {
     "name": "stdout",
     "output_type": "stream",
     "text": [
      "1461\n"
     ]
    }
   ],
   "source": [
    "# number of unique parking segments\n",
    "print(df['sourceelementkey'].nunique())\n",
    "df = df.drop(columns=['location'])"
   ]
  },
  {
   "cell_type": "markdown",
   "metadata": {},
   "source": [
    "Looks like all location-sourceelementkey pairss are the same. But, there may be additional sourceelementkeys that are in the year table that are not in the monthly data. So I will loop through a range of sourcelementkeys to make sure that we aren't missing anything"
   ]
  },
  {
   "cell_type": "code",
   "execution_count": 57,
   "metadata": {},
   "outputs": [],
   "source": [
    "# Uh oh. it looks like some of the coordinates have latitidue and longitude swapped :grimacing:\n",
    "# print(df.iloc[0]['location'], df.iloc[1]['location'])\n",
    "\n",
    "# df_max = df.groupby(['sourceelementkey'], as_index=False).max()\n",
    "# df_min = df.groupby(['sourceelementkey'], as_index=False).min()\n",
    "# df_max.head()\n",
    "\n",
    "# merged = df_max.merge(df_min, indicator=True, how='outer')\n",
    "# merged['_merge'].value_counts()\n",
    "# merged.head()\n",
    "\n",
    "# df.sort_values(by=['sourceelementkey'])"
   ]
  },
  {
   "cell_type": "code",
   "execution_count": 65,
   "metadata": {},
   "outputs": [
    {
     "data": {
      "text/html": [
       "<div>\n",
       "<style scoped>\n",
       "    .dataframe tbody tr th:only-of-type {\n",
       "        vertical-align: middle;\n",
       "    }\n",
       "\n",
       "    .dataframe tbody tr th {\n",
       "        vertical-align: top;\n",
       "    }\n",
       "\n",
       "    .dataframe thead th {\n",
       "        text-align: right;\n",
       "    }\n",
       "</style>\n",
       "<table border=\"1\" class=\"dataframe\">\n",
       "  <thead>\n",
       "    <tr style=\"text-align: right;\">\n",
       "      <th></th>\n",
       "      <th>sourceelementkey</th>\n",
       "      <th>latitude</th>\n",
       "      <th>longitude</th>\n",
       "    </tr>\n",
       "  </thead>\n",
       "  <tbody>\n",
       "    <tr>\n",
       "      <th>1456</th>\n",
       "      <td>134962</td>\n",
       "      <td>47.627591</td>\n",
       "      <td>-122.342213</td>\n",
       "    </tr>\n",
       "    <tr>\n",
       "      <th>1457</th>\n",
       "      <td>134965</td>\n",
       "      <td>47.629286</td>\n",
       "      <td>-122.342198</td>\n",
       "    </tr>\n",
       "    <tr>\n",
       "      <th>1458</th>\n",
       "      <td>135261</td>\n",
       "      <td>47.613963</td>\n",
       "      <td>-122.313879</td>\n",
       "    </tr>\n",
       "    <tr>\n",
       "      <th>1459</th>\n",
       "      <td>136041</td>\n",
       "      <td>47.609676</td>\n",
       "      <td>-122.336325</td>\n",
       "    </tr>\n",
       "    <tr>\n",
       "      <th>1460</th>\n",
       "      <td>136322</td>\n",
       "      <td>47.653648</td>\n",
       "      <td>-122.313881</td>\n",
       "    </tr>\n",
       "  </tbody>\n",
       "</table>\n",
       "</div>"
      ],
      "text/plain": [
       "      sourceelementkey   latitude   longitude\n",
       "1456            134962  47.627591 -122.342213\n",
       "1457            134965  47.629286 -122.342198\n",
       "1458            135261  47.613963 -122.313879\n",
       "1459            136041  47.609676 -122.336325\n",
       "1460            136322  47.653648 -122.313881"
      ]
     },
     "execution_count": 65,
     "metadata": {},
     "output_type": "execute_result"
    }
   ],
   "source": [
    "df.tail()"
   ]
  },
  {
   "cell_type": "code",
   "execution_count": 64,
   "metadata": {},
   "outputs": [
    {
     "data": {
      "text/html": [
       "<div>\n",
       "<style scoped>\n",
       "    .dataframe tbody tr th:only-of-type {\n",
       "        vertical-align: middle;\n",
       "    }\n",
       "\n",
       "    .dataframe tbody tr th {\n",
       "        vertical-align: top;\n",
       "    }\n",
       "\n",
       "    .dataframe thead th {\n",
       "        text-align: right;\n",
       "    }\n",
       "</style>\n",
       "<table border=\"1\" class=\"dataframe\">\n",
       "  <thead>\n",
       "    <tr style=\"text-align: right;\">\n",
       "      <th></th>\n",
       "      <th>sourceelementkey</th>\n",
       "      <th>latitude</th>\n",
       "      <th>longitude</th>\n",
       "    </tr>\n",
       "  </thead>\n",
       "  <tbody>\n",
       "    <tr>\n",
       "      <th>0</th>\n",
       "      <td>1001</td>\n",
       "      <td>47.602873</td>\n",
       "      <td>-122.334694</td>\n",
       "    </tr>\n",
       "    <tr>\n",
       "      <th>1</th>\n",
       "      <td>1002</td>\n",
       "      <td>47.602949</td>\n",
       "      <td>-122.334513</td>\n",
       "    </tr>\n",
       "    <tr>\n",
       "      <th>2</th>\n",
       "      <td>1006</td>\n",
       "      <td>47.603674</td>\n",
       "      <td>-122.335143</td>\n",
       "    </tr>\n",
       "    <tr>\n",
       "      <th>3</th>\n",
       "      <td>1009</td>\n",
       "      <td>47.605018</td>\n",
       "      <td>-122.336658</td>\n",
       "    </tr>\n",
       "    <tr>\n",
       "      <th>4</th>\n",
       "      <td>1010</td>\n",
       "      <td>47.605101</td>\n",
       "      <td>-122.336447</td>\n",
       "    </tr>\n",
       "  </tbody>\n",
       "</table>\n",
       "</div>"
      ],
      "text/plain": [
       "   sourceelementkey   latitude   longitude\n",
       "0              1001  47.602873 -122.334694\n",
       "1              1002  47.602949 -122.334513\n",
       "2              1006  47.603674 -122.335143\n",
       "3              1009  47.605018 -122.336658\n",
       "4              1010  47.605101 -122.336447"
      ]
     },
     "execution_count": 64,
     "metadata": {},
     "output_type": "execute_result"
    }
   ],
   "source": [
    "df.head()"
   ]
  },
  {
   "cell_type": "code",
   "execution_count": 59,
   "metadata": {},
   "outputs": [],
   "source": [
    "def getOneLocation(client, data_key, elementkey):\n",
    "\n",
    "    results = client.get(data_key,\n",
    "                     select='sourceelementkey,location',\n",
    "                     sourceelementkey=elementkey,\n",
    "                     limit=1)\n",
    "    #print(results)\n",
    "    return results"
   ]
  },
  {
   "cell_type": "code",
   "execution_count": 67,
   "metadata": {},
   "outputs": [
    {
     "name": "stdout",
     "output_type": "stream",
     "text": [
      "i: 136999\tpercent done : 99.999\r"
     ]
    }
   ],
   "source": [
    "all_results = []\n",
    "\n",
    "#initialize client\n",
    "client = Socrata('data.seattle.gov',\n",
    "                 app_tokens.getAppTokens()['seattle_gov'],\n",
    "                timeout=60)\n",
    "# loop through possible values\n",
    "start = 1000\n",
    "stop = 137000\n",
    "for i in range(start, stop):\n",
    "    print('i: %5d\\tpercent done : %.3f' % (i, 100*(i - start) /(stop-start)), end='\\r')\n",
    "    results = getOneLocation(client=client, data_key=data_ytd, elementkey=i)\n",
    "    #print(len(results))\n",
    "    if len(results) > 0:\n",
    "        all_results.append(results[0])\n",
    "\n",
    "# close connection\n",
    "client.close()"
   ]
  },
  {
   "cell_type": "code",
   "execution_count": 68,
   "metadata": {},
   "outputs": [],
   "source": [
    "df_all = pd.DataFrame.from_records(all_results)\n",
    "df_all['sourceelementkey'] = df_all['sourceelementkey'].apply(pd.to_numeric)\n",
    "df_all = df_all.sort_values(by='sourceelementkey')\n",
    "df_all[['latitude', 'longitude']] = df_all.location.apply(unpackCoordinates)"
   ]
  },
  {
   "cell_type": "code",
   "execution_count": 69,
   "metadata": {},
   "outputs": [
    {
     "name": "stdout",
     "output_type": "stream",
     "text": [
      "<class 'pandas.core.frame.DataFrame'>\n",
      "Int64Index: 1505 entries, 0 to 1504\n",
      "Data columns (total 4 columns):\n",
      "location            1505 non-null object\n",
      "sourceelementkey    1505 non-null int64\n",
      "latitude            1505 non-null float64\n",
      "longitude           1505 non-null float64\n",
      "dtypes: float64(2), int64(1), object(1)\n",
      "memory usage: 58.8+ KB\n"
     ]
    }
   ],
   "source": [
    "df_all.info()"
   ]
  },
  {
   "cell_type": "code",
   "execution_count": 70,
   "metadata": {},
   "outputs": [],
   "source": [
    "df_all.to_csv('block_locations.csv')"
   ]
  },
  {
   "cell_type": "code",
   "execution_count": null,
   "metadata": {},
   "outputs": [],
   "source": []
  }
 ],
 "metadata": {
  "kernelspec": {
   "display_name": "Python 3",
   "language": "python",
   "name": "python3"
  },
  "language_info": {
   "codemirror_mode": {
    "name": "ipython",
    "version": 3
   },
   "file_extension": ".py",
   "mimetype": "text/x-python",
   "name": "python",
   "nbconvert_exporter": "python",
   "pygments_lexer": "ipython3",
   "version": "3.7.3"
  }
 },
 "nbformat": 4,
 "nbformat_minor": 2
}
