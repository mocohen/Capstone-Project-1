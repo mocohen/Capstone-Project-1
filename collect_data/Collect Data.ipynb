{
 "cells": [
  {
   "cell_type": "code",
   "execution_count": 49,
   "metadata": {},
   "outputs": [],
   "source": [
    "import pandas as pd\n",
    "import numpy as np\n",
    "import sklearn as sk\n",
    "from datetime import timedelta, date\n",
    "from sodapy import Socrata\n"
   ]
  },
  {
   "cell_type": "code",
   "execution_count": null,
   "metadata": {
    "scrolled": true
   },
   "outputs": [
    {
     "name": "stdout",
     "output_type": "stream",
     "text": [
      "records read: 1.259MM\r"
     ]
    }
   ],
   "source": [
    "# Unauthenticated client only works with public data sets. Note 'None'\n",
    "# in place of application token, and no username or password:\n",
    "#client = Socrata(\"data.seattle.gov\", None)\n",
    "\n",
    "# Example authenticated client (needed for non-public datasets):\n",
    "client = Socrata('data.seattle.gov',\n",
    "                 'sTbG6jfU0iYQQ463GDals2WXx',\n",
    "                timeout=120)\n",
    "\n",
    "#data is delayed 48 hrs\n",
    "# socrata data keys for parking data\n",
    "#2019 ytd\n",
    "data_ytd = 'qktt-2bsy'\n",
    "#last 30 days\n",
    "data_mtd = 'rke9-rsvs'\n",
    "# last 48 hours\n",
    "data_48hrs = 'hiyf-7edq'\n",
    "\n",
    "\n",
    "# Number of records to read at a time\n",
    "loop_size = df_len = 1000\n",
    "# list of dataframes\n",
    "dfs = []\n",
    "\n",
    "# columns that are numeric\n",
    "num_cols = ['paidoccupancy','parkingspacecount','parkingtimelimitcategory','sourceelementkey']\n",
    "\n",
    "i = 0\n",
    "#check to see if last record was full or not\n",
    "while loop_size == df_len:\n",
    "    #print(i)\n",
    "    print('records read: %.3fMM' % (i*loop_size/1e6), end='\\r')\n",
    "    # fetch results from seattle city server\n",
    "    try:\n",
    "        results = client.get(data_mtd,\n",
    "                         paidparkingarea='Belltown', \n",
    "                         select='occupancydatetime,paidoccupancy,parkingspacecount,parkingtimelimitcategory,sourceelementkey',\n",
    "                         order='occupancydatetime',\n",
    "                         limit=loop_size,\n",
    "                         offset=loop_size * i)\n",
    "    except:\n",
    "        raise('Failed!')\n",
    "    #convert to dataframe\n",
    "    df = pd.DataFrame.from_records(results)\n",
    "\n",
    "    # convert to appropriate data types\n",
    "    df[num_cols] = df[num_cols].apply(pd.to_numeric)\n",
    "    df[['occupancydatetime']] = df[['occupancydatetime']].apply(pd.to_datetime)    \n",
    "    \n",
    "    # get length of new dataframe\n",
    "    df_len = len(df)\n",
    "    #append dataframe to list of dataframe\n",
    "    dfs.append(df)\n",
    "    #update counter\n",
    "    i += 1\n",
    "\n",
    "\n"
   ]
  },
  {
   "cell_type": "code",
   "execution_count": 51,
   "metadata": {},
   "outputs": [],
   "source": [
    "results_df = pd.concat(dfs, ignore_index=True)"
   ]
  },
  {
   "cell_type": "code",
   "execution_count": 52,
   "metadata": {},
   "outputs": [],
   "source": [
    "results_df.to_pickle(\"./30days.pkl\")"
   ]
  },
  {
   "cell_type": "code",
   "execution_count": 53,
   "metadata": {},
   "outputs": [
    {
     "data": {
      "text/plain": [
       "251"
      ]
     },
     "execution_count": 53,
     "metadata": {},
     "output_type": "execute_result"
    }
   ],
   "source": [
    "results_df['sourceelementkey'].nunique()"
   ]
  },
  {
   "cell_type": "code",
   "execution_count": 55,
   "metadata": {},
   "outputs": [
    {
     "name": "stdout",
     "output_type": "stream",
     "text": [
      "469\n"
     ]
    }
   ],
   "source": [
    "print(len(dfs))"
   ]
  },
  {
   "cell_type": "code",
   "execution_count": null,
   "metadata": {},
   "outputs": [],
   "source": []
  }
 ],
 "metadata": {
  "kernelspec": {
   "display_name": "Python 3",
   "language": "python",
   "name": "python3"
  }
 },
 "nbformat": 4,
 "nbformat_minor": 2
}
