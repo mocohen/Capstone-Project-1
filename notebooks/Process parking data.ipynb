{
 "cells": [
  {
   "cell_type": "code",
   "execution_count": 4,
   "metadata": {},
   "outputs": [],
   "source": [
    "import pandas as pd\n",
    "import sys\n",
    "\n",
    "sys.path.append('../src/')\n",
    "\n",
    "import ResampleData"
   ]
  },
  {
   "cell_type": "code",
   "execution_count": null,
   "metadata": {},
   "outputs": [],
   "source": [
    "ResampleData.downsampleData('../data/5min.pkl', '../data/15min.pkl', '15min', impute=True)\n",
    "ResampleData.downsampleData('../data/15min.pkl', '../data/1hr.pkl', 'H', impute=True)"
   ]
  },
  {
   "cell_type": "code",
   "execution_count": null,
   "metadata": {},
   "outputs": [],
   "source": [
    "ResampleData.averageWithinRadius('../data/1hr.pkl', \n",
    "                                 '../data/1hr_1block-average.pkl', \n",
    "                                 blockfaceFile='blockface_detail.csv',\n",
    "                                distanceCutoff=.0625)"
   ]
  }
 ],
 "metadata": {
  "kernelspec": {
   "display_name": "Python 3",
   "language": "python",
   "name": "python3"
  },
  "language_info": {
   "codemirror_mode": {
    "name": "ipython",
    "version": 3
   },
   "file_extension": ".py",
   "mimetype": "text/x-python",
   "name": "python",
   "nbconvert_exporter": "python",
   "pygments_lexer": "ipython3",
   "version": "3.7.4"
  }
 },
 "nbformat": 4,
 "nbformat_minor": 2
}
