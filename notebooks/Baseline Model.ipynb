{
 "cells": [
  {
   "cell_type": "markdown",
   "metadata": {},
   "source": [
    "# Build a Baseline Model\n",
    "\n",
    "Here I build a baseline model for comparison with model building in the future."
   ]
  },
  {
   "cell_type": "markdown",
   "metadata": {},
   "source": [
    "### Load Modules"
   ]
  },
  {
   "cell_type": "code",
   "execution_count": 248,
   "metadata": {},
   "outputs": [],
   "source": [
    "import pandas as pd\n",
    "import numpy as np\n",
    "from sklearn.model_selection import train_test_split\n",
    "import lightgbm as lgb\n",
    "from statsmodels.tsa.seasonal import seasonal_decompose\n",
    "import matplotlib.pyplot as plt\n",
    "import pmdarima as pm\n",
    "from pmdarima import auto_arima\n",
    "import datetime\n",
    "%matplotlib inline"
   ]
  },
  {
   "cell_type": "code",
   "execution_count": 249,
   "metadata": {},
   "outputs": [
    {
     "name": "stdout",
     "output_type": "stream",
     "text": [
      "1.1_Get_All_Parking_Zones.ipynb       README.md\r\n",
      "1.2_Get_Detailed_Blockface_Info.ipynb Test_Collecting_Data.ipynb\r\n",
      "1.3_Get_Parking_Data.ipynb            block_locations.csv\r\n",
      "1.4_Format_archived_data.ipynb        blockface_detail.csv\r\n",
      "1.5_Process_Weather_Data.ipynb        data_by_day.pkl\r\n",
      "2019.1001.pkl                         \u001b[34mdata_files\u001b[m\u001b[m\r\n",
      "2019.1002.pkl                         \u001b[34mfailed\u001b[m\u001b[m\r\n",
      "2019.1006.pkl                         seattle_map.png\r\n",
      "GetParkingData.py\r\n"
     ]
    }
   ],
   "source": [
    "!ls 1.collect_data/"
   ]
  },
  {
   "cell_type": "code",
   "execution_count": 250,
   "metadata": {},
   "outputs": [],
   "source": [
    "blockface_detail = pd.read_csv('1.collect_data/blockface_detail.csv')"
   ]
  },
  {
   "cell_type": "code",
   "execution_count": 251,
   "metadata": {},
   "outputs": [
    {
     "data": {
      "text/html": [
       "<div>\n",
       "<style scoped>\n",
       "    .dataframe tbody tr th:only-of-type {\n",
       "        vertical-align: middle;\n",
       "    }\n",
       "\n",
       "    .dataframe tbody tr th {\n",
       "        vertical-align: top;\n",
       "    }\n",
       "\n",
       "    .dataframe thead th {\n",
       "        text-align: right;\n",
       "    }\n",
       "</style>\n",
       "<table border=\"1\" class=\"dataframe\">\n",
       "  <thead>\n",
       "    <tr style=\"text-align: right;\">\n",
       "      <th></th>\n",
       "      <th>latitude</th>\n",
       "      <th>longitude</th>\n",
       "      <th>sourceelementkey</th>\n",
       "    </tr>\n",
       "  </thead>\n",
       "  <tbody>\n",
       "    <tr>\n",
       "      <td>0</td>\n",
       "      <td>47.602873</td>\n",
       "      <td>-122.334694</td>\n",
       "      <td>1001</td>\n",
       "    </tr>\n",
       "    <tr>\n",
       "      <td>1</td>\n",
       "      <td>47.602949</td>\n",
       "      <td>-122.334513</td>\n",
       "      <td>1002</td>\n",
       "    </tr>\n",
       "    <tr>\n",
       "      <td>2</td>\n",
       "      <td>47.603674</td>\n",
       "      <td>-122.335143</td>\n",
       "      <td>1006</td>\n",
       "    </tr>\n",
       "    <tr>\n",
       "      <td>3</td>\n",
       "      <td>47.605018</td>\n",
       "      <td>-122.336658</td>\n",
       "      <td>1009</td>\n",
       "    </tr>\n",
       "    <tr>\n",
       "      <td>4</td>\n",
       "      <td>47.605101</td>\n",
       "      <td>-122.336447</td>\n",
       "      <td>1010</td>\n",
       "    </tr>\n",
       "  </tbody>\n",
       "</table>\n",
       "</div>"
      ],
      "text/plain": [
       "    latitude   longitude  sourceelementkey\n",
       "0  47.602873 -122.334694              1001\n",
       "1  47.602949 -122.334513              1002\n",
       "2  47.603674 -122.335143              1006\n",
       "3  47.605018 -122.336658              1009\n",
       "4  47.605101 -122.336447              1010"
      ]
     },
     "execution_count": 251,
     "metadata": {},
     "output_type": "execute_result"
    }
   ],
   "source": [
    "blockface_detail_locs = blockface_detail[['latitude', 'longitude', 'sourceelementkey']]\n",
    "blockface_detail_locs.head()"
   ]
  },
  {
   "cell_type": "markdown",
   "metadata": {},
   "source": [
    "Load in dataframe "
   ]
  },
  {
   "cell_type": "code",
   "execution_count": 252,
   "metadata": {},
   "outputs": [],
   "source": [
    "df = pd.read_pickle('1.collect_data/data_files/1hr.pkl').replace([np.inf, -np.inf], np.nan).dropna()"
   ]
  },
  {
   "cell_type": "code",
   "execution_count": 253,
   "metadata": {},
   "outputs": [
    {
     "data": {
      "text/html": [
       "<div>\n",
       "<style scoped>\n",
       "    .dataframe tbody tr th:only-of-type {\n",
       "        vertical-align: middle;\n",
       "    }\n",
       "\n",
       "    .dataframe tbody tr th {\n",
       "        vertical-align: top;\n",
       "    }\n",
       "\n",
       "    .dataframe thead th {\n",
       "        text-align: right;\n",
       "    }\n",
       "</style>\n",
       "<table border=\"1\" class=\"dataframe\">\n",
       "  <thead>\n",
       "    <tr style=\"text-align: right;\">\n",
       "      <th></th>\n",
       "      <th></th>\n",
       "      <th>PaidOccupancy</th>\n",
       "      <th>ParkingSpaceCount</th>\n",
       "      <th>PercentOccupied</th>\n",
       "    </tr>\n",
       "    <tr>\n",
       "      <th>SourceElementKey</th>\n",
       "      <th>OccupancyDateTime</th>\n",
       "      <th></th>\n",
       "      <th></th>\n",
       "      <th></th>\n",
       "    </tr>\n",
       "  </thead>\n",
       "  <tbody>\n",
       "    <tr>\n",
       "      <td rowspan=\"5\" valign=\"top\">1001</td>\n",
       "      <td>2012-01-03 09:00:00</td>\n",
       "      <td>0.983333</td>\n",
       "      <td>7.0</td>\n",
       "      <td>0.140476</td>\n",
       "    </tr>\n",
       "    <tr>\n",
       "      <td>2012-01-03 10:00:00</td>\n",
       "      <td>2.016667</td>\n",
       "      <td>7.0</td>\n",
       "      <td>0.288095</td>\n",
       "    </tr>\n",
       "    <tr>\n",
       "      <td>2012-01-03 11:00:00</td>\n",
       "      <td>4.633333</td>\n",
       "      <td>7.0</td>\n",
       "      <td>0.661905</td>\n",
       "    </tr>\n",
       "    <tr>\n",
       "      <td>2012-01-03 12:00:00</td>\n",
       "      <td>3.283333</td>\n",
       "      <td>7.0</td>\n",
       "      <td>0.469048</td>\n",
       "    </tr>\n",
       "    <tr>\n",
       "      <td>2012-01-03 13:00:00</td>\n",
       "      <td>1.116667</td>\n",
       "      <td>7.0</td>\n",
       "      <td>0.159524</td>\n",
       "    </tr>\n",
       "  </tbody>\n",
       "</table>\n",
       "</div>"
      ],
      "text/plain": [
       "                                      PaidOccupancy  ParkingSpaceCount  \\\n",
       "SourceElementKey OccupancyDateTime                                       \n",
       "1001             2012-01-03 09:00:00       0.983333                7.0   \n",
       "                 2012-01-03 10:00:00       2.016667                7.0   \n",
       "                 2012-01-03 11:00:00       4.633333                7.0   \n",
       "                 2012-01-03 12:00:00       3.283333                7.0   \n",
       "                 2012-01-03 13:00:00       1.116667                7.0   \n",
       "\n",
       "                                      PercentOccupied  \n",
       "SourceElementKey OccupancyDateTime                     \n",
       "1001             2012-01-03 09:00:00         0.140476  \n",
       "                 2012-01-03 10:00:00         0.288095  \n",
       "                 2012-01-03 11:00:00         0.661905  \n",
       "                 2012-01-03 12:00:00         0.469048  \n",
       "                 2012-01-03 13:00:00         0.159524  "
      ]
     },
     "execution_count": 253,
     "metadata": {},
     "output_type": "execute_result"
    }
   ],
   "source": [
    "df.head()"
   ]
  },
  {
   "cell_type": "markdown",
   "metadata": {},
   "source": [
    "Reset index required to use the blockID and datetime as parameters for the model"
   ]
  },
  {
   "cell_type": "code",
   "execution_count": 254,
   "metadata": {},
   "outputs": [],
   "source": [
    "df.reset_index(inplace=True)"
   ]
  },
  {
   "cell_type": "code",
   "execution_count": 255,
   "metadata": {},
   "outputs": [],
   "source": [
    "last_two_years = df[df['OccupancyDateTime'] > '2018-01-01 00:00:00']"
   ]
  },
  {
   "cell_type": "code",
   "execution_count": 256,
   "metadata": {},
   "outputs": [
    {
     "data": {
      "text/html": [
       "<div>\n",
       "<style scoped>\n",
       "    .dataframe tbody tr th:only-of-type {\n",
       "        vertical-align: middle;\n",
       "    }\n",
       "\n",
       "    .dataframe tbody tr th {\n",
       "        vertical-align: top;\n",
       "    }\n",
       "\n",
       "    .dataframe thead th {\n",
       "        text-align: right;\n",
       "    }\n",
       "</style>\n",
       "<table border=\"1\" class=\"dataframe\">\n",
       "  <thead>\n",
       "    <tr style=\"text-align: right;\">\n",
       "      <th></th>\n",
       "      <th>SourceElementKey</th>\n",
       "      <th>OccupancyDateTime</th>\n",
       "      <th>PaidOccupancy</th>\n",
       "      <th>ParkingSpaceCount</th>\n",
       "      <th>PercentOccupied</th>\n",
       "    </tr>\n",
       "  </thead>\n",
       "  <tbody>\n",
       "    <tr>\n",
       "      <td>18164</td>\n",
       "      <td>1001</td>\n",
       "      <td>2018-01-02 09:00:00</td>\n",
       "      <td>0.000000</td>\n",
       "      <td>5.0</td>\n",
       "      <td>0.000000</td>\n",
       "    </tr>\n",
       "    <tr>\n",
       "      <td>18165</td>\n",
       "      <td>1001</td>\n",
       "      <td>2018-01-02 10:00:00</td>\n",
       "      <td>0.000000</td>\n",
       "      <td>5.0</td>\n",
       "      <td>0.000000</td>\n",
       "    </tr>\n",
       "    <tr>\n",
       "      <td>18166</td>\n",
       "      <td>1001</td>\n",
       "      <td>2018-01-02 11:00:00</td>\n",
       "      <td>0.000000</td>\n",
       "      <td>5.0</td>\n",
       "      <td>0.000000</td>\n",
       "    </tr>\n",
       "    <tr>\n",
       "      <td>18167</td>\n",
       "      <td>1001</td>\n",
       "      <td>2018-01-02 12:00:00</td>\n",
       "      <td>0.116667</td>\n",
       "      <td>5.0</td>\n",
       "      <td>0.023333</td>\n",
       "    </tr>\n",
       "    <tr>\n",
       "      <td>18168</td>\n",
       "      <td>1001</td>\n",
       "      <td>2018-01-02 13:00:00</td>\n",
       "      <td>0.000000</td>\n",
       "      <td>5.0</td>\n",
       "      <td>0.000000</td>\n",
       "    </tr>\n",
       "  </tbody>\n",
       "</table>\n",
       "</div>"
      ],
      "text/plain": [
       "       SourceElementKey   OccupancyDateTime  PaidOccupancy  ParkingSpaceCount  \\\n",
       "18164              1001 2018-01-02 09:00:00       0.000000                5.0   \n",
       "18165              1001 2018-01-02 10:00:00       0.000000                5.0   \n",
       "18166              1001 2018-01-02 11:00:00       0.000000                5.0   \n",
       "18167              1001 2018-01-02 12:00:00       0.116667                5.0   \n",
       "18168              1001 2018-01-02 13:00:00       0.000000                5.0   \n",
       "\n",
       "       PercentOccupied  \n",
       "18164         0.000000  \n",
       "18165         0.000000  \n",
       "18166         0.000000  \n",
       "18167         0.023333  \n",
       "18168         0.000000  "
      ]
     },
     "execution_count": 256,
     "metadata": {},
     "output_type": "execute_result"
    }
   ],
   "source": [
    "last_two_years.head()"
   ]
  },
  {
   "cell_type": "code",
   "execution_count": 257,
   "metadata": {
    "scrolled": true
   },
   "outputs": [
    {
     "data": {
      "text/plain": [
       "38586661    4\n",
       "38586662    4\n",
       "38586663    4\n",
       "38586664    4\n",
       "38586665    4\n",
       "Name: OccupancyDateTime, dtype: int64"
      ]
     },
     "execution_count": 257,
     "metadata": {},
     "output_type": "execute_result"
    }
   ],
   "source": [
    "last_two_years.tail().OccupancyDateTime.dt.dayofweek"
   ]
  },
  {
   "cell_type": "code",
   "execution_count": 258,
   "metadata": {},
   "outputs": [],
   "source": [
    "merged = pd.merge(last_two_years, \n",
    "                  blockface_detail_locs, \n",
    "                  how='left', \n",
    "                  left_on='SourceElementKey', \n",
    "                  right_on='sourceelementkey').drop('sourceelementkey', axis=1)"
   ]
  },
  {
   "cell_type": "code",
   "execution_count": 259,
   "metadata": {},
   "outputs": [
    {
     "data": {
      "text/html": [
       "<div>\n",
       "<style scoped>\n",
       "    .dataframe tbody tr th:only-of-type {\n",
       "        vertical-align: middle;\n",
       "    }\n",
       "\n",
       "    .dataframe tbody tr th {\n",
       "        vertical-align: top;\n",
       "    }\n",
       "\n",
       "    .dataframe thead th {\n",
       "        text-align: right;\n",
       "    }\n",
       "</style>\n",
       "<table border=\"1\" class=\"dataframe\">\n",
       "  <thead>\n",
       "    <tr style=\"text-align: right;\">\n",
       "      <th></th>\n",
       "      <th>SourceElementKey</th>\n",
       "      <th>OccupancyDateTime</th>\n",
       "      <th>PaidOccupancy</th>\n",
       "      <th>ParkingSpaceCount</th>\n",
       "      <th>PercentOccupied</th>\n",
       "      <th>latitude</th>\n",
       "      <th>longitude</th>\n",
       "    </tr>\n",
       "  </thead>\n",
       "  <tbody>\n",
       "    <tr>\n",
       "      <td>8646182</td>\n",
       "      <td>121340</td>\n",
       "      <td>2019-08-30 13:00:00</td>\n",
       "      <td>1.100000</td>\n",
       "      <td>2.0</td>\n",
       "      <td>0.550000</td>\n",
       "      <td>47.624221</td>\n",
       "      <td>-122.333423</td>\n",
       "    </tr>\n",
       "    <tr>\n",
       "      <td>8646183</td>\n",
       "      <td>121340</td>\n",
       "      <td>2019-08-30 14:00:00</td>\n",
       "      <td>0.916667</td>\n",
       "      <td>2.0</td>\n",
       "      <td>0.458333</td>\n",
       "      <td>47.624221</td>\n",
       "      <td>-122.333423</td>\n",
       "    </tr>\n",
       "    <tr>\n",
       "      <td>8646184</td>\n",
       "      <td>121340</td>\n",
       "      <td>2019-08-30 15:00:00</td>\n",
       "      <td>0.633333</td>\n",
       "      <td>2.0</td>\n",
       "      <td>0.316667</td>\n",
       "      <td>47.624221</td>\n",
       "      <td>-122.333423</td>\n",
       "    </tr>\n",
       "    <tr>\n",
       "      <td>8646185</td>\n",
       "      <td>121340</td>\n",
       "      <td>2019-08-30 16:00:00</td>\n",
       "      <td>0.000000</td>\n",
       "      <td>2.0</td>\n",
       "      <td>0.000000</td>\n",
       "      <td>47.624221</td>\n",
       "      <td>-122.333423</td>\n",
       "    </tr>\n",
       "    <tr>\n",
       "      <td>8646186</td>\n",
       "      <td>121340</td>\n",
       "      <td>2019-08-30 17:00:00</td>\n",
       "      <td>0.000000</td>\n",
       "      <td>2.0</td>\n",
       "      <td>0.000000</td>\n",
       "      <td>47.624221</td>\n",
       "      <td>-122.333423</td>\n",
       "    </tr>\n",
       "  </tbody>\n",
       "</table>\n",
       "</div>"
      ],
      "text/plain": [
       "         SourceElementKey   OccupancyDateTime  PaidOccupancy  \\\n",
       "8646182            121340 2019-08-30 13:00:00       1.100000   \n",
       "8646183            121340 2019-08-30 14:00:00       0.916667   \n",
       "8646184            121340 2019-08-30 15:00:00       0.633333   \n",
       "8646185            121340 2019-08-30 16:00:00       0.000000   \n",
       "8646186            121340 2019-08-30 17:00:00       0.000000   \n",
       "\n",
       "         ParkingSpaceCount  PercentOccupied   latitude   longitude  \n",
       "8646182                2.0         0.550000  47.624221 -122.333423  \n",
       "8646183                2.0         0.458333  47.624221 -122.333423  \n",
       "8646184                2.0         0.316667  47.624221 -122.333423  \n",
       "8646185                2.0         0.000000  47.624221 -122.333423  \n",
       "8646186                2.0         0.000000  47.624221 -122.333423  "
      ]
     },
     "execution_count": 259,
     "metadata": {},
     "output_type": "execute_result"
    }
   ],
   "source": [
    "merged.tail()"
   ]
  },
  {
   "cell_type": "markdown",
   "metadata": {},
   "source": [
    "Here I add month,day, year etc. so that the ML model can be trained on them."
   ]
  },
  {
   "cell_type": "code",
   "execution_count": 260,
   "metadata": {},
   "outputs": [],
   "source": [
    "merged['Month'] = merged.OccupancyDateTime.dt.month\n",
    "merged['Year'] = merged.OccupancyDateTime.dt.year\n",
    "merged['Hour'] = merged.OccupancyDateTime.dt.hour\n",
    "merged['DayOfWeek'] = merged.OccupancyDateTime.dt.dayofweek\n",
    "merged['Day'] = merged.OccupancyDateTime.dt.day"
   ]
  },
  {
   "cell_type": "code",
   "execution_count": 261,
   "metadata": {},
   "outputs": [],
   "source": [
    "merged['Dummy'] = 0"
   ]
  },
  {
   "cell_type": "code",
   "execution_count": 262,
   "metadata": {
    "scrolled": true
   },
   "outputs": [
    {
     "data": {
      "text/html": [
       "<div>\n",
       "<style scoped>\n",
       "    .dataframe tbody tr th:only-of-type {\n",
       "        vertical-align: middle;\n",
       "    }\n",
       "\n",
       "    .dataframe tbody tr th {\n",
       "        vertical-align: top;\n",
       "    }\n",
       "\n",
       "    .dataframe thead th {\n",
       "        text-align: right;\n",
       "    }\n",
       "</style>\n",
       "<table border=\"1\" class=\"dataframe\">\n",
       "  <thead>\n",
       "    <tr style=\"text-align: right;\">\n",
       "      <th></th>\n",
       "      <th>SourceElementKey</th>\n",
       "      <th>OccupancyDateTime</th>\n",
       "      <th>PaidOccupancy</th>\n",
       "      <th>ParkingSpaceCount</th>\n",
       "      <th>PercentOccupied</th>\n",
       "      <th>latitude</th>\n",
       "      <th>longitude</th>\n",
       "      <th>Month</th>\n",
       "      <th>Year</th>\n",
       "      <th>Hour</th>\n",
       "      <th>DayOfWeek</th>\n",
       "      <th>Day</th>\n",
       "      <th>Dummy</th>\n",
       "    </tr>\n",
       "  </thead>\n",
       "  <tbody>\n",
       "    <tr>\n",
       "      <td>0</td>\n",
       "      <td>1001</td>\n",
       "      <td>2018-01-02 09:00:00</td>\n",
       "      <td>0.000000</td>\n",
       "      <td>5.0</td>\n",
       "      <td>0.000000</td>\n",
       "      <td>47.602873</td>\n",
       "      <td>-122.334694</td>\n",
       "      <td>1</td>\n",
       "      <td>2018</td>\n",
       "      <td>9</td>\n",
       "      <td>1</td>\n",
       "      <td>2</td>\n",
       "      <td>0</td>\n",
       "    </tr>\n",
       "    <tr>\n",
       "      <td>1</td>\n",
       "      <td>1001</td>\n",
       "      <td>2018-01-02 10:00:00</td>\n",
       "      <td>0.000000</td>\n",
       "      <td>5.0</td>\n",
       "      <td>0.000000</td>\n",
       "      <td>47.602873</td>\n",
       "      <td>-122.334694</td>\n",
       "      <td>1</td>\n",
       "      <td>2018</td>\n",
       "      <td>10</td>\n",
       "      <td>1</td>\n",
       "      <td>2</td>\n",
       "      <td>0</td>\n",
       "    </tr>\n",
       "    <tr>\n",
       "      <td>2</td>\n",
       "      <td>1001</td>\n",
       "      <td>2018-01-02 11:00:00</td>\n",
       "      <td>0.000000</td>\n",
       "      <td>5.0</td>\n",
       "      <td>0.000000</td>\n",
       "      <td>47.602873</td>\n",
       "      <td>-122.334694</td>\n",
       "      <td>1</td>\n",
       "      <td>2018</td>\n",
       "      <td>11</td>\n",
       "      <td>1</td>\n",
       "      <td>2</td>\n",
       "      <td>0</td>\n",
       "    </tr>\n",
       "    <tr>\n",
       "      <td>3</td>\n",
       "      <td>1001</td>\n",
       "      <td>2018-01-02 12:00:00</td>\n",
       "      <td>0.116667</td>\n",
       "      <td>5.0</td>\n",
       "      <td>0.023333</td>\n",
       "      <td>47.602873</td>\n",
       "      <td>-122.334694</td>\n",
       "      <td>1</td>\n",
       "      <td>2018</td>\n",
       "      <td>12</td>\n",
       "      <td>1</td>\n",
       "      <td>2</td>\n",
       "      <td>0</td>\n",
       "    </tr>\n",
       "    <tr>\n",
       "      <td>4</td>\n",
       "      <td>1001</td>\n",
       "      <td>2018-01-02 13:00:00</td>\n",
       "      <td>0.000000</td>\n",
       "      <td>5.0</td>\n",
       "      <td>0.000000</td>\n",
       "      <td>47.602873</td>\n",
       "      <td>-122.334694</td>\n",
       "      <td>1</td>\n",
       "      <td>2018</td>\n",
       "      <td>13</td>\n",
       "      <td>1</td>\n",
       "      <td>2</td>\n",
       "      <td>0</td>\n",
       "    </tr>\n",
       "  </tbody>\n",
       "</table>\n",
       "</div>"
      ],
      "text/plain": [
       "   SourceElementKey   OccupancyDateTime  PaidOccupancy  ParkingSpaceCount  \\\n",
       "0              1001 2018-01-02 09:00:00       0.000000                5.0   \n",
       "1              1001 2018-01-02 10:00:00       0.000000                5.0   \n",
       "2              1001 2018-01-02 11:00:00       0.000000                5.0   \n",
       "3              1001 2018-01-02 12:00:00       0.116667                5.0   \n",
       "4              1001 2018-01-02 13:00:00       0.000000                5.0   \n",
       "\n",
       "   PercentOccupied   latitude   longitude  Month  Year  Hour  DayOfWeek  Day  \\\n",
       "0         0.000000  47.602873 -122.334694      1  2018     9          1    2   \n",
       "1         0.000000  47.602873 -122.334694      1  2018    10          1    2   \n",
       "2         0.000000  47.602873 -122.334694      1  2018    11          1    2   \n",
       "3         0.023333  47.602873 -122.334694      1  2018    12          1    2   \n",
       "4         0.000000  47.602873 -122.334694      1  2018    13          1    2   \n",
       "\n",
       "   Dummy  \n",
       "0      0  \n",
       "1      0  \n",
       "2      0  \n",
       "3      0  \n",
       "4      0  "
      ]
     },
     "execution_count": 262,
     "metadata": {},
     "output_type": "execute_result"
    }
   ],
   "source": [
    "merged.head()"
   ]
  },
  {
   "cell_type": "code",
   "execution_count": 263,
   "metadata": {
    "scrolled": false
   },
   "outputs": [
    {
     "data": {
      "text/plain": [
       "SourceElementKey         0\n",
       "OccupancyDateTime        0\n",
       "PaidOccupancy            0\n",
       "ParkingSpaceCount        0\n",
       "PercentOccupied          0\n",
       "latitude             78541\n",
       "longitude            78541\n",
       "Month                    0\n",
       "Year                     0\n",
       "Hour                     0\n",
       "DayOfWeek                0\n",
       "Day                      0\n",
       "Dummy                    0\n",
       "dtype: int64"
      ]
     },
     "execution_count": 263,
     "metadata": {},
     "output_type": "execute_result"
    }
   ],
   "source": [
    "merged.isna().sum()"
   ]
  },
  {
   "cell_type": "code",
   "execution_count": 268,
   "metadata": {},
   "outputs": [],
   "source": [
    "# y = df['PercentOccupied'].values\n",
    "# X = df[['Dummy', 'SourceElementKey']]"
   ]
  },
  {
   "cell_type": "markdown",
   "metadata": {},
   "source": [
    "Split the data into train and test sets"
   ]
  },
  {
   "cell_type": "code",
   "execution_count": 269,
   "metadata": {},
   "outputs": [],
   "source": [
    "df_train, df_test = train_test_split(\n",
    "    merged, test_size=0.3, random_state=42)"
   ]
  },
  {
   "cell_type": "code",
   "execution_count": 270,
   "metadata": {},
   "outputs": [],
   "source": [
    "baseline_columns = ['Dummy', 'SourceElementKey']"
   ]
  },
  {
   "cell_type": "code",
   "execution_count": 271,
   "metadata": {
    "scrolled": false
   },
   "outputs": [
    {
     "data": {
      "text/html": [
       "<div>\n",
       "<style scoped>\n",
       "    .dataframe tbody tr th:only-of-type {\n",
       "        vertical-align: middle;\n",
       "    }\n",
       "\n",
       "    .dataframe tbody tr th {\n",
       "        vertical-align: top;\n",
       "    }\n",
       "\n",
       "    .dataframe thead th {\n",
       "        text-align: right;\n",
       "    }\n",
       "</style>\n",
       "<table border=\"1\" class=\"dataframe\">\n",
       "  <thead>\n",
       "    <tr style=\"text-align: right;\">\n",
       "      <th></th>\n",
       "      <th>SourceElementKey</th>\n",
       "      <th>OccupancyDateTime</th>\n",
       "      <th>PaidOccupancy</th>\n",
       "      <th>ParkingSpaceCount</th>\n",
       "      <th>PercentOccupied</th>\n",
       "      <th>latitude</th>\n",
       "      <th>longitude</th>\n",
       "      <th>Month</th>\n",
       "      <th>Year</th>\n",
       "      <th>Hour</th>\n",
       "      <th>DayOfWeek</th>\n",
       "      <th>Day</th>\n",
       "      <th>Dummy</th>\n",
       "    </tr>\n",
       "  </thead>\n",
       "  <tbody>\n",
       "    <tr>\n",
       "      <td>7651485</td>\n",
       "      <td>88774</td>\n",
       "      <td>2018-02-23 17:00:00</td>\n",
       "      <td>4.283333</td>\n",
       "      <td>8.0</td>\n",
       "      <td>0.535417</td>\n",
       "      <td>47.599962</td>\n",
       "      <td>-122.325679</td>\n",
       "      <td>2</td>\n",
       "      <td>2018</td>\n",
       "      <td>17</td>\n",
       "      <td>4</td>\n",
       "      <td>23</td>\n",
       "      <td>0</td>\n",
       "    </tr>\n",
       "    <tr>\n",
       "      <td>7468644</td>\n",
       "      <td>82654</td>\n",
       "      <td>2019-07-20 20:00:00</td>\n",
       "      <td>2.016667</td>\n",
       "      <td>3.0</td>\n",
       "      <td>0.672222</td>\n",
       "      <td>47.625181</td>\n",
       "      <td>-122.320511</td>\n",
       "      <td>7</td>\n",
       "      <td>2019</td>\n",
       "      <td>20</td>\n",
       "      <td>5</td>\n",
       "      <td>20</td>\n",
       "      <td>0</td>\n",
       "    </tr>\n",
       "    <tr>\n",
       "      <td>2972822</td>\n",
       "      <td>34837</td>\n",
       "      <td>2019-03-23 09:00:00</td>\n",
       "      <td>3.400000</td>\n",
       "      <td>4.0</td>\n",
       "      <td>0.850000</td>\n",
       "      <td>47.610500</td>\n",
       "      <td>-122.336214</td>\n",
       "      <td>3</td>\n",
       "      <td>2019</td>\n",
       "      <td>9</td>\n",
       "      <td>5</td>\n",
       "      <td>23</td>\n",
       "      <td>0</td>\n",
       "    </tr>\n",
       "    <tr>\n",
       "      <td>249555</td>\n",
       "      <td>2786</td>\n",
       "      <td>2018-11-29 09:00:00</td>\n",
       "      <td>4.783333</td>\n",
       "      <td>6.0</td>\n",
       "      <td>0.797222</td>\n",
       "      <td>47.616794</td>\n",
       "      <td>-122.350138</td>\n",
       "      <td>11</td>\n",
       "      <td>2018</td>\n",
       "      <td>9</td>\n",
       "      <td>3</td>\n",
       "      <td>29</td>\n",
       "      <td>0</td>\n",
       "    </tr>\n",
       "    <tr>\n",
       "      <td>7052602</td>\n",
       "      <td>80598</td>\n",
       "      <td>2019-07-05 10:00:00</td>\n",
       "      <td>4.066667</td>\n",
       "      <td>8.0</td>\n",
       "      <td>0.508333</td>\n",
       "      <td>47.676221</td>\n",
       "      <td>-122.317275</td>\n",
       "      <td>7</td>\n",
       "      <td>2019</td>\n",
       "      <td>10</td>\n",
       "      <td>4</td>\n",
       "      <td>5</td>\n",
       "      <td>0</td>\n",
       "    </tr>\n",
       "  </tbody>\n",
       "</table>\n",
       "</div>"
      ],
      "text/plain": [
       "         SourceElementKey   OccupancyDateTime  PaidOccupancy  \\\n",
       "7651485             88774 2018-02-23 17:00:00       4.283333   \n",
       "7468644             82654 2019-07-20 20:00:00       2.016667   \n",
       "2972822             34837 2019-03-23 09:00:00       3.400000   \n",
       "249555               2786 2018-11-29 09:00:00       4.783333   \n",
       "7052602             80598 2019-07-05 10:00:00       4.066667   \n",
       "\n",
       "         ParkingSpaceCount  PercentOccupied   latitude   longitude  Month  \\\n",
       "7651485                8.0         0.535417  47.599962 -122.325679      2   \n",
       "7468644                3.0         0.672222  47.625181 -122.320511      7   \n",
       "2972822                4.0         0.850000  47.610500 -122.336214      3   \n",
       "249555                 6.0         0.797222  47.616794 -122.350138     11   \n",
       "7052602                8.0         0.508333  47.676221 -122.317275      7   \n",
       "\n",
       "         Year  Hour  DayOfWeek  Day  Dummy  \n",
       "7651485  2018    17          4   23      0  \n",
       "7468644  2019    20          5   20      0  \n",
       "2972822  2019     9          5   23      0  \n",
       "249555   2018     9          3   29      0  \n",
       "7052602  2019    10          4    5      0  "
      ]
     },
     "execution_count": 271,
     "metadata": {},
     "output_type": "execute_result"
    }
   ],
   "source": [
    "df_train.head()"
   ]
  },
  {
   "cell_type": "markdown",
   "metadata": {},
   "source": [
    "Build the actual dataset objects for LightGBM"
   ]
  },
  {
   "cell_type": "code",
   "execution_count": 275,
   "metadata": {},
   "outputs": [],
   "source": [
    "lgb_train = lgb.Dataset(data=df_train[baseline_columns], \n",
    "                        label=df_train['PercentOccupied'], \n",
    "                        feature_name=baseline_columns, \n",
    "                        categorical_feature=['SourceElementKey'])\n",
    "lgb_test = lgb.Dataset(data=df_test[baseline_columns], \n",
    "                       label=df_test['PercentOccupied'], \n",
    "                       feature_name=baseline_columns, \n",
    "                       categorical_feature=['SourceElementKey'],\n",
    "                       reference=lgb_train)"
   ]
  },
  {
   "cell_type": "markdown",
   "metadata": {},
   "source": [
    "Set the parameters for the ML model"
   ]
  },
  {
   "cell_type": "code",
   "execution_count": 276,
   "metadata": {},
   "outputs": [],
   "source": [
    "params = {\n",
    "    'boosting_type': 'gbdt',\n",
    "    'objective': 'regression',\n",
    "    'metric': {'l2', 'l1'},\n",
    "    'num_leaves': 31,\n",
    "    'learning_rate': 0.05,\n",
    "    'feature_fraction': 0.9,\n",
    "    'bagging_fraction': 0.8,\n",
    "    'bagging_freq': 5,\n",
    "}"
   ]
  },
  {
   "cell_type": "markdown",
   "metadata": {},
   "source": [
    "Train model only on dummy variable and blockID"
   ]
  },
  {
   "cell_type": "code",
   "execution_count": 277,
   "metadata": {},
   "outputs": [],
   "source": [
    "#gbm = lgb.Booster(model_file='baseline_model.txt')"
   ]
  },
  {
   "cell_type": "code",
   "execution_count": 278,
   "metadata": {},
   "outputs": [
    {
     "name": "stdout",
     "output_type": "stream",
     "text": [
      "Starting training...\n"
     ]
    },
    {
     "name": "stderr",
     "output_type": "stream",
     "text": [
      "/Users/bethanys08/.pyenv/versions/anaconda3-2019.03/envs/myenv2/lib/python3.7/site-packages/lightgbm/basic.py:1205: UserWarning: Using categorical_feature in Dataset.\n",
      "  warnings.warn('Using categorical_feature in Dataset.')\n",
      "/Users/bethanys08/.pyenv/versions/anaconda3-2019.03/envs/myenv2/lib/python3.7/site-packages/lightgbm/basic.py:762: UserWarning: categorical_feature in param dict is overridden.\n",
      "  warnings.warn('categorical_feature in param dict is overridden.')\n"
     ]
    },
    {
     "name": "stdout",
     "output_type": "stream",
     "text": [
      "[1]\tvalid_0's l2: 0.139154\tvalid_0's l1: 0.284705\n",
      "[2]\tvalid_0's l2: 0.134714\tvalid_0's l1: 0.279733\n",
      "[3]\tvalid_0's l2: 0.130703\tvalid_0's l1: 0.275131\n",
      "[4]\tvalid_0's l2: 0.127081\tvalid_0's l1: 0.270888\n",
      "[5]\tvalid_0's l2: 0.123803\tvalid_0's l1: 0.266918\n",
      "[6]\tvalid_0's l2: 0.120847\tvalid_0's l1: 0.263266\n",
      "[7]\tvalid_0's l2: 0.118163\tvalid_0's l1: 0.259878\n",
      "[8]\tvalid_0's l2: 0.115739\tvalid_0's l1: 0.256695\n",
      "[9]\tvalid_0's l2: 0.113538\tvalid_0's l1: 0.253775\n",
      "[10]\tvalid_0's l2: 0.111552\tvalid_0's l1: 0.251031\n",
      "[11]\tvalid_0's l2: 0.109746\tvalid_0's l1: 0.248515\n",
      "[12]\tvalid_0's l2: 0.108113\tvalid_0's l1: 0.246139\n",
      "[13]\tvalid_0's l2: 0.106634\tvalid_0's l1: 0.243962\n",
      "[14]\tvalid_0's l2: 0.105301\tvalid_0's l1: 0.241922\n",
      "[15]\tvalid_0's l2: 0.104082\tvalid_0's l1: 0.240053\n",
      "[16]\tvalid_0's l2: 0.102984\tvalid_0's l1: 0.238289\n",
      "[17]\tvalid_0's l2: 0.101991\tvalid_0's l1: 0.23668\n",
      "[18]\tvalid_0's l2: 0.101087\tvalid_0's l1: 0.235161\n",
      "[19]\tvalid_0's l2: 0.10026\tvalid_0's l1: 0.233777\n",
      "[20]\tvalid_0's l2: 0.0995164\tvalid_0's l1: 0.232486\n",
      "[21]\tvalid_0's l2: 0.0988438\tvalid_0's l1: 0.231281\n",
      "[22]\tvalid_0's l2: 0.0982266\tvalid_0's l1: 0.230182\n",
      "[23]\tvalid_0's l2: 0.0976719\tvalid_0's l1: 0.229161\n",
      "[24]\tvalid_0's l2: 0.0971693\tvalid_0's l1: 0.228209\n",
      "[25]\tvalid_0's l2: 0.0967115\tvalid_0's l1: 0.227337\n",
      "[26]\tvalid_0's l2: 0.0962991\tvalid_0's l1: 0.226514\n",
      "[27]\tvalid_0's l2: 0.095921\tvalid_0's l1: 0.225761\n",
      "[28]\tvalid_0's l2: 0.0955802\tvalid_0's l1: 0.225069\n",
      "[29]\tvalid_0's l2: 0.0952734\tvalid_0's l1: 0.224432\n",
      "[30]\tvalid_0's l2: 0.0949927\tvalid_0's l1: 0.223829\n",
      "[31]\tvalid_0's l2: 0.0947392\tvalid_0's l1: 0.223278\n",
      "[32]\tvalid_0's l2: 0.0945088\tvalid_0's l1: 0.222761\n",
      "[33]\tvalid_0's l2: 0.094301\tvalid_0's l1: 0.222299\n",
      "[34]\tvalid_0's l2: 0.0941116\tvalid_0's l1: 0.221857\n",
      "[35]\tvalid_0's l2: 0.0939401\tvalid_0's l1: 0.221447\n",
      "[36]\tvalid_0's l2: 0.0937843\tvalid_0's l1: 0.221073\n",
      "[37]\tvalid_0's l2: 0.0936432\tvalid_0's l1: 0.22073\n",
      "[38]\tvalid_0's l2: 0.093514\tvalid_0's l1: 0.220404\n",
      "[39]\tvalid_0's l2: 0.0933987\tvalid_0's l1: 0.220101\n",
      "[40]\tvalid_0's l2: 0.093294\tvalid_0's l1: 0.219824\n",
      "[41]\tvalid_0's l2: 0.0931997\tvalid_0's l1: 0.219571\n",
      "[42]\tvalid_0's l2: 0.0931122\tvalid_0's l1: 0.219327\n",
      "[43]\tvalid_0's l2: 0.0930332\tvalid_0's l1: 0.2191\n",
      "[44]\tvalid_0's l2: 0.092962\tvalid_0's l1: 0.21889\n",
      "[45]\tvalid_0's l2: 0.092898\tvalid_0's l1: 0.218698\n",
      "[46]\tvalid_0's l2: 0.0928402\tvalid_0's l1: 0.218524\n",
      "[47]\tvalid_0's l2: 0.0927868\tvalid_0's l1: 0.218356\n",
      "[48]\tvalid_0's l2: 0.0927395\tvalid_0's l1: 0.218206\n",
      "[49]\tvalid_0's l2: 0.0926951\tvalid_0's l1: 0.218057\n",
      "[50]\tvalid_0's l2: 0.0926547\tvalid_0's l1: 0.21792\n",
      "[51]\tvalid_0's l2: 0.092619\tvalid_0's l1: 0.217796\n",
      "[52]\tvalid_0's l2: 0.092587\tvalid_0's l1: 0.217683\n",
      "[53]\tvalid_0's l2: 0.0925565\tvalid_0's l1: 0.217571\n",
      "[54]\tvalid_0's l2: 0.092529\tvalid_0's l1: 0.217466\n",
      "[55]\tvalid_0's l2: 0.0925039\tvalid_0's l1: 0.21737\n",
      "[56]\tvalid_0's l2: 0.0924823\tvalid_0's l1: 0.217284\n",
      "[57]\tvalid_0's l2: 0.0924627\tvalid_0's l1: 0.217207\n",
      "[58]\tvalid_0's l2: 0.0924439\tvalid_0's l1: 0.217127\n",
      "[59]\tvalid_0's l2: 0.092427\tvalid_0's l1: 0.217052\n",
      "[60]\tvalid_0's l2: 0.0924116\tvalid_0's l1: 0.216983\n",
      "[61]\tvalid_0's l2: 0.0923981\tvalid_0's l1: 0.216922\n",
      "[62]\tvalid_0's l2: 0.0923858\tvalid_0's l1: 0.216862\n",
      "[63]\tvalid_0's l2: 0.0923748\tvalid_0's l1: 0.216808\n",
      "[64]\tvalid_0's l2: 0.092365\tvalid_0's l1: 0.216758\n",
      "[65]\tvalid_0's l2: 0.0923557\tvalid_0's l1: 0.216708\n",
      "[66]\tvalid_0's l2: 0.0923474\tvalid_0's l1: 0.216661\n",
      "[67]\tvalid_0's l2: 0.0923396\tvalid_0's l1: 0.216617\n",
      "[68]\tvalid_0's l2: 0.0923331\tvalid_0's l1: 0.216576\n",
      "[69]\tvalid_0's l2: 0.0923272\tvalid_0's l1: 0.216538\n",
      "[70]\tvalid_0's l2: 0.092322\tvalid_0's l1: 0.216505\n",
      "[71]\tvalid_0's l2: 0.0923167\tvalid_0's l1: 0.216469\n",
      "[72]\tvalid_0's l2: 0.0923118\tvalid_0's l1: 0.216436\n",
      "[73]\tvalid_0's l2: 0.0923077\tvalid_0's l1: 0.216405\n",
      "[74]\tvalid_0's l2: 0.092304\tvalid_0's l1: 0.216377\n",
      "[75]\tvalid_0's l2: 0.0923007\tvalid_0's l1: 0.21635\n",
      "[76]\tvalid_0's l2: 0.0922973\tvalid_0's l1: 0.216324\n",
      "[77]\tvalid_0's l2: 0.0922943\tvalid_0's l1: 0.2163\n",
      "[78]\tvalid_0's l2: 0.0922916\tvalid_0's l1: 0.216276\n",
      "[79]\tvalid_0's l2: 0.0922893\tvalid_0's l1: 0.216255\n",
      "[80]\tvalid_0's l2: 0.0922872\tvalid_0's l1: 0.216234\n",
      "[81]\tvalid_0's l2: 0.092285\tvalid_0's l1: 0.216215\n",
      "[82]\tvalid_0's l2: 0.0922831\tvalid_0's l1: 0.216197\n",
      "[83]\tvalid_0's l2: 0.0922814\tvalid_0's l1: 0.21618\n",
      "[84]\tvalid_0's l2: 0.0922799\tvalid_0's l1: 0.216164\n",
      "[85]\tvalid_0's l2: 0.0922786\tvalid_0's l1: 0.216149\n",
      "[86]\tvalid_0's l2: 0.0922773\tvalid_0's l1: 0.216134\n",
      "[87]\tvalid_0's l2: 0.0922761\tvalid_0's l1: 0.216121\n",
      "[88]\tvalid_0's l2: 0.0922751\tvalid_0's l1: 0.216108\n",
      "[89]\tvalid_0's l2: 0.0922742\tvalid_0's l1: 0.216096\n",
      "[90]\tvalid_0's l2: 0.0922734\tvalid_0's l1: 0.216085\n",
      "[91]\tvalid_0's l2: 0.0922727\tvalid_0's l1: 0.216074\n",
      "[92]\tvalid_0's l2: 0.0922721\tvalid_0's l1: 0.216064\n",
      "[93]\tvalid_0's l2: 0.0922717\tvalid_0's l1: 0.216054\n",
      "[94]\tvalid_0's l2: 0.0922712\tvalid_0's l1: 0.216046\n",
      "[95]\tvalid_0's l2: 0.0922709\tvalid_0's l1: 0.216037\n",
      "[96]\tvalid_0's l2: 0.0922705\tvalid_0's l1: 0.216029\n",
      "[97]\tvalid_0's l2: 0.0922701\tvalid_0's l1: 0.216021\n",
      "[98]\tvalid_0's l2: 0.0922699\tvalid_0's l1: 0.216014\n",
      "[99]\tvalid_0's l2: 0.0922697\tvalid_0's l1: 0.216008\n",
      "[100]\tvalid_0's l2: 0.0922695\tvalid_0's l1: 0.216002\n",
      "Saving model...\n"
     ]
    },
    {
     "data": {
      "text/plain": [
       "<lightgbm.basic.Booster at 0x11c71e210>"
      ]
     },
     "execution_count": 278,
     "metadata": {},
     "output_type": "execute_result"
    }
   ],
   "source": [
    "print('Starting training...')\n",
    "# train\n",
    "gbm = lgb.train(params,\n",
    "                lgb_train,\n",
    "               valid_sets=lgb_test)\n",
    "\n",
    "print('Saving model...')\n",
    "# save model to file\n",
    "gbm.save_model('baseline_model.txt')"
   ]
  },
  {
   "cell_type": "code",
   "execution_count": 279,
   "metadata": {},
   "outputs": [],
   "source": [
    "y_pred = gbm.predict(df_test[baseline_columns], num_iteration=gbm.best_iteration)"
   ]
  },
  {
   "cell_type": "code",
   "execution_count": 280,
   "metadata": {},
   "outputs": [],
   "source": [
    "def smape_error(forecast, actual):\n",
    "    numerator = np.absolute(forecast-actual)\n",
    "    denominator = np.absolute(forecast) + np.absolute(actual)\n",
    "\n",
    "    num_samples = len(numerator)\n",
    "\n",
    "    return 100/num_samples * np.sum(numerator/denominator)"
   ]
  },
  {
   "cell_type": "code",
   "execution_count": 281,
   "metadata": {},
   "outputs": [
    {
     "name": "stdout",
     "output_type": "stream",
     "text": [
      "smape: 32.299322\n"
     ]
    }
   ],
   "source": [
    "baseline_smape = smape_error(y_pred, df_test['PercentOccupied'])\n",
    "print('smape: %f' % baseline_smape)"
   ]
  },
  {
   "cell_type": "markdown",
   "metadata": {},
   "source": [
    "# Simple Model\n",
    "\n",
    "Build a simple model only on datetime info and blockID"
   ]
  },
  {
   "cell_type": "code",
   "execution_count": 282,
   "metadata": {
    "scrolled": true
   },
   "outputs": [
    {
     "data": {
      "text/plain": [
       "38586661    30\n",
       "38586662    30\n",
       "38586663    30\n",
       "38586664    30\n",
       "38586665    30\n",
       "Name: OccupancyDateTime, dtype: int64"
      ]
     },
     "execution_count": 282,
     "metadata": {},
     "output_type": "execute_result"
    }
   ],
   "source": [
    "df.tail().OccupancyDateTime.dt.day"
   ]
  },
  {
   "cell_type": "code",
   "execution_count": 283,
   "metadata": {},
   "outputs": [],
   "source": [
    "simple_columns = ['SourceElementKey', 'Year', 'Hour', 'DayOfWeek']"
   ]
  },
  {
   "cell_type": "code",
   "execution_count": 284,
   "metadata": {},
   "outputs": [],
   "source": [
    "simple_train = lgb.Dataset(data=df_train[simple_columns], \n",
    "                           label=df_train['PercentOccupied'],\n",
    "                            feature_name=simple_columns, \n",
    "                       categorical_feature=['SourceElementKey', 'DayOfWeek'])\n",
    "simple_test = lgb.Dataset(data=df_test[simple_columns], \n",
    "                          label=df_test['PercentOccupied'], \n",
    "                          feature_name=simple_columns, \n",
    "                          categorical_feature=['SourceElementKey', 'DayOfWeek'],\n",
    "                          reference=simple_train)"
   ]
  },
  {
   "cell_type": "code",
   "execution_count": null,
   "metadata": {},
   "outputs": [],
   "source": []
  },
  {
   "cell_type": "code",
   "execution_count": 285,
   "metadata": {},
   "outputs": [
    {
     "name": "stdout",
     "output_type": "stream",
     "text": [
      "Starting training...\n",
      "[1]\tvalid_0's l2: 0.138671\tvalid_0's l1: 0.284235\n",
      "[2]\tvalid_0's l2: 0.137773\tvalid_0's l1: 0.283127\n",
      "[3]\tvalid_0's l2: 0.132943\tvalid_0's l1: 0.277751\n",
      "[4]\tvalid_0's l2: 0.128854\tvalid_0's l1: 0.273025\n",
      "[5]\tvalid_0's l2: 0.128094\tvalid_0's l1: 0.272044\n",
      "[6]\tvalid_0's l2: 0.124133\tvalid_0's l1: 0.267398\n",
      "[7]\tvalid_0's l2: 0.120537\tvalid_0's l1: 0.263087\n",
      "[8]\tvalid_0's l2: 0.119926\tvalid_0's l1: 0.262266\n",
      "[9]\tvalid_0's l2: 0.119376\tvalid_0's l1: 0.261513\n",
      "[10]\tvalid_0's l2: 0.118877\tvalid_0's l1: 0.260819\n",
      "[11]\tvalid_0's l2: 0.118426\tvalid_0's l1: 0.260181\n",
      "[12]\tvalid_0's l2: 0.115355\tvalid_0's l1: 0.256285\n",
      "[13]\tvalid_0's l2: 0.112422\tvalid_0's l1: 0.252529\n",
      "[14]\tvalid_0's l2: 0.109773\tvalid_0's l1: 0.24903\n",
      "[15]\tvalid_0's l2: 0.107463\tvalid_0's l1: 0.245917\n",
      "[16]\tvalid_0's l2: 0.105271\tvalid_0's l1: 0.242885\n",
      "[17]\tvalid_0's l2: 0.103366\tvalid_0's l1: 0.240159\n",
      "[18]\tvalid_0's l2: 0.101539\tvalid_0's l1: 0.237548\n",
      "[19]\tvalid_0's l2: 0.101206\tvalid_0's l1: 0.237036\n",
      "[20]\tvalid_0's l2: 0.100904\tvalid_0's l1: 0.236567\n",
      "[21]\tvalid_0's l2: 0.0992019\tvalid_0's l1: 0.234099\n",
      "[22]\tvalid_0's l2: 0.0976788\tvalid_0's l1: 0.23181\n",
      "[23]\tvalid_0's l2: 0.0974272\tvalid_0's l1: 0.231408\n",
      "[24]\tvalid_0's l2: 0.096097\tvalid_0's l1: 0.229317\n",
      "[25]\tvalid_0's l2: 0.0958699\tvalid_0's l1: 0.228946\n",
      "[26]\tvalid_0's l2: 0.0945697\tvalid_0's l1: 0.226955\n",
      "[27]\tvalid_0's l2: 0.0943725\tvalid_0's l1: 0.226625\n",
      "[28]\tvalid_0's l2: 0.0932173\tvalid_0's l1: 0.224809\n",
      "[29]\tvalid_0's l2: 0.0920483\tvalid_0's l1: 0.222956\n",
      "[30]\tvalid_0's l2: 0.0918846\tvalid_0's l1: 0.222674\n",
      "[31]\tvalid_0's l2: 0.0917366\tvalid_0's l1: 0.222418\n",
      "[32]\tvalid_0's l2: 0.0916024\tvalid_0's l1: 0.222182\n",
      "[33]\tvalid_0's l2: 0.0905838\tvalid_0's l1: 0.220493\n",
      "[34]\tvalid_0's l2: 0.0897371\tvalid_0's l1: 0.218998\n",
      "[35]\tvalid_0's l2: 0.0896203\tvalid_0's l1: 0.218785\n",
      "[36]\tvalid_0's l2: 0.0888523\tvalid_0's l1: 0.217421\n",
      "[37]\tvalid_0's l2: 0.0880402\tvalid_0's l1: 0.216068\n",
      "[38]\tvalid_0's l2: 0.0873504\tvalid_0's l1: 0.214845\n",
      "[39]\tvalid_0's l2: 0.0865995\tvalid_0's l1: 0.213582\n",
      "[40]\tvalid_0's l2: 0.0860473\tvalid_0's l1: 0.212531\n",
      "[41]\tvalid_0's l2: 0.0859497\tvalid_0's l1: 0.212352\n",
      "[42]\tvalid_0's l2: 0.0854201\tvalid_0's l1: 0.211347\n",
      "[43]\tvalid_0's l2: 0.0849711\tvalid_0's l1: 0.210498\n",
      "[44]\tvalid_0's l2: 0.0848857\tvalid_0's l1: 0.210337\n",
      "[45]\tvalid_0's l2: 0.0843835\tvalid_0's l1: 0.209404\n",
      "[46]\tvalid_0's l2: 0.0838949\tvalid_0's l1: 0.20853\n",
      "[47]\tvalid_0's l2: 0.0838235\tvalid_0's l1: 0.208392\n",
      "[48]\tvalid_0's l2: 0.0834266\tvalid_0's l1: 0.207612\n",
      "[49]\tvalid_0's l2: 0.0830584\tvalid_0's l1: 0.206905\n",
      "[50]\tvalid_0's l2: 0.0827616\tvalid_0's l1: 0.206307\n",
      "[51]\tvalid_0's l2: 0.0827008\tvalid_0's l1: 0.206188\n",
      "[52]\tvalid_0's l2: 0.0823875\tvalid_0's l1: 0.205551\n",
      "[53]\tvalid_0's l2: 0.0823339\tvalid_0's l1: 0.205445\n",
      "[54]\tvalid_0's l2: 0.0820681\tvalid_0's l1: 0.204881\n",
      "[55]\tvalid_0's l2: 0.0818013\tvalid_0's l1: 0.204425\n",
      "[56]\tvalid_0's l2: 0.0813855\tvalid_0's l1: 0.203696\n",
      "[57]\tvalid_0's l2: 0.081188\tvalid_0's l1: 0.203294\n",
      "[58]\tvalid_0's l2: 0.0811413\tvalid_0's l1: 0.203205\n",
      "[59]\tvalid_0's l2: 0.0808138\tvalid_0's l1: 0.202604\n",
      "[60]\tvalid_0's l2: 0.0806257\tvalid_0's l1: 0.20219\n",
      "[61]\tvalid_0's l2: 0.0804662\tvalid_0's l1: 0.201855\n",
      "[62]\tvalid_0's l2: 0.0801185\tvalid_0's l1: 0.201223\n",
      "[63]\tvalid_0's l2: 0.0800783\tvalid_0's l1: 0.201147\n",
      "[64]\tvalid_0's l2: 0.0800417\tvalid_0's l1: 0.201077\n",
      "[65]\tvalid_0's l2: 0.0798568\tvalid_0's l1: 0.200692\n",
      "[66]\tvalid_0's l2: 0.0795698\tvalid_0's l1: 0.200167\n",
      "[67]\tvalid_0's l2: 0.0795397\tvalid_0's l1: 0.200109\n",
      "[68]\tvalid_0's l2: 0.0793527\tvalid_0's l1: 0.199727\n",
      "[69]\tvalid_0's l2: 0.0793238\tvalid_0's l1: 0.199672\n",
      "[70]\tvalid_0's l2: 0.079216\tvalid_0's l1: 0.199432\n",
      "[71]\tvalid_0's l2: 0.0791914\tvalid_0's l1: 0.199382\n",
      "[72]\tvalid_0's l2: 0.0790859\tvalid_0's l1: 0.199156\n",
      "[73]\tvalid_0's l2: 0.0788467\tvalid_0's l1: 0.198731\n",
      "[74]\tvalid_0's l2: 0.0787634\tvalid_0's l1: 0.198525\n",
      "[75]\tvalid_0's l2: 0.0785987\tvalid_0's l1: 0.198221\n",
      "[76]\tvalid_0's l2: 0.0785066\tvalid_0's l1: 0.198049\n",
      "[77]\tvalid_0's l2: 0.0784349\tvalid_0's l1: 0.197892\n",
      "[78]\tvalid_0's l2: 0.0784135\tvalid_0's l1: 0.197852\n",
      "[79]\tvalid_0's l2: 0.0783121\tvalid_0's l1: 0.197634\n",
      "[80]\tvalid_0's l2: 0.0781035\tvalid_0's l1: 0.197265\n",
      "[81]\tvalid_0's l2: 0.0779665\tvalid_0's l1: 0.19701\n",
      "[82]\tvalid_0's l2: 0.0778432\tvalid_0's l1: 0.196776\n",
      "[83]\tvalid_0's l2: 0.0778234\tvalid_0's l1: 0.196739\n",
      "[84]\tvalid_0's l2: 0.0776136\tvalid_0's l1: 0.196357\n",
      "[85]\tvalid_0's l2: 0.0773569\tvalid_0's l1: 0.195881\n",
      "[86]\tvalid_0's l2: 0.0773408\tvalid_0's l1: 0.19585\n",
      "[87]\tvalid_0's l2: 0.0773261\tvalid_0's l1: 0.195822\n",
      "[88]\tvalid_0's l2: 0.0771389\tvalid_0's l1: 0.195501\n",
      "[89]\tvalid_0's l2: 0.0769324\tvalid_0's l1: 0.195116\n",
      "[90]\tvalid_0's l2: 0.0767645\tvalid_0's l1: 0.194826\n",
      "[91]\tvalid_0's l2: 0.0767166\tvalid_0's l1: 0.194725\n",
      "[92]\tvalid_0's l2: 0.0765666\tvalid_0's l1: 0.194447\n",
      "[93]\tvalid_0's l2: 0.0764354\tvalid_0's l1: 0.194201\n",
      "[94]\tvalid_0's l2: 0.0764237\tvalid_0's l1: 0.194182\n",
      "[95]\tvalid_0's l2: 0.0762687\tvalid_0's l1: 0.193876\n",
      "[96]\tvalid_0's l2: 0.0761436\tvalid_0's l1: 0.193671\n",
      "[97]\tvalid_0's l2: 0.0760276\tvalid_0's l1: 0.193443\n",
      "[98]\tvalid_0's l2: 0.0759208\tvalid_0's l1: 0.193213\n",
      "[99]\tvalid_0's l2: 0.0758607\tvalid_0's l1: 0.19309\n",
      "[100]\tvalid_0's l2: 0.0758504\tvalid_0's l1: 0.193073\n",
      "Saving model...\n"
     ]
    },
    {
     "data": {
      "text/plain": [
       "<lightgbm.basic.Booster at 0x11c723bd0>"
      ]
     },
     "execution_count": 285,
     "metadata": {},
     "output_type": "execute_result"
    }
   ],
   "source": [
    "gbm_simple = lgb.Booster(model_file='simple_ml_model.txt')\n",
    "\n",
    "print('Starting training...')\n",
    "# train\n",
    "gbm_simple = lgb.train(params,\n",
    "                simple_train,\n",
    "                valid_sets=simple_test)\n",
    "\n",
    "print('Saving model...')\n",
    "# save model to file\n",
    "gbm_simple.save_model('simple_ml_model.txt')"
   ]
  },
  {
   "cell_type": "code",
   "execution_count": 286,
   "metadata": {},
   "outputs": [],
   "source": [
    "y_pred = gbm_simple.predict(df_test[simple_columns], num_iteration=gbm_simple.best_iteration)"
   ]
  },
  {
   "cell_type": "code",
   "execution_count": 287,
   "metadata": {},
   "outputs": [
    {
     "name": "stdout",
     "output_type": "stream",
     "text": [
      "smape: 30.724769\n"
     ]
    }
   ],
   "source": [
    "simple_smape = smape_error(y_pred, df_test['PercentOccupied'])\n",
    "print('smape: %f' % simple_smape)"
   ]
  },
  {
   "cell_type": "markdown",
   "metadata": {},
   "source": [
    "This only slightly improves the model compared to the baseline"
   ]
  },
  {
   "cell_type": "markdown",
   "metadata": {},
   "source": [
    "# Random Forest"
   ]
  },
  {
   "cell_type": "code",
   "execution_count": 288,
   "metadata": {},
   "outputs": [],
   "source": [
    "rf_columns = ['SourceElementKey', 'Year', 'Hour', 'DayOfWeek', 'latitude', 'longitude']"
   ]
  },
  {
   "cell_type": "code",
   "execution_count": 289,
   "metadata": {},
   "outputs": [],
   "source": [
    "rf_train = lgb.Dataset(data=df_train[rf_columns], \n",
    "                           label=df_train['PercentOccupied'],\n",
    "                            feature_name=rf_columns, \n",
    "                       categorical_feature=['SourceElementKey', 'DayOfWeek', 'Hour'])\n",
    "rf_test = lgb.Dataset(data=df_test[rf_columns], \n",
    "                          label=df_test['PercentOccupied'], \n",
    "                          feature_name=rf_columns, \n",
    "                          categorical_feature=['SourceElementKey', 'DayOfWeek', 'Hour'],\n",
    "                          reference=simple_train)"
   ]
  },
  {
   "cell_type": "code",
   "execution_count": 290,
   "metadata": {},
   "outputs": [],
   "source": [
    "params = {\n",
    "    'boosting_type': 'rf',\n",
    "    'objective': 'regression',\n",
    "    'metric': {'l2', 'l1'},\n",
    "    'num_leaves': 31,\n",
    "    'learning_rate': 0.05,\n",
    "    'feature_fraction': 0.9,\n",
    "    'bagging_fraction': 0.8,\n",
    "    'bagging_freq': 5,\n",
    "    'num_threads':6\n",
    "    \n",
    "}"
   ]
  },
  {
   "cell_type": "code",
   "execution_count": 291,
   "metadata": {},
   "outputs": [
    {
     "name": "stdout",
     "output_type": "stream",
     "text": [
      "Starting training...\n",
      "[1]\tvalid_0's l2: 0.0896648\tvalid_0's l1: 0.215333\n",
      "[2]\tvalid_0's l2: 0.0896648\tvalid_0's l1: 0.215333\n",
      "[3]\tvalid_0's l2: 0.0869283\tvalid_0's l1: 0.211362\n",
      "[4]\tvalid_0's l2: 0.0872189\tvalid_0's l1: 0.211852\n",
      "[5]\tvalid_0's l2: 0.0875192\tvalid_0's l1: 0.212302\n",
      "[6]\tvalid_0's l2: 0.0869554\tvalid_0's l1: 0.211423\n",
      "[7]\tvalid_0's l2: 0.0867471\tvalid_0's l1: 0.211761\n",
      "[8]\tvalid_0's l2: 0.0868148\tvalid_0's l1: 0.211819\n",
      "[9]\tvalid_0's l2: 0.0869262\tvalid_0's l1: 0.211938\n",
      "[10]\tvalid_0's l2: 0.0870522\tvalid_0's l1: 0.212081\n",
      "[11]\tvalid_0's l2: 0.0867043\tvalid_0's l1: 0.211501\n",
      "[12]\tvalid_0's l2: 0.0865079\tvalid_0's l1: 0.211148\n",
      "[13]\tvalid_0's l2: 0.0866394\tvalid_0's l1: 0.211319\n",
      "[14]\tvalid_0's l2: 0.086767\tvalid_0's l1: 0.211486\n",
      "[15]\tvalid_0's l2: 0.0868887\tvalid_0's l1: 0.211646\n",
      "[16]\tvalid_0's l2: 0.086997\tvalid_0's l1: 0.211788\n",
      "[17]\tvalid_0's l2: 0.0869856\tvalid_0's l1: 0.212022\n",
      "[18]\tvalid_0's l2: 0.0866796\tvalid_0's l1: 0.211551\n",
      "[19]\tvalid_0's l2: 0.0867585\tvalid_0's l1: 0.211645\n",
      "[20]\tvalid_0's l2: 0.0865464\tvalid_0's l1: 0.211306\n",
      "[21]\tvalid_0's l2: 0.0866584\tvalid_0's l1: 0.211657\n",
      "[22]\tvalid_0's l2: 0.0867061\tvalid_0's l1: 0.211705\n",
      "[23]\tvalid_0's l2: 0.0865436\tvalid_0's l1: 0.211429\n",
      "[24]\tvalid_0's l2: 0.0865893\tvalid_0's l1: 0.211478\n",
      "[25]\tvalid_0's l2: 0.0864876\tvalid_0's l1: 0.211298\n",
      "[26]\tvalid_0's l2: 0.086539\tvalid_0's l1: 0.211357\n",
      "[27]\tvalid_0's l2: 0.0864194\tvalid_0's l1: 0.211157\n",
      "[28]\tvalid_0's l2: 0.0863516\tvalid_0's l1: 0.211034\n",
      "[29]\tvalid_0's l2: 0.0863993\tvalid_0's l1: 0.211091\n",
      "[30]\tvalid_0's l2: 0.0864482\tvalid_0's l1: 0.211151\n",
      "[31]\tvalid_0's l2: 0.0864974\tvalid_0's l1: 0.211212\n",
      "[32]\tvalid_0's l2: 0.0865469\tvalid_0's l1: 0.211274\n",
      "[33]\tvalid_0's l2: 0.0864957\tvalid_0's l1: 0.21118\n",
      "[34]\tvalid_0's l2: 0.0863932\tvalid_0's l1: 0.211014\n",
      "[35]\tvalid_0's l2: 0.0864386\tvalid_0's l1: 0.211073\n",
      "[36]\tvalid_0's l2: 0.08648\tvalid_0's l1: 0.211127\n",
      "[37]\tvalid_0's l2: 0.0865218\tvalid_0's l1: 0.211183\n",
      "[38]\tvalid_0's l2: 0.0865636\tvalid_0's l1: 0.211238\n",
      "[39]\tvalid_0's l2: 0.0865905\tvalid_0's l1: 0.211385\n",
      "[40]\tvalid_0's l2: 0.0866272\tvalid_0's l1: 0.21143\n",
      "[41]\tvalid_0's l2: 0.0866058\tvalid_0's l1: 0.211408\n",
      "[42]\tvalid_0's l2: 0.0866407\tvalid_0's l1: 0.211452\n",
      "[43]\tvalid_0's l2: 0.0866808\tvalid_0's l1: 0.211604\n",
      "[44]\tvalid_0's l2: 0.0866645\tvalid_0's l1: 0.211586\n",
      "[45]\tvalid_0's l2: 0.0867223\tvalid_0's l1: 0.211756\n",
      "[46]\tvalid_0's l2: 0.086797\tvalid_0's l1: 0.211945\n",
      "[47]\tvalid_0's l2: 0.0866932\tvalid_0's l1: 0.211775\n",
      "[48]\tvalid_0's l2: 0.08678\tvalid_0's l1: 0.211974\n",
      "[49]\tvalid_0's l2: 0.0867285\tvalid_0's l1: 0.211877\n",
      "[50]\tvalid_0's l2: 0.0868246\tvalid_0's l1: 0.212085\n",
      "[51]\tvalid_0's l2: 0.0867731\tvalid_0's l1: 0.211995\n",
      "[52]\tvalid_0's l2: 0.0868749\tvalid_0's l1: 0.212208\n",
      "[53]\tvalid_0's l2: 0.086877\tvalid_0's l1: 0.212202\n",
      "[54]\tvalid_0's l2: 0.0868808\tvalid_0's l1: 0.212199\n",
      "[55]\tvalid_0's l2: 0.0868861\tvalid_0's l1: 0.212199\n",
      "[56]\tvalid_0's l2: 0.086983\tvalid_0's l1: 0.212397\n",
      "[57]\tvalid_0's l2: 0.0869879\tvalid_0's l1: 0.212391\n",
      "[58]\tvalid_0's l2: 0.086893\tvalid_0's l1: 0.212236\n",
      "[59]\tvalid_0's l2: 0.0868996\tvalid_0's l1: 0.212234\n",
      "[60]\tvalid_0's l2: 0.0869073\tvalid_0's l1: 0.212233\n",
      "[61]\tvalid_0's l2: 0.0869145\tvalid_0's l1: 0.212233\n",
      "[62]\tvalid_0's l2: 0.0869228\tvalid_0's l1: 0.212235\n",
      "[63]\tvalid_0's l2: 0.0870037\tvalid_0's l1: 0.212405\n",
      "[64]\tvalid_0's l2: 0.0870093\tvalid_0's l1: 0.212403\n",
      "[65]\tvalid_0's l2: 0.0870157\tvalid_0's l1: 0.212402\n",
      "[66]\tvalid_0's l2: 0.0870238\tvalid_0's l1: 0.212403\n",
      "[67]\tvalid_0's l2: 0.0870904\tvalid_0's l1: 0.212528\n",
      "[68]\tvalid_0's l2: 0.0870962\tvalid_0's l1: 0.212526\n",
      "[69]\tvalid_0's l2: 0.0871674\tvalid_0's l1: 0.212655\n",
      "[70]\tvalid_0's l2: 0.0870774\tvalid_0's l1: 0.21251\n",
      "[71]\tvalid_0's l2: 0.0870818\tvalid_0's l1: 0.212505\n",
      "[72]\tvalid_0's l2: 0.087087\tvalid_0's l1: 0.212502\n",
      "[73]\tvalid_0's l2: 0.0870094\tvalid_0's l1: 0.212377\n",
      "[74]\tvalid_0's l2: 0.0870155\tvalid_0's l1: 0.212376\n",
      "[75]\tvalid_0's l2: 0.0869448\tvalid_0's l1: 0.212261\n",
      "[76]\tvalid_0's l2: 0.0869513\tvalid_0's l1: 0.212262\n",
      "[77]\tvalid_0's l2: 0.0869584\tvalid_0's l1: 0.212264\n",
      "[78]\tvalid_0's l2: 0.086966\tvalid_0's l1: 0.212266\n",
      "[79]\tvalid_0's l2: 0.0869742\tvalid_0's l1: 0.212269\n",
      "[80]\tvalid_0's l2: 0.0869828\tvalid_0's l1: 0.212274\n",
      "[81]\tvalid_0's l2: 0.0869909\tvalid_0's l1: 0.212277\n",
      "[82]\tvalid_0's l2: 0.0869994\tvalid_0's l1: 0.21228\n",
      "[83]\tvalid_0's l2: 0.0870083\tvalid_0's l1: 0.212285\n",
      "[84]\tvalid_0's l2: 0.0870175\tvalid_0's l1: 0.21229\n",
      "[85]\tvalid_0's l2: 0.0870271\tvalid_0's l1: 0.212296\n",
      "[86]\tvalid_0's l2: 0.086988\tvalid_0's l1: 0.21223\n",
      "[87]\tvalid_0's l2: 0.0869958\tvalid_0's l1: 0.212238\n",
      "[88]\tvalid_0's l2: 0.087041\tvalid_0's l1: 0.212343\n",
      "[89]\tvalid_0's l2: 0.0870041\tvalid_0's l1: 0.212281\n",
      "[90]\tvalid_0's l2: 0.0870524\tvalid_0's l1: 0.212389\n",
      "[91]\tvalid_0's l2: 0.0870594\tvalid_0's l1: 0.212392\n",
      "[92]\tvalid_0's l2: 0.0870666\tvalid_0's l1: 0.212395\n",
      "[93]\tvalid_0's l2: 0.0870742\tvalid_0's l1: 0.212399\n",
      "[94]\tvalid_0's l2: 0.0870821\tvalid_0's l1: 0.212404\n",
      "[95]\tvalid_0's l2: 0.0870158\tvalid_0's l1: 0.212299\n",
      "[96]\tvalid_0's l2: 0.0869829\tvalid_0's l1: 0.212244\n",
      "[97]\tvalid_0's l2: 0.0869251\tvalid_0's l1: 0.212152\n",
      "[98]\tvalid_0's l2: 0.086871\tvalid_0's l1: 0.212065\n",
      "[99]\tvalid_0's l2: 0.0868415\tvalid_0's l1: 0.212016\n",
      "[100]\tvalid_0's l2: 0.0868483\tvalid_0's l1: 0.212022\n",
      "Saving model...\n"
     ]
    },
    {
     "data": {
      "text/plain": [
       "<lightgbm.basic.Booster at 0x11c723150>"
      ]
     },
     "execution_count": 291,
     "metadata": {},
     "output_type": "execute_result"
    }
   ],
   "source": [
    "#rf = lgb.Booster(model_file='simple_rf_model.txt')\n",
    "\n",
    "print('Starting training...')\n",
    "# train\n",
    "gbm_rf = lgb.train(params,\n",
    "                rf_train,\n",
    "                valid_sets=rf_test)\n",
    "\n",
    "print('Saving model...')\n",
    "# save model to file\n",
    "gbm_rf.save_model('simple_rf_model.txt')"
   ]
  },
  {
   "cell_type": "code",
   "execution_count": 292,
   "metadata": {},
   "outputs": [],
   "source": [
    "y_pred = gbm_rf.predict(df_test[rf_columns], num_iteration=gbm_rf.best_iteration)"
   ]
  },
  {
   "cell_type": "code",
   "execution_count": 293,
   "metadata": {},
   "outputs": [
    {
     "name": "stdout",
     "output_type": "stream",
     "text": [
      "smape: 30.724769\n"
     ]
    }
   ],
   "source": [
    "rf_smape = smape_error(y_pred, df_test['PercentOccupied'])\n",
    "print('smape: %f' % simple_smape)"
   ]
  },
  {
   "cell_type": "markdown",
   "metadata": {},
   "source": [
    "# Baseline Timeseries\n",
    "Predict model based on previous values"
   ]
  },
  {
   "cell_type": "markdown",
   "metadata": {},
   "source": [
    "First, predict values based on value 15 minutes ago"
   ]
  },
  {
   "cell_type": "code",
   "execution_count": 294,
   "metadata": {},
   "outputs": [
    {
     "name": "stdout",
     "output_type": "stream",
     "text": [
      "smape: 27.302986\n"
     ]
    }
   ],
   "source": [
    "# shift values by one\n",
    "pred_values = pd.concat([pd.Series([0]), df['PercentOccupied']])\n",
    "timeseries_smape = smape_error(pred_values.values[:-1], df['PercentOccupied'])\n",
    "print('smape: %f' % timeseries_smape)"
   ]
  },
  {
   "cell_type": "markdown",
   "metadata": {},
   "source": [
    "Next, predict value based on value 1 hour ago"
   ]
  },
  {
   "cell_type": "code",
   "execution_count": 295,
   "metadata": {},
   "outputs": [
    {
     "name": "stdout",
     "output_type": "stream",
     "text": [
      "smape: 41.353744\n"
     ]
    }
   ],
   "source": [
    "# shift values by four (i.e. 1 hour)\n",
    "pred_values = pd.concat([pd.Series([0,0,0,0]), df['PaidOccupancy']])\n",
    "timeseries_smape = smape_error(pred_values.values[:-4], df['PaidOccupancy'])\n",
    "print('smape: %f' % timeseries_smape)"
   ]
  },
  {
   "cell_type": "markdown",
   "metadata": {},
   "source": [
    "## SARIMA"
   ]
  },
  {
   "cell_type": "code",
   "execution_count": 296,
   "metadata": {},
   "outputs": [
    {
     "data": {
      "text/html": [
       "<div>\n",
       "<style scoped>\n",
       "    .dataframe tbody tr th:only-of-type {\n",
       "        vertical-align: middle;\n",
       "    }\n",
       "\n",
       "    .dataframe tbody tr th {\n",
       "        vertical-align: top;\n",
       "    }\n",
       "\n",
       "    .dataframe thead th {\n",
       "        text-align: right;\n",
       "    }\n",
       "</style>\n",
       "<table border=\"1\" class=\"dataframe\">\n",
       "  <thead>\n",
       "    <tr style=\"text-align: right;\">\n",
       "      <th></th>\n",
       "      <th>SourceElementKey</th>\n",
       "      <th>OccupancyDateTime</th>\n",
       "      <th>PaidOccupancy</th>\n",
       "      <th>ParkingSpaceCount</th>\n",
       "      <th>PercentOccupied</th>\n",
       "    </tr>\n",
       "  </thead>\n",
       "  <tbody>\n",
       "    <tr>\n",
       "      <td>0</td>\n",
       "      <td>1001</td>\n",
       "      <td>2012-01-03 09:00:00</td>\n",
       "      <td>0.983333</td>\n",
       "      <td>7.0</td>\n",
       "      <td>0.140476</td>\n",
       "    </tr>\n",
       "    <tr>\n",
       "      <td>1</td>\n",
       "      <td>1001</td>\n",
       "      <td>2012-01-03 10:00:00</td>\n",
       "      <td>2.016667</td>\n",
       "      <td>7.0</td>\n",
       "      <td>0.288095</td>\n",
       "    </tr>\n",
       "    <tr>\n",
       "      <td>2</td>\n",
       "      <td>1001</td>\n",
       "      <td>2012-01-03 11:00:00</td>\n",
       "      <td>4.633333</td>\n",
       "      <td>7.0</td>\n",
       "      <td>0.661905</td>\n",
       "    </tr>\n",
       "    <tr>\n",
       "      <td>3</td>\n",
       "      <td>1001</td>\n",
       "      <td>2012-01-03 12:00:00</td>\n",
       "      <td>3.283333</td>\n",
       "      <td>7.0</td>\n",
       "      <td>0.469048</td>\n",
       "    </tr>\n",
       "    <tr>\n",
       "      <td>4</td>\n",
       "      <td>1001</td>\n",
       "      <td>2012-01-03 13:00:00</td>\n",
       "      <td>1.116667</td>\n",
       "      <td>7.0</td>\n",
       "      <td>0.159524</td>\n",
       "    </tr>\n",
       "  </tbody>\n",
       "</table>\n",
       "</div>"
      ],
      "text/plain": [
       "   SourceElementKey   OccupancyDateTime  PaidOccupancy  ParkingSpaceCount  \\\n",
       "0              1001 2012-01-03 09:00:00       0.983333                7.0   \n",
       "1              1001 2012-01-03 10:00:00       2.016667                7.0   \n",
       "2              1001 2012-01-03 11:00:00       4.633333                7.0   \n",
       "3              1001 2012-01-03 12:00:00       3.283333                7.0   \n",
       "4              1001 2012-01-03 13:00:00       1.116667                7.0   \n",
       "\n",
       "   PercentOccupied  \n",
       "0         0.140476  \n",
       "1         0.288095  \n",
       "2         0.661905  \n",
       "3         0.469048  \n",
       "4         0.159524  "
      ]
     },
     "execution_count": 296,
     "metadata": {},
     "output_type": "execute_result"
    }
   ],
   "source": [
    "from sklearn.metrics import mean_squared_error\n",
    "from statsmodels.graphics.tsaplots import plot_acf, plot_pacf\n",
    "df.head()"
   ]
  },
  {
   "cell_type": "code",
   "execution_count": 297,
   "metadata": {},
   "outputs": [
    {
     "data": {
      "text/plain": [
       "array([  1001,   1002,   1006, ..., 135261, 136041, 136322])"
      ]
     },
     "execution_count": 297,
     "metadata": {},
     "output_type": "execute_result"
    }
   ],
   "source": [
    "blockface_detail.sourceelementkey.values"
   ]
  },
  {
   "cell_type": "code",
   "execution_count": 298,
   "metadata": {},
   "outputs": [],
   "source": [
    "block = 1006\n",
    "mask = (df['SourceElementKey'] == block) & (df['OccupancyDateTime'] > ('2019-01-01'))\n",
    "\n",
    "curr = df[mask]\n",
    "pct_occupied = curr.PercentOccupied"
   ]
  },
  {
   "cell_type": "code",
   "execution_count": 299,
   "metadata": {},
   "outputs": [
    {
     "name": "stderr",
     "output_type": "stream",
     "text": [
      "/Users/bethanys08/.pyenv/versions/anaconda3-2019.03/envs/myenv2/lib/python3.7/site-packages/pandas/plotting/_matplotlib/converter.py:103: FutureWarning: Using an implicitly registered datetime converter for a matplotlib plotting method. The converter was registered by pandas on import. Future versions of pandas will require you to explicitly register matplotlib converters.\n",
      "\n",
      "To register the converters:\n",
      "\t>>> from pandas.plotting import register_matplotlib_converters\n",
      "\t>>> register_matplotlib_converters()\n",
      "  warnings.warn(msg, FutureWarning)\n"
     ]
    },
    {
     "data": {
      "image/png": "[encoded data removed]",
      "text/plain": [
       "<Figure size 432x288 with 1 Axes>"
      ]
     },
     "metadata": {
      "needs_background": "light"
     },
     "output_type": "display_data"
    }
   ],
   "source": [
    "plt.figure()\n",
    "plt.plot(curr.OccupancyDateTime, curr.PercentOccupied)\n",
    "plt.show()"
   ]
  },
  {
   "cell_type": "code",
   "execution_count": 300,
   "metadata": {
    "scrolled": true
   },
   "outputs": [
    {
     "data": {
      "image/png": "[encoded data removed]",
      "text/plain": [
       "<Figure size 720x720 with 4 Axes>"
      ]
     },
     "metadata": {
      "needs_background": "light"
     },
     "output_type": "display_data"
    }
   ],
   "source": [
    "seasonality=12\n",
    "lags = np.arange(seasonality, seasonality*50, seasonality)\n",
    "\n",
    "fig, axs = plt.subplots(2,2, figsize=(10,10))\n",
    "\n",
    "(ax1, ax2, ax3, ax4) = axs.ravel()\n",
    "plot_acf(pct_occupied, ax=ax1, lags=np.arange(50))\n",
    "ax1.axvline(seasonality)\n",
    "plot_pacf(pct_occupied, ax=ax2, lags=np.arange(50))\n",
    "ax2.axvline(seasonality)\n",
    "plot_acf(pct_occupied, ax=ax3, lags=lags)\n",
    "plot_pacf(pct_occupied, ax=ax4, lags=lags)\n",
    "#ax1.axvline(36)\n",
    "plt.show()"
   ]
  },
  {
   "cell_type": "code",
   "execution_count": 301,
   "metadata": {
    "scrolled": false
   },
   "outputs": [],
   "source": [
    "# from pmdarima.arima import ARIMA\n",
    "# import pickle\n",
    "# #for block in blockface_detail.sourceelementkey.values[:1]:\n",
    "# print(len(pct_occupied))\n",
    "\n",
    "\n",
    "# tr, tt = pct_occupied.iloc[:7500], pct_occupied.iloc[7500:]\n",
    "\n",
    "# pkl = open('arima.pkl', 'rb')\n",
    "\n",
    "# mdl = pickle.load(pkl)\n",
    "\n",
    "# # mdl = auto_arima(tr, error_action='ignore', trace=True,\n",
    "# #                      start_p=1, start_q=1, start_P=1, start_Q=1,\n",
    "# #                      max_p=3, max_q=3, max_P=3, max_Q=3,\n",
    "# #                       seasonal=True, m=45)\n",
    "# preds, conf_int = mdl.predict(n_periods=tt.shape[0], return_conf_int=True)\n",
    "\n",
    "\n",
    "# print(\"Test RMSE: %.3f\" % np.sqrt(mean_squared_error(tt, preds)))\n"
   ]
  },
  {
   "cell_type": "code",
   "execution_count": 302,
   "metadata": {
    "scrolled": true
   },
   "outputs": [],
   "source": [
    "# # #############################################################################\n",
    "# # Plot the points and the forecasts\n",
    "# x_axis = curr.OccupancyDateTime\n",
    "\n",
    "# marker_size = 2\n",
    "# #x_years = x_axis  # Year starts at 1821\n",
    "\n",
    "# fig, (ax, ax2) = plt.subplots(2,1, sharex=True)\n",
    "# #plt.plot(x_axis[:tr.shape[0]], tr, alpha=0.75)\n",
    "# ax.scatter(x_axis[tr.shape[0]:], preds, c='orange', alpha=0.75, s=marker_size)  # Forecasts\n",
    "# ax.scatter(x_axis[tr.shape[0]:], tt, s=marker_size , \n",
    "#             alpha=0.4, c='b')  # Test data\n",
    "# ax.fill_between(x_axis[-preds.shape[0]:],\n",
    "#                  conf_int[:, 0], conf_int[:, 1],\n",
    "#                  alpha=0.1, color='b')\n",
    "# ax.set_title(\"Parking\")\n",
    "\n",
    "# ax2.plot(x_axis[tr.shape[0]:], np.abs(preds-tt))\n",
    "# plt.setp( ax.xaxis.get_majorticklabels(), rotation=70 )\n",
    "# ax.set_xlim([datetime.date(2019, 7, 23), datetime.date(2019, 8, 28)])\n",
    "# ax.set_ylim(0,1)\n",
    "\n",
    "# #plt.xlabel(\"Year\")\n",
    "# plt.show()\n",
    "\n",
    "# arima_smape = smape_error(preds, tt)\n",
    "# print('smape: %f' % arima_smape)"
   ]
  },
  {
   "cell_type": "code",
   "execution_count": 303,
   "metadata": {},
   "outputs": [],
   "source": [
    "# fig, (ax, ax2) = plt.subplots(2,1, sharex=True)\n",
    "# #plt.plot(x_axis[:tr.shape[0]], tr, alpha=0.75)\n",
    "# ax.scatter(x_axis[tr.shape[0]:], preds, c='orange', alpha=0.75, s=marker_size)  # Forecasts\n",
    "# ax.scatter(x_axis[tr.shape[0]:], tt, s=marker_size , \n",
    "#             alpha=0.4, c='b')  # Test data\n",
    "# ax.fill_between(x_axis[-preds.shape[0]:],\n",
    "#                  conf_int[:, 0], conf_int[:, 1],\n",
    "#                  alpha=0.1, color='b')\n",
    "# ax.set_title(\"Parking\")\n",
    "\n",
    "# ax2.plot(x_axis[tr.shape[0]:], np.abs(preds-tt))\n",
    "# plt.setp( ax.xaxis.get_majorticklabels(), rotation=70 )\n",
    "# ax.set_xlim([datetime.date(2019, 7, 23), datetime.date(2019, 7, 28)])\n",
    "# ax.set_ylim(0,1)\n",
    "\n",
    "# #plt.xlabel(\"Year\")\n",
    "# plt.show()\n"
   ]
  },
  {
   "cell_type": "code",
   "execution_count": 304,
   "metadata": {},
   "outputs": [],
   "source": [
    "# mdl.summary()"
   ]
  },
  {
   "cell_type": "markdown",
   "metadata": {},
   "source": [
    "## Sarima for all blocks"
   ]
  },
  {
   "cell_type": "code",
   "execution_count": 305,
   "metadata": {},
   "outputs": [
    {
     "data": {
      "text/html": [
       "<div>\n",
       "<style scoped>\n",
       "    .dataframe tbody tr th:only-of-type {\n",
       "        vertical-align: middle;\n",
       "    }\n",
       "\n",
       "    .dataframe tbody tr th {\n",
       "        vertical-align: top;\n",
       "    }\n",
       "\n",
       "    .dataframe thead th {\n",
       "        text-align: right;\n",
       "    }\n",
       "</style>\n",
       "<table border=\"1\" class=\"dataframe\">\n",
       "  <thead>\n",
       "    <tr style=\"text-align: right;\">\n",
       "      <th></th>\n",
       "      <th>SourceElementKey</th>\n",
       "      <th>OccupancyDateTime</th>\n",
       "      <th>PaidOccupancy</th>\n",
       "      <th>ParkingSpaceCount</th>\n",
       "      <th>PercentOccupied</th>\n",
       "    </tr>\n",
       "  </thead>\n",
       "  <tbody>\n",
       "    <tr>\n",
       "      <td>0</td>\n",
       "      <td>1001</td>\n",
       "      <td>2012-01-03 09:00:00</td>\n",
       "      <td>0.983333</td>\n",
       "      <td>7.0</td>\n",
       "      <td>0.140476</td>\n",
       "    </tr>\n",
       "    <tr>\n",
       "      <td>1</td>\n",
       "      <td>1001</td>\n",
       "      <td>2012-01-03 10:00:00</td>\n",
       "      <td>2.016667</td>\n",
       "      <td>7.0</td>\n",
       "      <td>0.288095</td>\n",
       "    </tr>\n",
       "    <tr>\n",
       "      <td>2</td>\n",
       "      <td>1001</td>\n",
       "      <td>2012-01-03 11:00:00</td>\n",
       "      <td>4.633333</td>\n",
       "      <td>7.0</td>\n",
       "      <td>0.661905</td>\n",
       "    </tr>\n",
       "    <tr>\n",
       "      <td>3</td>\n",
       "      <td>1001</td>\n",
       "      <td>2012-01-03 12:00:00</td>\n",
       "      <td>3.283333</td>\n",
       "      <td>7.0</td>\n",
       "      <td>0.469048</td>\n",
       "    </tr>\n",
       "    <tr>\n",
       "      <td>4</td>\n",
       "      <td>1001</td>\n",
       "      <td>2012-01-03 13:00:00</td>\n",
       "      <td>1.116667</td>\n",
       "      <td>7.0</td>\n",
       "      <td>0.159524</td>\n",
       "    </tr>\n",
       "  </tbody>\n",
       "</table>\n",
       "</div>"
      ],
      "text/plain": [
       "   SourceElementKey   OccupancyDateTime  PaidOccupancy  ParkingSpaceCount  \\\n",
       "0              1001 2012-01-03 09:00:00       0.983333                7.0   \n",
       "1              1001 2012-01-03 10:00:00       2.016667                7.0   \n",
       "2              1001 2012-01-03 11:00:00       4.633333                7.0   \n",
       "3              1001 2012-01-03 12:00:00       3.283333                7.0   \n",
       "4              1001 2012-01-03 13:00:00       1.116667                7.0   \n",
       "\n",
       "   PercentOccupied  \n",
       "0         0.140476  \n",
       "1         0.288095  \n",
       "2         0.661905  \n",
       "3         0.469048  \n",
       "4         0.159524  "
      ]
     },
     "execution_count": 305,
     "metadata": {},
     "output_type": "execute_result"
    }
   ],
   "source": [
    "df.head()"
   ]
  },
  {
   "cell_type": "code",
   "execution_count": 306,
   "metadata": {},
   "outputs": [],
   "source": [
    "# start_date = '2019-01-01'\n",
    "# block = 1001\n",
    "# mask = (df['SourceElementKey'] == block) & (df['OccupancyDateTime'] > (start_date))\n",
    "\n",
    "# curr = df[mask]\n",
    "# time_chunks_per_day = curr.groupby(curr.OccupancyDateTime.dt.dayofyear).count().SourceElementKey.max()\n",
    "# pct_occupied = curr.PercentOccupied\n",
    "\n",
    "# num_split = int(.7*len(pct_occupied))\n",
    "\n",
    "# train, test = pct_occupied.iloc[:num_split], pct_occupied.iloc[num_split:]"
   ]
  },
  {
   "cell_type": "code",
   "execution_count": 307,
   "metadata": {},
   "outputs": [],
   "source": [
    "# seasonality = 37\n",
    "\n",
    "# lags = np.arange(seasonality, seasonality*50, seasonality)\n",
    "\n",
    "# fig, axs = plt.subplots(2,2, figsize=(10,10))\n",
    "\n",
    "# (ax1, ax2, ax3, ax4) = axs.ravel()\n",
    "# plot_acf(pct_occupied, ax=ax1, lags=np.arange(50))\n",
    "# ax1.axvline(seasonality)\n",
    "# plot_pacf(pct_occupied, ax=ax2, lags=np.arange(50))\n",
    "# ax2.axvline(seasonality)\n",
    "# plot_acf(pct_occupied, ax=ax3, lags=lags)\n",
    "# plot_pacf(pct_occupied, ax=ax4, lags=lags)\n",
    "# #ax1.axvline(36)\n",
    "# plt.show()"
   ]
  },
  {
   "cell_type": "code",
   "execution_count": 308,
   "metadata": {},
   "outputs": [],
   "source": [
    "\n",
    "\n",
    "# model1 = ARIMA(order=(1, 0, 1), seasonal_order=(1, 0, 1, time_chunks_per_day))\n",
    "# preds = model1.fit_predict(y=train, n_periods=test.shape[0])\n",
    "\n",
    "# arima_smape = smape_error(preds, test)\n",
    "# #print('smape: %f' % arima_smape)\n",
    "# print(\"Test RMSE: %.3f\\t SMAPE: %.3f\" % (np.sqrt(mean_squared_error(test, preds)), arima_smape))"
   ]
  },
  {
   "cell_type": "code",
   "execution_count": 309,
   "metadata": {},
   "outputs": [],
   "source": [
    "import pickle"
   ]
  },
  {
   "cell_type": "code",
   "execution_count": 311,
   "metadata": {},
   "outputs": [],
   "source": [
    "df['Dummy'] = 0"
   ]
  },
  {
   "cell_type": "code",
   "execution_count": 316,
   "metadata": {},
   "outputs": [],
   "source": [
    "params = {\n",
    "    'boosting_type': 'gbdt',\n",
    "    'objective': 'regression',\n",
    "    'metric': {'l2', 'l1'},\n",
    "    'num_leaves': 31,\n",
    "    'learning_rate': 0.05,\n",
    "    'feature_fraction': 0.9,\n",
    "    'bagging_fraction': 0.8,\n",
    "    'bagging_freq': 5,\n",
    "    'verbose':-1, \n",
    "}"
   ]
  },
  {
   "cell_type": "code",
   "execution_count": 321,
   "metadata": {},
   "outputs": [
    {
     "name": "stdout",
     "output_type": "stream",
     "text": [
      "1001 (3, 1, 3) (2, 0, 2, 10)\n",
      "Test RMSE: 0.233\t SMAPE: 30.827\t GBM SMAPE: 34.435\n"
     ]
    },
    {
     "name": "stderr",
     "output_type": "stream",
     "text": [
      "/Users/bethanys08/.pyenv/versions/anaconda3-2019.03/envs/myenv2/lib/python3.7/site-packages/lightgbm/basic.py:1205: UserWarning: Using categorical_feature in Dataset.\n",
      "  warnings.warn('Using categorical_feature in Dataset.')\n",
      "/Users/bethanys08/.pyenv/versions/anaconda3-2019.03/envs/myenv2/lib/python3.7/site-packages/lightgbm/basic.py:762: UserWarning: categorical_feature in param dict is overridden.\n",
      "  warnings.warn('categorical_feature in param dict is overridden.')\n"
     ]
    },
    {
     "name": "stdout",
     "output_type": "stream",
     "text": [
      "1002 (1, 1, 1) (1, 0, 1, 10)\n",
      "Test RMSE: 0.197\t SMAPE: 30.916\t GBM SMAPE: 37.279\n"
     ]
    },
    {
     "name": "stderr",
     "output_type": "stream",
     "text": [
      "/Users/bethanys08/.pyenv/versions/anaconda3-2019.03/envs/myenv2/lib/python3.7/site-packages/lightgbm/basic.py:1205: UserWarning: Using categorical_feature in Dataset.\n",
      "  warnings.warn('Using categorical_feature in Dataset.')\n",
      "/Users/bethanys08/.pyenv/versions/anaconda3-2019.03/envs/myenv2/lib/python3.7/site-packages/lightgbm/basic.py:762: UserWarning: categorical_feature in param dict is overridden.\n",
      "  warnings.warn('categorical_feature in param dict is overridden.')\n"
     ]
    },
    {
     "name": "stdout",
     "output_type": "stream",
     "text": [
      "1006 (0, 0, 0) (4, 0, 2, 12)\n",
      "Test RMSE: 0.172\t SMAPE: 23.859\t GBM SMAPE: 33.132\n"
     ]
    },
    {
     "name": "stderr",
     "output_type": "stream",
     "text": [
      "/Users/bethanys08/.pyenv/versions/anaconda3-2019.03/envs/myenv2/lib/python3.7/site-packages/lightgbm/basic.py:1205: UserWarning: Using categorical_feature in Dataset.\n",
      "  warnings.warn('Using categorical_feature in Dataset.')\n",
      "/Users/bethanys08/.pyenv/versions/anaconda3-2019.03/envs/myenv2/lib/python3.7/site-packages/lightgbm/basic.py:762: UserWarning: categorical_feature in param dict is overridden.\n",
      "  warnings.warn('categorical_feature in param dict is overridden.')\n"
     ]
    },
    {
     "name": "stdout",
     "output_type": "stream",
     "text": [
      "1009 (1, 1, 1) (3, 0, 3, 12)\n",
      "Test RMSE: 0.219\t SMAPE: 35.347\t GBM SMAPE: 38.521\n"
     ]
    },
    {
     "name": "stderr",
     "output_type": "stream",
     "text": [
      "/Users/bethanys08/.pyenv/versions/anaconda3-2019.03/envs/myenv2/lib/python3.7/site-packages/lightgbm/basic.py:1205: UserWarning: Using categorical_feature in Dataset.\n",
      "  warnings.warn('Using categorical_feature in Dataset.')\n",
      "/Users/bethanys08/.pyenv/versions/anaconda3-2019.03/envs/myenv2/lib/python3.7/site-packages/lightgbm/basic.py:762: UserWarning: categorical_feature in param dict is overridden.\n",
      "  warnings.warn('categorical_feature in param dict is overridden.')\n"
     ]
    },
    {
     "name": "stdout",
     "output_type": "stream",
     "text": [
      "1010 (1, 1, 1) (1, 0, 1, 12)\n",
      "Test RMSE: 0.227\t SMAPE: 19.595\t GBM SMAPE: 24.154\n"
     ]
    },
    {
     "name": "stderr",
     "output_type": "stream",
     "text": [
      "/Users/bethanys08/.pyenv/versions/anaconda3-2019.03/envs/myenv2/lib/python3.7/site-packages/lightgbm/basic.py:1205: UserWarning: Using categorical_feature in Dataset.\n",
      "  warnings.warn('Using categorical_feature in Dataset.')\n",
      "/Users/bethanys08/.pyenv/versions/anaconda3-2019.03/envs/myenv2/lib/python3.7/site-packages/lightgbm/basic.py:762: UserWarning: categorical_feature in param dict is overridden.\n",
      "  warnings.warn('categorical_feature in param dict is overridden.')\n"
     ]
    },
    {
     "name": "stdout",
     "output_type": "stream",
     "text": [
      "1013 (1, 0, 2) (1, 0, 1, 12)\n",
      "Test RMSE: 0.286\t SMAPE: 36.428\t GBM SMAPE: 35.463\n"
     ]
    },
    {
     "name": "stderr",
     "output_type": "stream",
     "text": [
      "/Users/bethanys08/.pyenv/versions/anaconda3-2019.03/envs/myenv2/lib/python3.7/site-packages/lightgbm/basic.py:1205: UserWarning: Using categorical_feature in Dataset.\n",
      "  warnings.warn('Using categorical_feature in Dataset.')\n",
      "/Users/bethanys08/.pyenv/versions/anaconda3-2019.03/envs/myenv2/lib/python3.7/site-packages/lightgbm/basic.py:762: UserWarning: categorical_feature in param dict is overridden.\n",
      "  warnings.warn('categorical_feature in param dict is overridden.')\n"
     ]
    },
    {
     "name": "stdout",
     "output_type": "stream",
     "text": [
      "1014 (2, 1, 1) (2, 0, 1, 12)\n",
      "Test RMSE: 0.201\t SMAPE: 72.228\t GBM SMAPE: 53.031\n"
     ]
    },
    {
     "name": "stderr",
     "output_type": "stream",
     "text": [
      "/Users/bethanys08/.pyenv/versions/anaconda3-2019.03/envs/myenv2/lib/python3.7/site-packages/lightgbm/basic.py:1205: UserWarning: Using categorical_feature in Dataset.\n",
      "  warnings.warn('Using categorical_feature in Dataset.')\n",
      "/Users/bethanys08/.pyenv/versions/anaconda3-2019.03/envs/myenv2/lib/python3.7/site-packages/lightgbm/basic.py:762: UserWarning: categorical_feature in param dict is overridden.\n",
      "  warnings.warn('categorical_feature in param dict is overridden.')\n"
     ]
    },
    {
     "name": "stdout",
     "output_type": "stream",
     "text": [
      "1017 (0, 1, 0) (2, 0, 1, 12)\n",
      "Test RMSE: 0.211\t SMAPE: 10.032\t GBM SMAPE: 19.783\n"
     ]
    },
    {
     "name": "stderr",
     "output_type": "stream",
     "text": [
      "/Users/bethanys08/.pyenv/versions/anaconda3-2019.03/envs/myenv2/lib/python3.7/site-packages/lightgbm/basic.py:1205: UserWarning: Using categorical_feature in Dataset.\n",
      "  warnings.warn('Using categorical_feature in Dataset.')\n",
      "/Users/bethanys08/.pyenv/versions/anaconda3-2019.03/envs/myenv2/lib/python3.7/site-packages/lightgbm/basic.py:762: UserWarning: categorical_feature in param dict is overridden.\n",
      "  warnings.warn('categorical_feature in param dict is overridden.')\n"
     ]
    },
    {
     "name": "stdout",
     "output_type": "stream",
     "text": [
      "1018 (2, 1, 1) (2, 0, 2, 12)\n",
      "Test RMSE: 0.210\t SMAPE: 9.520\t GBM SMAPE: 16.270\n"
     ]
    },
    {
     "name": "stderr",
     "output_type": "stream",
     "text": [
      "/Users/bethanys08/.pyenv/versions/anaconda3-2019.03/envs/myenv2/lib/python3.7/site-packages/lightgbm/basic.py:1205: UserWarning: Using categorical_feature in Dataset.\n",
      "  warnings.warn('Using categorical_feature in Dataset.')\n",
      "/Users/bethanys08/.pyenv/versions/anaconda3-2019.03/envs/myenv2/lib/python3.7/site-packages/lightgbm/basic.py:762: UserWarning: categorical_feature in param dict is overridden.\n",
      "  warnings.warn('categorical_feature in param dict is overridden.')\n"
     ]
    },
    {
     "name": "stdout",
     "output_type": "stream",
     "text": [
      "1021 (2, 1, 1) (1, 0, 1, 12)\n",
      "Test RMSE: 0.223\t SMAPE: 21.331\t GBM SMAPE: 23.047\n"
     ]
    },
    {
     "name": "stderr",
     "output_type": "stream",
     "text": [
      "/Users/bethanys08/.pyenv/versions/anaconda3-2019.03/envs/myenv2/lib/python3.7/site-packages/lightgbm/basic.py:1205: UserWarning: Using categorical_feature in Dataset.\n",
      "  warnings.warn('Using categorical_feature in Dataset.')\n",
      "/Users/bethanys08/.pyenv/versions/anaconda3-2019.03/envs/myenv2/lib/python3.7/site-packages/lightgbm/basic.py:762: UserWarning: categorical_feature in param dict is overridden.\n",
      "  warnings.warn('categorical_feature in param dict is overridden.')\n"
     ]
    }
   ],
   "source": [
    "start_date = '2019-01-01'\n",
    "for block in blockface_detail.sourceelementkey.values[:10]:\n",
    "    mask = (df['SourceElementKey'] == block) & (df['OccupancyDateTime'] > (start_date))\n",
    "\n",
    "    curr = df[mask]\n",
    "    time_chunks_per_day = curr.groupby(curr.OccupancyDateTime.dt.dayofyear).count().SourceElementKey.max()\n",
    "    pct_occupied = curr.PercentOccupied\n",
    "    \n",
    "    num_split = int(.7*len(pct_occupied))\n",
    "    \n",
    "    train, test = pct_occupied.iloc[:num_split], pct_occupied.iloc[num_split:]\n",
    "    df_train, df_test = curr.iloc[:num_split], curr.iloc[num_split:]\n",
    "    pkl = open('arima.%d.pkl' % block, 'rb')\n",
    "    mdl = pickle.load(pkl)\n",
    "    preds = mdl.predict(n_periods=test.shape[0])\n",
    "    mdl_dict = mdl.to_dict()\n",
    "    print(block, mdl_dict['order'], mdl_dict['seasonal_order'])\n",
    "    \n",
    "#     model1 = ARIMA(order=(1, 0, 1), seasonal_order=(1, 0, 1, time_chunks_per_day))\n",
    "#     preds = model1.fit_predict(y=train, n_periods=test.shape[0])\n",
    "\n",
    "    arima_smape = smape_error(preds, test)\n",
    "    #print('smape: %f' % arima_smape)\n",
    "\n",
    "#     d1 = pm.arima.ndiffs(pct_occupied, max_d=20)\n",
    "#     d2 = pm.arima.ndiffs(pct_occupied, max_d=20, test='adf')\n",
    "#     D1 = pm.arima.nsdiffs(pct_occupied, time_chunks_per_day, max_D=20)\n",
    "#     D2 = pm.arima.nsdiffs(pct_occupied, time_chunks_per_day, max_D=20, test='ch')\n",
    "#     print(block, d1,d2, D1, D2)\n",
    "\n",
    "    lgb_train = lgb.Dataset(data=df_train[baseline_columns], \n",
    "                            label=df_train['PercentOccupied'], \n",
    "                            feature_name=baseline_columns, \n",
    "                            categorical_feature=['SourceElementKey'])\n",
    "    lgb_test = lgb.Dataset(data=df_test[baseline_columns], \n",
    "                           label=df_test['PercentOccupied'], \n",
    "                           feature_name=baseline_columns, \n",
    "                           categorical_feature=['SourceElementKey'],\n",
    "                           reference=lgb_train)\n",
    "    gbm = lgb.train(params,\n",
    "                lgb_train,\n",
    "               valid_sets=lgb_test,\n",
    "                   verbose_eval=False)\n",
    "    gbm_pred = gbm.predict(df_test[baseline_columns], num_iteration=gbm.best_iteration)\n",
    "    gbm_smape = smape_error(gbm_pred, df_test['PercentOccupied'])\n",
    "    print(\"Test RMSE: %.3f\\t SMAPE: %.3f\\t GBM SMAPE: %.3f\" % (\n",
    "        np.sqrt(mean_squared_error(test, preds)), arima_smape, gbm_smape))\n"
   ]
  },
  {
   "cell_type": "code",
   "execution_count": null,
   "metadata": {},
   "outputs": [],
   "source": [
    "def using_Grouper(df):\n",
    "    level_values = df.index.get_level_values\n",
    "    return (df.groupby([level_values(0)]\n",
    "                       +[pd.Grouper(freq='1D', level=-1)]).sum())"
   ]
  },
  {
   "cell_type": "code",
   "execution_count": null,
   "metadata": {},
   "outputs": [],
   "source": [
    "daily_data = using_Grouper(pd.read_pickle('1.collect_data/data_files/15min.pkl').dropna())\n"
   ]
  },
  {
   "cell_type": "code",
   "execution_count": null,
   "metadata": {},
   "outputs": [],
   "source": [
    "daily_data.head()"
   ]
  },
  {
   "cell_type": "code",
   "execution_count": null,
   "metadata": {},
   "outputs": [],
   "source": [
    "# shift values by one\n",
    "pred_values = pd.concat([pd.Series([0]), daily_data['PaidOccupancy']])\n",
    "timeseries_smape = smape_error(pred_values.values[:-1], daily_data['PaidOccupancy'])\n",
    "print('smape: %f' % timeseries_smape)"
   ]
  },
  {
   "cell_type": "code",
   "execution_count": null,
   "metadata": {},
   "outputs": [],
   "source": []
  }
 ],
 "metadata": {
  "kernelspec": {
   "display_name": "Python 3",
   "language": "python",
   "name": "python3"
  },
  "language_info": {
   "codemirror_mode": {
    "name": "ipython",
    "version": 3
   },
   "file_extension": ".py",
   "mimetype": "text/x-python",
   "name": "python",
   "nbconvert_exporter": "python",
   "pygments_lexer": "ipython3",
   "version": "3.8.2"
  }
 },
 "nbformat": 4,
 "nbformat_minor": 2
}
