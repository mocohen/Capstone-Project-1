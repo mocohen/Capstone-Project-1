{
 "cells": [
  {
   "cell_type": "markdown",
   "metadata": {},
   "source": [
    "Capstone Project 1: Statistical Data Analysis\n",
    " Students typically spend 4 - 12 Hours\n",
    "\n",
    "At this point, you’ve obtained the dataset for your capstone project, cleaned, and wrangled it into a form that's ready for analysis. It's now time to apply the inferential statistics techniques you’ve learned to explore the data.\n",
    "\n",
    "Based on your dataset, the questions that interest you, and the results of the visualization techniques that you used previously, you should choose the most relevant statistical inference techniques. You aren’t expected to demonstrate all of them. Your specific situation determines how much time it’ll take you to complete this project. Talk to your mentor to determine the most appropriate approach to take for your project. You may find yourself revisiting the analytical framework that you first used to develop your proposal questions. It’s fine to refine your questions more as you get deeper into your data and find interesting patterns and answers. Remember to stay in touch with your mentor to remain focused on the scope of your project\n",
    "\n",
    "Think of the following questions and apply them to your dataset:\n",
    "\n",
    "* Are there variables that are particularly significant in terms of explaining the answer to your project question?\n",
    "* Are there significant differences between subgroups in your data that may be relevant to your project aim?\n",
    "* Are there strong correlations between pairs of independent variables or between an independent and a dependent variable?\n",
    "* What are the most appropriate tests to use to analyze these relationships?\n",
    "Submission: Write a 1-2 page report on the steps and findings of your inferential statistical analysis. Upload this report to your GitHub and submit a link. Eventually, this report will get incorporated into your milestone report."
   ]
  },
  {
   "cell_type": "code",
   "execution_count": 55,
   "metadata": {},
   "outputs": [
    {
     "name": "stdout",
     "output_type": "stream",
     "text": [
      "-rw-r--r--  1 bethanys08  admin    62M Sep 25  2019 ../data/interim/data_by_day.pkl\r\n"
     ]
    }
   ],
   "source": [
    "!ls -lh ../data/interim/data_by_day.pkl"
   ]
  },
  {
   "cell_type": "code",
   "execution_count": 56,
   "metadata": {},
   "outputs": [],
   "source": [
    "import pandas as pd\n",
    "import matplotlib.pyplot as plt\n",
    "import numpy as np\n",
    "%matplotlib inline"
   ]
  },
  {
   "cell_type": "code",
   "execution_count": 57,
   "metadata": {},
   "outputs": [],
   "source": [
    "daily_data = pd.read_pickle('../data/interim/data_by_day.pkl')"
   ]
  },
  {
   "cell_type": "code",
   "execution_count": 58,
   "metadata": {},
   "outputs": [],
   "source": [
    "daily_data['PercentOccupied'] = daily_data.PaidOccupancy / daily_data.ParkingSpaceCount\n",
    "daily_data.PercentOccupied.replace([np.inf, -np.inf], np.nan, inplace=True)\n",
    "daily_data.dropna(inplace=True)"
   ]
  },
  {
   "cell_type": "code",
   "execution_count": 59,
   "metadata": {},
   "outputs": [
    {
     "data": {
      "text/plain": [
       "0"
      ]
     },
     "execution_count": 59,
     "metadata": {},
     "output_type": "execute_result"
    }
   ],
   "source": [
    "daily_data.PercentOccupied.isna().sum()"
   ]
  },
  {
   "cell_type": "code",
   "execution_count": 60,
   "metadata": {
    "scrolled": true
   },
   "outputs": [
    {
     "data": {
      "text/html": [
       "<div>\n",
       "<style scoped>\n",
       "    .dataframe tbody tr th:only-of-type {\n",
       "        vertical-align: middle;\n",
       "    }\n",
       "\n",
       "    .dataframe tbody tr th {\n",
       "        vertical-align: top;\n",
       "    }\n",
       "\n",
       "    .dataframe thead th {\n",
       "        text-align: right;\n",
       "    }\n",
       "</style>\n",
       "<table border=\"1\" class=\"dataframe\">\n",
       "  <thead>\n",
       "    <tr style=\"text-align: right;\">\n",
       "      <th></th>\n",
       "      <th></th>\n",
       "      <th>PaidOccupancy</th>\n",
       "      <th>ParkingSpaceCount</th>\n",
       "      <th>PercentOccupied</th>\n",
       "    </tr>\n",
       "    <tr>\n",
       "      <th>SourceElementKey</th>\n",
       "      <th>OccupancyDateTime</th>\n",
       "      <th></th>\n",
       "      <th></th>\n",
       "      <th></th>\n",
       "    </tr>\n",
       "  </thead>\n",
       "  <tbody>\n",
       "    <tr>\n",
       "      <th rowspan=\"5\" valign=\"top\">1001</th>\n",
       "      <th>2012-01-03</th>\n",
       "      <td>2.072222</td>\n",
       "      <td>7.0</td>\n",
       "      <td>0.296032</td>\n",
       "    </tr>\n",
       "    <tr>\n",
       "      <th>2012-01-04</th>\n",
       "      <td>1.336111</td>\n",
       "      <td>7.0</td>\n",
       "      <td>0.190873</td>\n",
       "    </tr>\n",
       "    <tr>\n",
       "      <th>2012-01-05</th>\n",
       "      <td>1.836111</td>\n",
       "      <td>7.0</td>\n",
       "      <td>0.262302</td>\n",
       "    </tr>\n",
       "    <tr>\n",
       "      <th>2012-01-06</th>\n",
       "      <td>2.268698</td>\n",
       "      <td>7.0</td>\n",
       "      <td>0.324100</td>\n",
       "    </tr>\n",
       "    <tr>\n",
       "      <th>2012-01-07</th>\n",
       "      <td>1.683333</td>\n",
       "      <td>7.0</td>\n",
       "      <td>0.240476</td>\n",
       "    </tr>\n",
       "  </tbody>\n",
       "</table>\n",
       "</div>"
      ],
      "text/plain": [
       "                                    PaidOccupancy  ParkingSpaceCount  \\\n",
       "SourceElementKey OccupancyDateTime                                     \n",
       "1001             2012-01-03              2.072222                7.0   \n",
       "                 2012-01-04              1.336111                7.0   \n",
       "                 2012-01-05              1.836111                7.0   \n",
       "                 2012-01-06              2.268698                7.0   \n",
       "                 2012-01-07              1.683333                7.0   \n",
       "\n",
       "                                    PercentOccupied  \n",
       "SourceElementKey OccupancyDateTime                   \n",
       "1001             2012-01-03                0.296032  \n",
       "                 2012-01-04                0.190873  \n",
       "                 2012-01-05                0.262302  \n",
       "                 2012-01-06                0.324100  \n",
       "                 2012-01-07                0.240476  "
      ]
     },
     "execution_count": 60,
     "metadata": {},
     "output_type": "execute_result"
    }
   ],
   "source": [
    "daily_data.head()"
   ]
  },
  {
   "cell_type": "code",
   "execution_count": 61,
   "metadata": {},
   "outputs": [],
   "source": [
    "blockface_ids = daily_data.index.unique(level=0).values"
   ]
  },
  {
   "cell_type": "markdown",
   "metadata": {},
   "source": [
    "# How important is weather"
   ]
  },
  {
   "cell_type": "markdown",
   "metadata": {},
   "source": [
    "We can state a null hypothesis that weather does not affect parking availability. Then I will test 4 alternate hypothesis - rain affects availibility, snow affects availability, and hot days affect availibility, and cold days affect availibility"
   ]
  },
  {
   "cell_type": "code",
   "execution_count": 66,
   "metadata": {},
   "outputs": [],
   "source": [
    "weather = pd.read_pickle('../data/processed/2010-2019_daily_weather.pkl')"
   ]
  },
  {
   "cell_type": "code",
   "execution_count": 67,
   "metadata": {
    "scrolled": true
   },
   "outputs": [
    {
     "data": {
      "text/html": [
       "<div>\n",
       "<style scoped>\n",
       "    .dataframe tbody tr th:only-of-type {\n",
       "        vertical-align: middle;\n",
       "    }\n",
       "\n",
       "    .dataframe tbody tr th {\n",
       "        vertical-align: top;\n",
       "    }\n",
       "\n",
       "    .dataframe thead th {\n",
       "        text-align: right;\n",
       "    }\n",
       "</style>\n",
       "<table border=\"1\" class=\"dataframe\">\n",
       "  <thead>\n",
       "    <tr style=\"text-align: right;\">\n",
       "      <th></th>\n",
       "      <th>PRCP</th>\n",
       "      <th>SNOW</th>\n",
       "      <th>TAVG</th>\n",
       "      <th>TMAX</th>\n",
       "      <th>TMIN</th>\n",
       "    </tr>\n",
       "    <tr>\n",
       "      <th>OccupancyDateTime</th>\n",
       "      <th></th>\n",
       "      <th></th>\n",
       "      <th></th>\n",
       "      <th></th>\n",
       "      <th></th>\n",
       "    </tr>\n",
       "  </thead>\n",
       "  <tbody>\n",
       "    <tr>\n",
       "      <th>2010-01-01</th>\n",
       "      <td>0.36</td>\n",
       "      <td>0.0</td>\n",
       "      <td>48.5</td>\n",
       "      <td>52.0</td>\n",
       "      <td>45.0</td>\n",
       "    </tr>\n",
       "    <tr>\n",
       "      <th>2010-01-02</th>\n",
       "      <td>0.03</td>\n",
       "      <td>0.0</td>\n",
       "      <td>46.0</td>\n",
       "      <td>50.0</td>\n",
       "      <td>42.0</td>\n",
       "    </tr>\n",
       "    <tr>\n",
       "      <th>2010-01-03</th>\n",
       "      <td>0.02</td>\n",
       "      <td>0.0</td>\n",
       "      <td>45.0</td>\n",
       "      <td>48.0</td>\n",
       "      <td>42.0</td>\n",
       "    </tr>\n",
       "    <tr>\n",
       "      <th>2010-01-04</th>\n",
       "      <td>0.71</td>\n",
       "      <td>0.0</td>\n",
       "      <td>46.0</td>\n",
       "      <td>48.0</td>\n",
       "      <td>44.0</td>\n",
       "    </tr>\n",
       "    <tr>\n",
       "      <th>2010-01-05</th>\n",
       "      <td>0.07</td>\n",
       "      <td>0.0</td>\n",
       "      <td>46.5</td>\n",
       "      <td>48.0</td>\n",
       "      <td>45.0</td>\n",
       "    </tr>\n",
       "  </tbody>\n",
       "</table>\n",
       "</div>"
      ],
      "text/plain": [
       "                   PRCP  SNOW  TAVG  TMAX  TMIN\n",
       "OccupancyDateTime                              \n",
       "2010-01-01         0.36   0.0  48.5  52.0  45.0\n",
       "2010-01-02         0.03   0.0  46.0  50.0  42.0\n",
       "2010-01-03         0.02   0.0  45.0  48.0  42.0\n",
       "2010-01-04         0.71   0.0  46.0  48.0  44.0\n",
       "2010-01-05         0.07   0.0  46.5  48.0  45.0"
      ]
     },
     "execution_count": 67,
     "metadata": {},
     "output_type": "execute_result"
    }
   ],
   "source": [
    "weather.index.rename('OccupancyDateTime', inplace=True)\n",
    "weather.head()"
   ]
  },
  {
   "cell_type": "code",
   "execution_count": 68,
   "metadata": {},
   "outputs": [],
   "source": [
    "weather.PRCP = weather.PRCP.replace(np.nan, 0.0)"
   ]
  },
  {
   "cell_type": "code",
   "execution_count": 69,
   "metadata": {
    "scrolled": true
   },
   "outputs": [
    {
     "data": {
      "text/html": [
       "<div>\n",
       "<style scoped>\n",
       "    .dataframe tbody tr th:only-of-type {\n",
       "        vertical-align: middle;\n",
       "    }\n",
       "\n",
       "    .dataframe tbody tr th {\n",
       "        vertical-align: top;\n",
       "    }\n",
       "\n",
       "    .dataframe thead th {\n",
       "        text-align: right;\n",
       "    }\n",
       "</style>\n",
       "<table border=\"1\" class=\"dataframe\">\n",
       "  <thead>\n",
       "    <tr style=\"text-align: right;\">\n",
       "      <th></th>\n",
       "      <th></th>\n",
       "      <th>PaidOccupancy</th>\n",
       "      <th>ParkingSpaceCount</th>\n",
       "      <th>PercentOccupied</th>\n",
       "      <th>PRCP</th>\n",
       "      <th>SNOW</th>\n",
       "      <th>TAVG</th>\n",
       "      <th>TMAX</th>\n",
       "      <th>TMIN</th>\n",
       "    </tr>\n",
       "    <tr>\n",
       "      <th>SourceElementKey</th>\n",
       "      <th>OccupancyDateTime</th>\n",
       "      <th></th>\n",
       "      <th></th>\n",
       "      <th></th>\n",
       "      <th></th>\n",
       "      <th></th>\n",
       "      <th></th>\n",
       "      <th></th>\n",
       "      <th></th>\n",
       "    </tr>\n",
       "  </thead>\n",
       "  <tbody>\n",
       "    <tr>\n",
       "      <th rowspan=\"5\" valign=\"top\">1001</th>\n",
       "      <th>2012-01-03</th>\n",
       "      <td>2.072222</td>\n",
       "      <td>7.0</td>\n",
       "      <td>0.296032</td>\n",
       "      <td>0.02</td>\n",
       "      <td>0.0</td>\n",
       "      <td>48.0</td>\n",
       "      <td>53.0</td>\n",
       "      <td>43.0</td>\n",
       "    </tr>\n",
       "    <tr>\n",
       "      <th>2012-01-04</th>\n",
       "      <td>1.336111</td>\n",
       "      <td>7.0</td>\n",
       "      <td>0.190873</td>\n",
       "      <td>0.65</td>\n",
       "      <td>0.0</td>\n",
       "      <td>46.0</td>\n",
       "      <td>53.0</td>\n",
       "      <td>39.0</td>\n",
       "    </tr>\n",
       "    <tr>\n",
       "      <th>2012-01-05</th>\n",
       "      <td>1.836111</td>\n",
       "      <td>7.0</td>\n",
       "      <td>0.262302</td>\n",
       "      <td>0.04</td>\n",
       "      <td>0.0</td>\n",
       "      <td>44.0</td>\n",
       "      <td>49.0</td>\n",
       "      <td>39.0</td>\n",
       "    </tr>\n",
       "    <tr>\n",
       "      <th>2012-01-06</th>\n",
       "      <td>2.268698</td>\n",
       "      <td>7.0</td>\n",
       "      <td>0.324100</td>\n",
       "      <td>0.05</td>\n",
       "      <td>0.0</td>\n",
       "      <td>40.0</td>\n",
       "      <td>42.0</td>\n",
       "      <td>38.0</td>\n",
       "    </tr>\n",
       "    <tr>\n",
       "      <th>2012-01-07</th>\n",
       "      <td>1.683333</td>\n",
       "      <td>7.0</td>\n",
       "      <td>0.240476</td>\n",
       "      <td>0.00</td>\n",
       "      <td>0.0</td>\n",
       "      <td>42.0</td>\n",
       "      <td>45.0</td>\n",
       "      <td>39.0</td>\n",
       "    </tr>\n",
       "  </tbody>\n",
       "</table>\n",
       "</div>"
      ],
      "text/plain": [
       "                                    PaidOccupancy  ParkingSpaceCount  \\\n",
       "SourceElementKey OccupancyDateTime                                     \n",
       "1001             2012-01-03              2.072222                7.0   \n",
       "                 2012-01-04              1.336111                7.0   \n",
       "                 2012-01-05              1.836111                7.0   \n",
       "                 2012-01-06              2.268698                7.0   \n",
       "                 2012-01-07              1.683333                7.0   \n",
       "\n",
       "                                    PercentOccupied  PRCP  SNOW  TAVG  TMAX  \\\n",
       "SourceElementKey OccupancyDateTime                                            \n",
       "1001             2012-01-03                0.296032  0.02   0.0  48.0  53.0   \n",
       "                 2012-01-04                0.190873  0.65   0.0  46.0  53.0   \n",
       "                 2012-01-05                0.262302  0.04   0.0  44.0  49.0   \n",
       "                 2012-01-06                0.324100  0.05   0.0  40.0  42.0   \n",
       "                 2012-01-07                0.240476  0.00   0.0  42.0  45.0   \n",
       "\n",
       "                                    TMIN  \n",
       "SourceElementKey OccupancyDateTime        \n",
       "1001             2012-01-03         43.0  \n",
       "                 2012-01-04         39.0  \n",
       "                 2012-01-05         39.0  \n",
       "                 2012-01-06         38.0  \n",
       "                 2012-01-07         39.0  "
      ]
     },
     "execution_count": 69,
     "metadata": {},
     "output_type": "execute_result"
    }
   ],
   "source": [
    "daily_with_weather = daily_data.join(weather)\n",
    "daily_with_weather.head()"
   ]
  },
  {
   "cell_type": "code",
   "execution_count": 104,
   "metadata": {},
   "outputs": [],
   "source": [
    "from scipy.stats import t\n",
    "import operator\n",
    "import scipy.stats"
   ]
  },
  {
   "cell_type": "code",
   "execution_count": 131,
   "metadata": {},
   "outputs": [],
   "source": [
    "parameters = {'PRCP': (operator.gt, .5), \n",
    "             'SNOW': (operator.gt, .01),\n",
    "             'TMIN': (operator.lt, 30.),\n",
    "             'TMAX': (operator.gt, 70.)}"
   ]
  },
  {
   "cell_type": "code",
   "execution_count": 132,
   "metadata": {},
   "outputs": [
    {
     "name": "stdout",
     "output_type": "stream",
     "text": [
      "\n",
      " PRCP (<built-in function gt>, 0.5)\n",
      "mean 0.4524196864901656 0.4590367671990252\n",
      "ttest 9.700247139559067\n",
      "pvalue 3.0368429960104573e-22\n",
      "\n",
      " SNOW (<built-in function gt>, 0.01)\n",
      "mean 0.31938216371853234 0.4594837066385767\n",
      "ttest 72.41324750425517\n",
      "pvalue 0.0\n",
      "\n",
      " TMIN (<built-in function lt>, 30.0)\n",
      "mean 0.4302192387151238 0.4595918282052129\n",
      "ttest 32.396311714938534\n",
      "pvalue 3.318456391831045e-229\n",
      "\n",
      " TMAX (<built-in function gt>, 70.0)\n",
      "mean 0.4660766099720753 0.4555768431159003\n",
      "ttest 28.238149002371376\n",
      "pvalue 2.1853972858872343e-175\n"
     ]
    }
   ],
   "source": [
    "for key, val in parameters.items():\n",
    "    val_operator, value = val\n",
    "    mask = val_operator(daily_with_weather[key] , value)\n",
    "    true_values = daily_with_weather[mask]\n",
    "    false_values = daily_with_weather[~mask]\n",
    "    print('\\n', key, val)\n",
    "#     print('len', len(true_values), len(false_values))\n",
    "    print('mean', true_values.PercentOccupied.mean(), false_values.PercentOccupied.mean())\n",
    "#     print('var', true_values.PercentOccupied.var(), false_values.PercentOccupied.var())\n",
    "    \n",
    "    scipy_t, scipy_p = scipy.stats.ttest_ind(false_values.PercentOccupied, true_values.PercentOccupied, equal_var=False)\n",
    "    print('ttest', np.abs(scipy_t))\n",
    "    print('pvalue', scipy_p)\n",
    "    "
   ]
  },
  {
   "cell_type": "markdown",
   "metadata": {},
   "source": [
    "Above, we can see that for each of the above conditions, there is a small yet significant difference in the means between the two groups. A decent rainfall, some snow, as well as cold temperatures lead to more parking spaces that are available, while high temperatures lead to fewer parking spaces available."
   ]
  },
  {
   "cell_type": "markdown",
   "metadata": {},
   "source": [
    "# How is temperature correlated to parking availability"
   ]
  },
  {
   "cell_type": "code",
   "execution_count": 115,
   "metadata": {},
   "outputs": [
    {
     "data": {
      "text/plain": [
       "(0.03047883034976372, 0.0)"
      ]
     },
     "execution_count": 115,
     "metadata": {},
     "output_type": "execute_result"
    }
   ],
   "source": [
    "scipy.stats.pearsonr(daily_with_weather.PercentOccupied, daily_with_weather.TAVG)"
   ]
  },
  {
   "cell_type": "code",
   "execution_count": 116,
   "metadata": {},
   "outputs": [
    {
     "data": {
      "text/plain": [
       "(0.02867653552506716, 0.0)"
      ]
     },
     "execution_count": 116,
     "metadata": {},
     "output_type": "execute_result"
    }
   ],
   "source": [
    "scipy.stats.pearsonr(daily_with_weather.PercentOccupied, daily_with_weather.TMAX)"
   ]
  },
  {
   "cell_type": "code",
   "execution_count": 117,
   "metadata": {},
   "outputs": [
    {
     "data": {
      "text/plain": [
       "(0.03050118986046407, 0.0)"
      ]
     },
     "execution_count": 117,
     "metadata": {},
     "output_type": "execute_result"
    }
   ],
   "source": [
    "scipy.stats.pearsonr(daily_with_weather.PercentOccupied, daily_with_weather.TMIN)"
   ]
  },
  {
   "cell_type": "code",
   "execution_count": null,
   "metadata": {},
   "outputs": [],
   "source": []
  }
 ],
 "metadata": {
  "kernelspec": {
   "display_name": "Python 3",
   "language": "python",
   "name": "python3"
  },
  "language_info": {
   "codemirror_mode": {
    "name": "ipython",
    "version": 3
   },
   "file_extension": ".py",
   "mimetype": "text/x-python",
   "name": "python",
   "nbconvert_exporter": "python",
   "pygments_lexer": "ipython3",
   "version": "3.8.2"
  }
 },
 "nbformat": 4,
 "nbformat_minor": 2
}
