{
 "cells": [
  {
   "cell_type": "code",
   "execution_count": 1,
   "metadata": {},
   "outputs": [],
   "source": [
    "import numpy as np\n",
    "import matplotlib.pyplot as plt \n",
    "from matplotlib.widgets import Slider, Button, RadioButtons\n",
    "import matplotlib\n",
    "\n",
    "import pandas as pd"
   ]
  },
  {
   "cell_type": "code",
   "execution_count": 2,
   "metadata": {},
   "outputs": [],
   "source": [
    "predictions = pd.read_pickle('../data/SARIMA_RF_RESULTS.pkl')\n",
    "\n",
    "parkingspacecount = pd.read_pickle('../data/1hr.pkl').reset_index()\n",
    "\n",
    "merged = pd.merge(predictions, parkingspacecount, on=['OccupancyDateTime', 'SourceElementKey'])\n",
    "merged['PredictedAvailableSpaces'] = np.around((1-merged['SARIMA_Plus_RF']) * merged['ParkingSpaceCount_y'])\n",
    "\n",
    "results = merged[(merged.isTrain == 0) & (merged.OccupancyDateTime > '06-20-2019')]"
   ]
  },
  {
   "cell_type": "code",
   "execution_count": null,
   "metadata": {},
   "outputs": [],
   "source": [
    "all_dates = sorted(results.OccupancyDateTime.unique())\n",
    "firstdateind = int(len(all_dates) / 2)"
   ]
  },
  {
   "cell_type": "code",
   "execution_count": null,
   "metadata": {},
   "outputs": [],
   "source": [
    "# read in map of seattle\n",
    "img = matplotlib.image.imread('../images/seattle_map.png')\n",
    "dpi=80\n",
    "height, width, nbands = img.shape\n",
    "figsize = width / float(dpi), height / float(dpi)"
   ]
  },
  {
   "cell_type": "code",
   "execution_count": null,
   "metadata": {},
   "outputs": [],
   "source": [
    "fig, ax = plt.subplots(figsize=figsize)\n",
    "ax.axis('off')\n",
    "ax.imshow(img,extent=[-122.41, -122.28,47.55, 47.7])\n",
    "plt.subplots_adjust(left=0.1, bottom=0.25)"
   ]
  },
  {
   "cell_type": "code",
   "execution_count": null,
   "metadata": {},
   "outputs": [],
   "source": [
    "dateAvail = results[results.OccupancyDateTime == all_dates[firstdateind]]\n",
    "\n",
    "latitude = dateAvail.latitude\n",
    "longitude = dateAvail.longitude\n",
    "availability = dateAvail.PredictedAvailableSpaces\n",
    "\n",
    "scat = plt.scatter(longitude, latitude, c=availability, cmap='autumn', s=3, vmin=0, vmax=5)\n",
    "ax.margins(x=0)\n",
    "\n",
    "cbaxes = fig.add_axes([0.3, 0.2, 0.4, 0.03]) \n",
    "cb = plt.colorbar(scat, cax = cbaxes, orientation=\"horizontal\")\n",
    "cb.set_label('Available Spaces', fontsize=10)\n",
    "\n",
    "axcolor = 'lightgoldenrodyellow'\n",
    "axDate = plt.axes([0.3, 0.1, 0.4, 0.03], facecolor=axcolor)"
   ]
  },
  {
   "cell_type": "markdown",
   "metadata": {},
   "source": [
    "1. Real estate: predicting home/rental values (Zillow, redfin, etc.)\n",
    "3. Supply chain optimization (Amazon, convoy)\n",
    "4. Customer retention/targeting (all)\n",
    "5. Talent Acquisition/Job matching (indeed, linkedin, karat)\n",
    "6. Insurance (Allstate, AssuranceIQ, trupanion)\n",
    "2. voice recognition systems (alexa, siri)\n"
   ]
  },
  {
   "cell_type": "code",
   "execution_count": null,
   "metadata": {},
   "outputs": [],
   "source": []
  }
 ],
 "metadata": {
  "kernelspec": {
   "display_name": "Python 3",
   "language": "python",
   "name": "python3"
  },
  "language_info": {
   "codemirror_mode": {
    "name": "ipython",
    "version": 3
   },
   "file_extension": ".py",
   "mimetype": "text/x-python",
   "name": "python",
   "nbconvert_exporter": "python",
   "pygments_lexer": "ipython3",
   "version": "3.7.6"
  }
 },
 "nbformat": 4,
 "nbformat_minor": 2
}
