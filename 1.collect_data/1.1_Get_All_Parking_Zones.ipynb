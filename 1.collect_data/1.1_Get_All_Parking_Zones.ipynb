{
 "cells": [
  {
   "cell_type": "markdown",
   "metadata": {},
   "source": [
    "# Find All Paid Parking Zones\n",
    "\n",
    "Here, I find which blocks have paid parking zones. Doing an API request for Unique blockfaces just hangs (there are a lot of records in the database). Instead, I took a look at the data using the online portal, and found min and max values for blockface IDs. I then make a request for blockface info for each potential blockface ID. Each request only requires a small amount of data to transfer and as such is quite quick.\n",
    "\n",
    "Requests are made using the socrata API with the city of seattle data (https://data.seattle.gov/Transportation/2019-Paid-Parking-Occupancy-Year-to-date-/qktt-2bsy). Data is output to a csv (block_locations.csv)."
   ]
  },
  {
   "cell_type": "code",
   "execution_count": 1,
   "metadata": {},
   "outputs": [],
   "source": [
    "import pandas as pd\n",
    "from datetime import timedelta, date\n",
    "from sodapy import Socrata\n",
    "import requests"
   ]
  },
  {
   "cell_type": "code",
   "execution_count": 2,
   "metadata": {},
   "outputs": [],
   "source": [
    "# import app tokens, secret key for API calls\n",
    "import os, sys\n",
    "sys.path.append(os.path.dirname(os.path.abspath('.')))\n",
    "import app_tokens"
   ]
  },
  {
   "cell_type": "code",
   "execution_count": 24,
   "metadata": {},
   "outputs": [],
   "source": [
    "#data is delayed 48 hrs\n",
    "# socrata data keys for parking data\n",
    "#2019 ytd\n",
    "data_ytd = 'qktt-2bsy'\n",
    "#last 30 days\n",
    "data_mtd = 'rke9-rsvs'\n",
    "# last 48 hours\n",
    "data_48hrs = 'hiyf-7edq'\n"
   ]
  },
  {
   "cell_type": "code",
   "execution_count": 36,
   "metadata": {},
   "outputs": [],
   "source": [
    "# unpack location object into latitude and longitude\n",
    "def unpackCoordinates(location_obj):\n",
    "    lat = location_obj['coordinates'][0]\n",
    "    long = location_obj['coordinates'][1]\n",
    "    # all seattle lat/long should be approx 47, -122. swap lat and long if wrong way\n",
    "    if lat < long:\n",
    "        return pd.Series([long, lat])\n",
    "    else:\n",
    "        return pd.Series([lat, long])"
   ]
  },
  {
   "cell_type": "code",
   "execution_count": 59,
   "metadata": {},
   "outputs": [],
   "source": [
    "def getOneLocation(client, data_key, elementkey):\n",
    "\n",
    "    results = client.get(data_key,\n",
    "                     select='sourceelementkey,location',\n",
    "                     sourceelementkey=elementkey,\n",
    "                     limit=1)\n",
    "    #print(results)\n",
    "    return results"
   ]
  },
  {
   "cell_type": "code",
   "execution_count": 67,
   "metadata": {},
   "outputs": [
    {
     "name": "stdout",
     "output_type": "stream",
     "text": [
      "i: 136999\tpercent done : 99.999\r"
     ]
    }
   ],
   "source": [
    "all_results = []\n",
    "\n",
    "#initialize client\n",
    "client = Socrata('data.seattle.gov',\n",
    "                 app_tokens.getAppTokens()['seattle_gov'],\n",
    "                timeout=60)\n",
    "# loop through possible values\n",
    "start = 1000\n",
    "stop = 137000\n",
    "for i in range(start, stop):\n",
    "    print('i: %5d\\tpercent done : %.3f' % (i, 100*(i - start) /(stop-start)), end='\\r')\n",
    "    results = getOneLocation(client=client, data_key=data_ytd, elementkey=i)\n",
    "    #print(len(results))\n",
    "    if len(results) > 0:\n",
    "        all_results.append(results[0])\n",
    "\n",
    "# close connection\n",
    "client.close()"
   ]
  },
  {
   "cell_type": "code",
   "execution_count": 68,
   "metadata": {},
   "outputs": [],
   "source": [
    "df_all = pd.DataFrame.from_records(all_results)\n",
    "df_all['sourceelementkey'] = df_all['sourceelementkey'].apply(pd.to_numeric)\n",
    "df_all = df_all.sort_values(by='sourceelementkey')\n",
    "df_all[['latitude', 'longitude']] = df_all.location.apply(unpackCoordinates)"
   ]
  },
  {
   "cell_type": "code",
   "execution_count": 69,
   "metadata": {},
   "outputs": [
    {
     "name": "stdout",
     "output_type": "stream",
     "text": [
      "<class 'pandas.core.frame.DataFrame'>\n",
      "Int64Index: 1505 entries, 0 to 1504\n",
      "Data columns (total 4 columns):\n",
      "location            1505 non-null object\n",
      "sourceelementkey    1505 non-null int64\n",
      "latitude            1505 non-null float64\n",
      "longitude           1505 non-null float64\n",
      "dtypes: float64(2), int64(1), object(1)\n",
      "memory usage: 58.8+ KB\n"
     ]
    }
   ],
   "source": [
    "df_all.info()"
   ]
  },
  {
   "cell_type": "code",
   "execution_count": 70,
   "metadata": {},
   "outputs": [],
   "source": [
    "df_all.to_csv('block_locations.csv')"
   ]
  },
  {
   "cell_type": "code",
   "execution_count": null,
   "metadata": {},
   "outputs": [],
   "source": []
  }
 ],
 "metadata": {
  "kernelspec": {
   "display_name": "Python 3",
   "language": "python",
   "name": "python3"
  },
  "language_info": {
   "codemirror_mode": {
    "name": "ipython",
    "version": 3
   },
   "file_extension": ".py",
   "mimetype": "text/x-python",
   "name": "python",
   "nbconvert_exporter": "python",
   "pygments_lexer": "ipython3",
   "version": "3.7.4"
  }
 },
 "nbformat": 4,
 "nbformat_minor": 2
}
