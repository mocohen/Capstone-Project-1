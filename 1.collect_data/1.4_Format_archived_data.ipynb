{
 "cells": [
  {
   "cell_type": "code",
   "execution_count": 1,
   "metadata": {},
   "outputs": [],
   "source": [
    "import pandas as pd"
   ]
  },
  {
   "cell_type": "code",
   "execution_count": 3,
   "metadata": {},
   "outputs": [
    {
     "name": "stdout",
     "output_type": "stream",
     "text": [
      "2012.csv.zip  2014.csv.zip  2016.csv.zip  48hrs.pkl     Blockface.csv\r\n",
      "2013.csv.zip  2015.csv.zip  2017.csv.zip  \u001b[34m6yaw-2m8q\u001b[m\u001b[m     \u001b[34mqktt-2bsy\u001b[m\u001b[m\r\n"
     ]
    }
   ],
   "source": [
    "!ls data_files"
   ]
  },
  {
   "cell_type": "code",
   "execution_count": 60,
   "metadata": {},
   "outputs": [
    {
     "name": "stdout",
     "output_type": "stream",
     "text": [
      "2019\n"
     ]
    }
   ],
   "source": [
    "dtypes = {'OccupancyDateTime': 'str', 'SourceElementKey': 'int', 'ParkingSpaceCount': 'float', 'PaidOccupancy': 'int'}\n",
    "\n",
    "years = range(2012,2018)\n",
    "\n",
    "for year in years:\n",
    "    print(year)\n",
    "    df = pd.read_csv('data_files/%d_Paid_Parking_Occupancy__Year-to-date_.csv' % year, \n",
    "                         #header=None,\n",
    "                         #usecols=[0,1,4,6],\n",
    "                         #names=['OccupancyDateTime', 'PaidOccupancy', 'SourceElementKey', 'ParkingSpaceCount'],\n",
    "                             index_col = ['SourceElementKey', 'OccupancyDateTime'],\n",
    "                             usecols = ['OccupancyDateTime', 'SourceElementKey', 'PaidOccupancy', 'ParkingSpaceCount'],  \n",
    "                            dtype=dtypes,\n",
    "                            parse_dates=['OccupancyDateTime'])\n",
    "\n",
    "\n",
    "    df.sort_index(level=['SourceElementKey', 'OccupancyDateTime'], inplace=True)\n",
    "    df.to_pickle('data_files/%d.pkl' % year)\n"
   ]
  }
 ],
 "metadata": {
  "kernelspec": {
   "display_name": "Python 3",
   "language": "python",
   "name": "python3"
  },
  "language_info": {
   "codemirror_mode": {
    "name": "ipython",
    "version": 3
   },
   "file_extension": ".py",
   "mimetype": "text/x-python",
   "name": "python",
   "nbconvert_exporter": "python",
   "pygments_lexer": "ipython3",
   "version": "3.7.3"
  }
 },
 "nbformat": 4,
 "nbformat_minor": 2
}
