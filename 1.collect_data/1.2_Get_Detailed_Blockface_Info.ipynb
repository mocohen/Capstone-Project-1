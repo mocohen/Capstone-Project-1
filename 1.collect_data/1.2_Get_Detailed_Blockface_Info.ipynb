{
 "cells": [
  {
   "cell_type": "markdown",
   "metadata": {},
   "source": [
    "# Retrieve detailed information about each blockface\n",
    "\n",
    "In section 1.1, I collected a list of blockfaces that have paid parking. Here, I collect detailed information for each of these blockfaces, including street name, cross streets, and latitude and longitude. Requests are made using the socrata API with the city of seattle data (https://data.seattle.gov/Transportation/2019-Paid-Parking-Occupancy-Year-to-date-/qktt-2bsy). Data is output to a csv (blockface_detail.csv)."
   ]
  },
  {
   "cell_type": "code",
   "execution_count": 73,
   "metadata": {},
   "outputs": [],
   "source": [
    "# Import modules\n",
    "import pandas as pd\n",
    "from datetime import timedelta, date\n",
    "from sodapy import Socrata\n",
    "import requests"
   ]
  },
  {
   "cell_type": "code",
   "execution_count": 74,
   "metadata": {},
   "outputs": [],
   "source": [
    "# import app tokens, secret key for API calls\n",
    "import os, sys\n",
    "sys.path.append(os.path.dirname(os.path.abspath('.')))\n",
    "import app_tokens"
   ]
  },
  {
   "cell_type": "markdown",
   "metadata": {},
   "source": [
    "I define a method to retrieve a single record for a given blockface ID (**sourceelementkey**)"
   ]
  },
  {
   "cell_type": "code",
   "execution_count": 75,
   "metadata": {},
   "outputs": [],
   "source": [
    "def getOneLocation(client, data_key, elementkey):\n",
    "\n",
    "    results = client.get(data_key,\n",
    "                     select='blockfacename,sideofstreet,parkingtimelimitcategory,parkingspacecount,paidparkingarea,paidparkingsubarea,parkingcategory,sourceelementkey,location',\n",
    "                     sourceelementkey=elementkey,\n",
    "                     limit=1)\n",
    "    return results"
   ]
  },
  {
   "cell_type": "code",
   "execution_count": 76,
   "metadata": {},
   "outputs": [],
   "source": [
    "#data is delayed 48 hrs\n",
    "# socrata data keys for parking data\n",
    "#2019 ytd\n",
    "data_ytd = 'qktt-2bsy'\n",
    "#last 30 days\n",
    "data_mtd = 'rke9-rsvs'\n",
    "# last 48 hours\n",
    "data_48hrs = 'hiyf-7edq'\n"
   ]
  },
  {
   "cell_type": "code",
   "execution_count": 77,
   "metadata": {},
   "outputs": [],
   "source": [
    "# Read in list of sourceelementkeys\n",
    "df = pd.read_csv('block_locations.csv')"
   ]
  },
  {
   "cell_type": "code",
   "execution_count": 78,
   "metadata": {},
   "outputs": [
    {
     "data": {
      "text/plain": [
       "array([  1001,   1002,   1006, ..., 135261, 136041, 136322])"
      ]
     },
     "execution_count": 78,
     "metadata": {},
     "output_type": "execute_result"
    }
   ],
   "source": [
    "df['sourceelementkey'].values"
   ]
  },
  {
   "cell_type": "code",
   "execution_count": 79,
   "metadata": {},
   "outputs": [
    {
     "name": "stdout",
     "output_type": "stream",
     "text": [
      "i:  1504\tpercent done : 99.934\r"
     ]
    }
   ],
   "source": [
    "all_results = []\n",
    "\n",
    "#initialize client\n",
    "client = Socrata('data.seattle.gov',\n",
    "                 app_tokens.getAppTokens()['seattle_gov'],\n",
    "                timeout=60)\n",
    "start = 0\n",
    "end = len(df)\n",
    "# loop through possible values\n",
    "for index, val in df['sourceelementkey'].iteritems():    \n",
    "    print('i: %5d\\tpercent done : %.3f' % (index, 100*(index - start) /(end-start)), end='\\r')\n",
    "    results = getOneLocation(client=client, data_key=data_ytd, elementkey=val)\n",
    "    #print(results)\n",
    "    if len(results) > 0:\n",
    "        all_results.append(results[0])\n",
    "\n",
    "# close connection\n",
    "client.close()"
   ]
  },
  {
   "cell_type": "code",
   "execution_count": 80,
   "metadata": {},
   "outputs": [],
   "source": [
    "#convert data to pandas dataframe\n",
    "df_all = pd.DataFrame.from_records(all_results)"
   ]
  },
  {
   "cell_type": "code",
   "execution_count": 81,
   "metadata": {},
   "outputs": [
    {
     "data": {
      "text/html": [
       "<div>\n",
       "<style scoped>\n",
       "    .dataframe tbody tr th:only-of-type {\n",
       "        vertical-align: middle;\n",
       "    }\n",
       "\n",
       "    .dataframe tbody tr th {\n",
       "        vertical-align: top;\n",
       "    }\n",
       "\n",
       "    .dataframe thead th {\n",
       "        text-align: right;\n",
       "    }\n",
       "</style>\n",
       "<table border=\"1\" class=\"dataframe\">\n",
       "  <thead>\n",
       "    <tr style=\"text-align: right;\">\n",
       "      <th></th>\n",
       "      <th>blockfacename</th>\n",
       "      <th>location</th>\n",
       "      <th>paidparkingarea</th>\n",
       "      <th>paidparkingsubarea</th>\n",
       "      <th>parkingcategory</th>\n",
       "      <th>parkingspacecount</th>\n",
       "      <th>parkingtimelimitcategory</th>\n",
       "      <th>sideofstreet</th>\n",
       "      <th>sourceelementkey</th>\n",
       "    </tr>\n",
       "  </thead>\n",
       "  <tbody>\n",
       "    <tr>\n",
       "      <th>0</th>\n",
       "      <td>1ST AVE BETWEEN CHERRY ST AND COLUMBIA ST</td>\n",
       "      <td>{'type': 'Point', 'coordinates': [-122.3346935...</td>\n",
       "      <td>Pioneer Square</td>\n",
       "      <td>Core</td>\n",
       "      <td>Paid Parking</td>\n",
       "      <td>4</td>\n",
       "      <td>120</td>\n",
       "      <td>SW</td>\n",
       "      <td>1001</td>\n",
       "    </tr>\n",
       "    <tr>\n",
       "      <th>1</th>\n",
       "      <td>1ST AVE BETWEEN CHERRY ST AND COLUMBIA ST</td>\n",
       "      <td>{'type': 'Point', 'coordinates': [-122.3345126...</td>\n",
       "      <td>Pioneer Square</td>\n",
       "      <td>Core</td>\n",
       "      <td>Paid Parking</td>\n",
       "      <td>8</td>\n",
       "      <td>120</td>\n",
       "      <td>NE</td>\n",
       "      <td>1002</td>\n",
       "    </tr>\n",
       "    <tr>\n",
       "      <th>2</th>\n",
       "      <td>1ST AVE BETWEEN COLUMBIA ST AND MARION ST</td>\n",
       "      <td>{'type': 'Point', 'coordinates': [-122.3351432...</td>\n",
       "      <td>Commercial Core</td>\n",
       "      <td>Waterfront</td>\n",
       "      <td>Paid Parking</td>\n",
       "      <td>7</td>\n",
       "      <td>120</td>\n",
       "      <td>NE</td>\n",
       "      <td>1006</td>\n",
       "    </tr>\n",
       "    <tr>\n",
       "      <th>3</th>\n",
       "      <td>1ST AVE BETWEEN MADISON ST AND SPRING ST</td>\n",
       "      <td>{'type': 'Point', 'coordinates': [-122.3366575...</td>\n",
       "      <td>Commercial Core</td>\n",
       "      <td>Waterfront</td>\n",
       "      <td>Paid Parking</td>\n",
       "      <td>5</td>\n",
       "      <td>30</td>\n",
       "      <td>SW</td>\n",
       "      <td>1009</td>\n",
       "    </tr>\n",
       "    <tr>\n",
       "      <th>4</th>\n",
       "      <td>1ST AVE BETWEEN MADISON ST AND SPRING ST</td>\n",
       "      <td>{'type': 'Point', 'coordinates': [-122.3364474...</td>\n",
       "      <td>Commercial Core</td>\n",
       "      <td>Waterfront</td>\n",
       "      <td>Paid Parking</td>\n",
       "      <td>5</td>\n",
       "      <td>120</td>\n",
       "      <td>NE</td>\n",
       "      <td>1010</td>\n",
       "    </tr>\n",
       "  </tbody>\n",
       "</table>\n",
       "</div>"
      ],
      "text/plain": [
       "                               blockfacename  \\\n",
       "0  1ST AVE BETWEEN CHERRY ST AND COLUMBIA ST   \n",
       "1  1ST AVE BETWEEN CHERRY ST AND COLUMBIA ST   \n",
       "2  1ST AVE BETWEEN COLUMBIA ST AND MARION ST   \n",
       "3   1ST AVE BETWEEN MADISON ST AND SPRING ST   \n",
       "4   1ST AVE BETWEEN MADISON ST AND SPRING ST   \n",
       "\n",
       "                                            location  paidparkingarea  \\\n",
       "0  {'type': 'Point', 'coordinates': [-122.3346935...   Pioneer Square   \n",
       "1  {'type': 'Point', 'coordinates': [-122.3345126...   Pioneer Square   \n",
       "2  {'type': 'Point', 'coordinates': [-122.3351432...  Commercial Core   \n",
       "3  {'type': 'Point', 'coordinates': [-122.3366575...  Commercial Core   \n",
       "4  {'type': 'Point', 'coordinates': [-122.3364474...  Commercial Core   \n",
       "\n",
       "  paidparkingsubarea parkingcategory parkingspacecount  \\\n",
       "0               Core    Paid Parking                 4   \n",
       "1               Core    Paid Parking                 8   \n",
       "2         Waterfront    Paid Parking                 7   \n",
       "3         Waterfront    Paid Parking                 5   \n",
       "4         Waterfront    Paid Parking                 5   \n",
       "\n",
       "  parkingtimelimitcategory sideofstreet sourceelementkey  \n",
       "0                      120           SW             1001  \n",
       "1                      120           NE             1002  \n",
       "2                      120           NE             1006  \n",
       "3                       30           SW             1009  \n",
       "4                      120           NE             1010  "
      ]
     },
     "execution_count": 81,
     "metadata": {},
     "output_type": "execute_result"
    }
   ],
   "source": [
    "# inspect elements\n",
    "df_all.head()"
   ]
  },
  {
   "cell_type": "code",
   "execution_count": 82,
   "metadata": {},
   "outputs": [],
   "source": [
    "# unpack location object into latitude and longitude\n",
    "def unpackCoordinates(location_obj):\n",
    "    lat = location_obj['coordinates'][0]\n",
    "    long = location_obj['coordinates'][1]\n",
    "    # all seattle lat/long should be approx 47, -122. swap lat and long if wrong way\n",
    "    if lat < long:\n",
    "        return pd.Series([long, lat])\n",
    "    else:\n",
    "        return pd.Series([lat, long])"
   ]
  },
  {
   "cell_type": "code",
   "execution_count": 83,
   "metadata": {},
   "outputs": [],
   "source": [
    "#convert records from strings to numeric types\n",
    "df_all[['sourceelementkey', 'parkingspacecount', 'parkingtimelimitcategory']] = df_all[\n",
    "    ['sourceelementkey', 'parkingspacecount', 'parkingtimelimitcategory']].apply(pd.to_numeric)\n",
    "# sort by sourceelementkey\n",
    "df_all = df_all.sort_values(by='sourceelementkey')\n",
    "#unpack location object into latitude and longitude columns\n",
    "df_all[['latitude', 'longitude']] = df_all.location.apply(unpackCoordinates)"
   ]
  },
  {
   "cell_type": "code",
   "execution_count": 84,
   "metadata": {},
   "outputs": [
    {
     "data": {
      "text/html": [
       "<div>\n",
       "<style scoped>\n",
       "    .dataframe tbody tr th:only-of-type {\n",
       "        vertical-align: middle;\n",
       "    }\n",
       "\n",
       "    .dataframe tbody tr th {\n",
       "        vertical-align: top;\n",
       "    }\n",
       "\n",
       "    .dataframe thead th {\n",
       "        text-align: right;\n",
       "    }\n",
       "</style>\n",
       "<table border=\"1\" class=\"dataframe\">\n",
       "  <thead>\n",
       "    <tr style=\"text-align: right;\">\n",
       "      <th></th>\n",
       "      <th>blockfacename</th>\n",
       "      <th>location</th>\n",
       "      <th>paidparkingarea</th>\n",
       "      <th>paidparkingsubarea</th>\n",
       "      <th>parkingcategory</th>\n",
       "      <th>parkingspacecount</th>\n",
       "      <th>parkingtimelimitcategory</th>\n",
       "      <th>sideofstreet</th>\n",
       "      <th>sourceelementkey</th>\n",
       "      <th>latitude</th>\n",
       "      <th>longitude</th>\n",
       "    </tr>\n",
       "  </thead>\n",
       "  <tbody>\n",
       "    <tr>\n",
       "      <th>0</th>\n",
       "      <td>1ST AVE BETWEEN CHERRY ST AND COLUMBIA ST</td>\n",
       "      <td>{'type': 'Point', 'coordinates': [-122.3346935...</td>\n",
       "      <td>Pioneer Square</td>\n",
       "      <td>Core</td>\n",
       "      <td>Paid Parking</td>\n",
       "      <td>4</td>\n",
       "      <td>120.0</td>\n",
       "      <td>SW</td>\n",
       "      <td>1001</td>\n",
       "      <td>47.602873</td>\n",
       "      <td>-122.334694</td>\n",
       "    </tr>\n",
       "    <tr>\n",
       "      <th>1</th>\n",
       "      <td>1ST AVE BETWEEN CHERRY ST AND COLUMBIA ST</td>\n",
       "      <td>{'type': 'Point', 'coordinates': [-122.3345126...</td>\n",
       "      <td>Pioneer Square</td>\n",
       "      <td>Core</td>\n",
       "      <td>Paid Parking</td>\n",
       "      <td>8</td>\n",
       "      <td>120.0</td>\n",
       "      <td>NE</td>\n",
       "      <td>1002</td>\n",
       "      <td>47.602949</td>\n",
       "      <td>-122.334513</td>\n",
       "    </tr>\n",
       "    <tr>\n",
       "      <th>2</th>\n",
       "      <td>1ST AVE BETWEEN COLUMBIA ST AND MARION ST</td>\n",
       "      <td>{'type': 'Point', 'coordinates': [-122.3351432...</td>\n",
       "      <td>Commercial Core</td>\n",
       "      <td>Waterfront</td>\n",
       "      <td>Paid Parking</td>\n",
       "      <td>7</td>\n",
       "      <td>120.0</td>\n",
       "      <td>NE</td>\n",
       "      <td>1006</td>\n",
       "      <td>47.603674</td>\n",
       "      <td>-122.335143</td>\n",
       "    </tr>\n",
       "    <tr>\n",
       "      <th>3</th>\n",
       "      <td>1ST AVE BETWEEN MADISON ST AND SPRING ST</td>\n",
       "      <td>{'type': 'Point', 'coordinates': [-122.3366575...</td>\n",
       "      <td>Commercial Core</td>\n",
       "      <td>Waterfront</td>\n",
       "      <td>Paid Parking</td>\n",
       "      <td>5</td>\n",
       "      <td>30.0</td>\n",
       "      <td>SW</td>\n",
       "      <td>1009</td>\n",
       "      <td>47.605018</td>\n",
       "      <td>-122.336658</td>\n",
       "    </tr>\n",
       "    <tr>\n",
       "      <th>4</th>\n",
       "      <td>1ST AVE BETWEEN MADISON ST AND SPRING ST</td>\n",
       "      <td>{'type': 'Point', 'coordinates': [-122.3364474...</td>\n",
       "      <td>Commercial Core</td>\n",
       "      <td>Waterfront</td>\n",
       "      <td>Paid Parking</td>\n",
       "      <td>5</td>\n",
       "      <td>120.0</td>\n",
       "      <td>NE</td>\n",
       "      <td>1010</td>\n",
       "      <td>47.605101</td>\n",
       "      <td>-122.336447</td>\n",
       "    </tr>\n",
       "  </tbody>\n",
       "</table>\n",
       "</div>"
      ],
      "text/plain": [
       "                               blockfacename  \\\n",
       "0  1ST AVE BETWEEN CHERRY ST AND COLUMBIA ST   \n",
       "1  1ST AVE BETWEEN CHERRY ST AND COLUMBIA ST   \n",
       "2  1ST AVE BETWEEN COLUMBIA ST AND MARION ST   \n",
       "3   1ST AVE BETWEEN MADISON ST AND SPRING ST   \n",
       "4   1ST AVE BETWEEN MADISON ST AND SPRING ST   \n",
       "\n",
       "                                            location  paidparkingarea  \\\n",
       "0  {'type': 'Point', 'coordinates': [-122.3346935...   Pioneer Square   \n",
       "1  {'type': 'Point', 'coordinates': [-122.3345126...   Pioneer Square   \n",
       "2  {'type': 'Point', 'coordinates': [-122.3351432...  Commercial Core   \n",
       "3  {'type': 'Point', 'coordinates': [-122.3366575...  Commercial Core   \n",
       "4  {'type': 'Point', 'coordinates': [-122.3364474...  Commercial Core   \n",
       "\n",
       "  paidparkingsubarea parkingcategory  parkingspacecount  \\\n",
       "0               Core    Paid Parking                  4   \n",
       "1               Core    Paid Parking                  8   \n",
       "2         Waterfront    Paid Parking                  7   \n",
       "3         Waterfront    Paid Parking                  5   \n",
       "4         Waterfront    Paid Parking                  5   \n",
       "\n",
       "   parkingtimelimitcategory sideofstreet  sourceelementkey   latitude  \\\n",
       "0                     120.0           SW              1001  47.602873   \n",
       "1                     120.0           NE              1002  47.602949   \n",
       "2                     120.0           NE              1006  47.603674   \n",
       "3                      30.0           SW              1009  47.605018   \n",
       "4                     120.0           NE              1010  47.605101   \n",
       "\n",
       "    longitude  \n",
       "0 -122.334694  \n",
       "1 -122.334513  \n",
       "2 -122.335143  \n",
       "3 -122.336658  \n",
       "4 -122.336447  "
      ]
     },
     "execution_count": 84,
     "metadata": {},
     "output_type": "execute_result"
    }
   ],
   "source": [
    "df_all.head()"
   ]
  },
  {
   "cell_type": "code",
   "execution_count": 85,
   "metadata": {},
   "outputs": [],
   "source": [
    "df_all.to_csv('blockface_detail.csv')"
   ]
  },
  {
   "cell_type": "code",
   "execution_count": 89,
   "metadata": {},
   "outputs": [
    {
     "data": {
      "text/plain": [
       "11907"
      ]
     },
     "execution_count": 89,
     "metadata": {},
     "output_type": "execute_result"
    }
   ],
   "source": [
    "#Calculate number of available parking spaces\n",
    "parking_zones = df_all.groupby(['paidparkingarea']).count()['blockfacename'].rename('numberparkingzones')\n",
    "parking_spaces = df_all.groupby(['paidparkingarea']).sum()['parkingspacecount'].rename('numberparkingspaces')\n",
    "parkingAreaInfo = pd.concat([parking_zones, parking_spaces], axis=1)\n",
    "parkingAreaInfo['numberparkingspaces'].sum()"
   ]
  }
 ],
 "metadata": {
  "kernelspec": {
   "display_name": "Python 3",
   "language": "python",
   "name": "python3"
  },
  "language_info": {
   "codemirror_mode": {
    "name": "ipython",
    "version": 3
   },
   "file_extension": ".py",
   "mimetype": "text/x-python",
   "name": "python",
   "nbconvert_exporter": "python",
   "pygments_lexer": "ipython3",
   "version": "3.7.4"
  }
 },
 "nbformat": 4,
 "nbformat_minor": 2
}
