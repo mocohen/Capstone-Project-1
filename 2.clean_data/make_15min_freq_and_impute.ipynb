{
 "cells": [
  {
   "cell_type": "markdown",
   "metadata": {},
   "source": [
    "# Make 15 min frequency and impute\n"
   ]
  },
  {
   "cell_type": "code",
   "execution_count": 1,
   "metadata": {},
   "outputs": [],
   "source": [
    "# import libraries\n",
    "import pandas as pd\n",
    "import numpy as np\n"
   ]
  },
  {
   "cell_type": "code",
   "execution_count": 2,
   "metadata": {},
   "outputs": [],
   "source": [
    "#load in data\n",
    "df = pd.read_pickle('1.collect_data/data_files/5min.pkl')"
   ]
  },
  {
   "cell_type": "code",
   "execution_count": 3,
   "metadata": {
    "scrolled": true
   },
   "outputs": [
    {
     "data": {
      "text/html": [
       "<div>\n",
       "<style scoped>\n",
       "    .dataframe tbody tr th:only-of-type {\n",
       "        vertical-align: middle;\n",
       "    }\n",
       "\n",
       "    .dataframe tbody tr th {\n",
       "        vertical-align: top;\n",
       "    }\n",
       "\n",
       "    .dataframe thead th {\n",
       "        text-align: right;\n",
       "    }\n",
       "</style>\n",
       "<table border=\"1\" class=\"dataframe\">\n",
       "  <thead>\n",
       "    <tr style=\"text-align: right;\">\n",
       "      <th></th>\n",
       "      <th></th>\n",
       "      <th>PaidOccupancy</th>\n",
       "      <th>ParkingSpaceCount</th>\n",
       "    </tr>\n",
       "    <tr>\n",
       "      <th>SourceElementKey</th>\n",
       "      <th>OccupancyDateTime</th>\n",
       "      <th></th>\n",
       "      <th></th>\n",
       "    </tr>\n",
       "  </thead>\n",
       "  <tbody>\n",
       "    <tr>\n",
       "      <td rowspan=\"5\" valign=\"top\">1001</td>\n",
       "      <td>2012-01-03 09:00:00</td>\n",
       "      <td>0.0</td>\n",
       "      <td>7.0</td>\n",
       "    </tr>\n",
       "    <tr>\n",
       "      <td>2012-01-03 09:05:00</td>\n",
       "      <td>0.0</td>\n",
       "      <td>7.0</td>\n",
       "    </tr>\n",
       "    <tr>\n",
       "      <td>2012-01-03 09:10:00</td>\n",
       "      <td>0.4</td>\n",
       "      <td>7.0</td>\n",
       "    </tr>\n",
       "    <tr>\n",
       "      <td>2012-01-03 09:15:00</td>\n",
       "      <td>1.0</td>\n",
       "      <td>7.0</td>\n",
       "    </tr>\n",
       "    <tr>\n",
       "      <td>2012-01-03 09:20:00</td>\n",
       "      <td>1.0</td>\n",
       "      <td>7.0</td>\n",
       "    </tr>\n",
       "  </tbody>\n",
       "</table>\n",
       "</div>"
      ],
      "text/plain": [
       "                                      PaidOccupancy  ParkingSpaceCount\n",
       "SourceElementKey OccupancyDateTime                                    \n",
       "1001             2012-01-03 09:00:00            0.0                7.0\n",
       "                 2012-01-03 09:05:00            0.0                7.0\n",
       "                 2012-01-03 09:10:00            0.4                7.0\n",
       "                 2012-01-03 09:15:00            1.0                7.0\n",
       "                 2012-01-03 09:20:00            1.0                7.0"
      ]
     },
     "execution_count": 3,
     "metadata": {},
     "output_type": "execute_result"
    }
   ],
   "source": [
    "df.head()"
   ]
  },
  {
   "cell_type": "code",
   "execution_count": 4,
   "metadata": {},
   "outputs": [],
   "source": [
    "# make a new column for percent of occupied spaces\n",
    "#df['PercentOccupied'] = df['PaidOccupancy']/df['ParkingSpaceCount']\n",
    "#df['PercentOccupied'] = df['PercentOccupied'].clip(None, 1)"
   ]
  },
  {
   "cell_type": "code",
   "execution_count": 5,
   "metadata": {},
   "outputs": [
    {
     "data": {
      "text/html": [
       "<div>\n",
       "<style scoped>\n",
       "    .dataframe tbody tr th:only-of-type {\n",
       "        vertical-align: middle;\n",
       "    }\n",
       "\n",
       "    .dataframe tbody tr th {\n",
       "        vertical-align: top;\n",
       "    }\n",
       "\n",
       "    .dataframe thead th {\n",
       "        text-align: right;\n",
       "    }\n",
       "</style>\n",
       "<table border=\"1\" class=\"dataframe\">\n",
       "  <thead>\n",
       "    <tr style=\"text-align: right;\">\n",
       "      <th></th>\n",
       "      <th></th>\n",
       "      <th>PaidOccupancy</th>\n",
       "      <th>ParkingSpaceCount</th>\n",
       "    </tr>\n",
       "    <tr>\n",
       "      <th>SourceElementKey</th>\n",
       "      <th>OccupancyDateTime</th>\n",
       "      <th></th>\n",
       "      <th></th>\n",
       "    </tr>\n",
       "  </thead>\n",
       "  <tbody>\n",
       "    <tr>\n",
       "      <td rowspan=\"5\" valign=\"top\">1001</td>\n",
       "      <td>2012-01-03 09:00:00</td>\n",
       "      <td>0.0</td>\n",
       "      <td>7.0</td>\n",
       "    </tr>\n",
       "    <tr>\n",
       "      <td>2012-01-03 09:05:00</td>\n",
       "      <td>0.0</td>\n",
       "      <td>7.0</td>\n",
       "    </tr>\n",
       "    <tr>\n",
       "      <td>2012-01-03 09:10:00</td>\n",
       "      <td>0.4</td>\n",
       "      <td>7.0</td>\n",
       "    </tr>\n",
       "    <tr>\n",
       "      <td>2012-01-03 09:15:00</td>\n",
       "      <td>1.0</td>\n",
       "      <td>7.0</td>\n",
       "    </tr>\n",
       "    <tr>\n",
       "      <td>2012-01-03 09:20:00</td>\n",
       "      <td>1.0</td>\n",
       "      <td>7.0</td>\n",
       "    </tr>\n",
       "  </tbody>\n",
       "</table>\n",
       "</div>"
      ],
      "text/plain": [
       "                                      PaidOccupancy  ParkingSpaceCount\n",
       "SourceElementKey OccupancyDateTime                                    \n",
       "1001             2012-01-03 09:00:00            0.0                7.0\n",
       "                 2012-01-03 09:05:00            0.0                7.0\n",
       "                 2012-01-03 09:10:00            0.4                7.0\n",
       "                 2012-01-03 09:15:00            1.0                7.0\n",
       "                 2012-01-03 09:20:00            1.0                7.0"
      ]
     },
     "execution_count": 5,
     "metadata": {},
     "output_type": "execute_result"
    }
   ],
   "source": [
    "df.head()"
   ]
  },
  {
   "cell_type": "code",
   "execution_count": 6,
   "metadata": {},
   "outputs": [],
   "source": [
    "\n",
    "from pandas.tseries.holiday import USFederalHolidayCalendar as calendar"
   ]
  },
  {
   "cell_type": "code",
   "execution_count": 7,
   "metadata": {},
   "outputs": [],
   "source": [
    "level_values = df.index.get_level_values\n",
    "blocks = level_values(0).unique()[:1]\n",
    "num_blocks = len(blocks)"
   ]
  },
  {
   "cell_type": "code",
   "execution_count": 21,
   "metadata": {},
   "outputs": [],
   "source": [
    "all_block_dfs = []\n",
    "# for i, block_ind in enumerate(blocks):\n",
    "#     print('block %d out of %d blocks' % (i, num_blocks))\n",
    "#     dfs = []\n",
    "#     for year in range(2012,2020):\n",
    "        #df.loc[1001].index.hour.max()\n",
    "block_ind = blocks[0]\n",
    "i = 0\n",
    "year = 2012\n",
    "current_year = df.loc[block_ind][df.loc[block_ind].index.year == year]"
   ]
  },
  {
   "cell_type": "code",
   "execution_count": 22,
   "metadata": {},
   "outputs": [
    {
     "data": {
      "text/html": [
       "<div>\n",
       "<style scoped>\n",
       "    .dataframe tbody tr th:only-of-type {\n",
       "        vertical-align: middle;\n",
       "    }\n",
       "\n",
       "    .dataframe tbody tr th {\n",
       "        vertical-align: top;\n",
       "    }\n",
       "\n",
       "    .dataframe thead th {\n",
       "        text-align: right;\n",
       "    }\n",
       "</style>\n",
       "<table border=\"1\" class=\"dataframe\">\n",
       "  <thead>\n",
       "    <tr style=\"text-align: right;\">\n",
       "      <th></th>\n",
       "      <th>PaidOccupancy</th>\n",
       "      <th>ParkingSpaceCount</th>\n",
       "    </tr>\n",
       "    <tr>\n",
       "      <th>OccupancyDateTime</th>\n",
       "      <th></th>\n",
       "      <th></th>\n",
       "    </tr>\n",
       "  </thead>\n",
       "  <tbody>\n",
       "    <tr>\n",
       "      <td>2012-01-03 09:00:00</td>\n",
       "      <td>0.0</td>\n",
       "      <td>7.0</td>\n",
       "    </tr>\n",
       "    <tr>\n",
       "      <td>2012-01-03 09:05:00</td>\n",
       "      <td>0.0</td>\n",
       "      <td>7.0</td>\n",
       "    </tr>\n",
       "    <tr>\n",
       "      <td>2012-01-03 09:10:00</td>\n",
       "      <td>0.4</td>\n",
       "      <td>7.0</td>\n",
       "    </tr>\n",
       "    <tr>\n",
       "      <td>2012-01-03 09:15:00</td>\n",
       "      <td>1.0</td>\n",
       "      <td>7.0</td>\n",
       "    </tr>\n",
       "    <tr>\n",
       "      <td>2012-01-03 09:20:00</td>\n",
       "      <td>1.0</td>\n",
       "      <td>7.0</td>\n",
       "    </tr>\n",
       "    <tr>\n",
       "      <td>...</td>\n",
       "      <td>...</td>\n",
       "      <td>...</td>\n",
       "    </tr>\n",
       "    <tr>\n",
       "      <td>2012-12-31 14:35:00</td>\n",
       "      <td>0.0</td>\n",
       "      <td>5.0</td>\n",
       "    </tr>\n",
       "    <tr>\n",
       "      <td>2012-12-31 14:40:00</td>\n",
       "      <td>0.0</td>\n",
       "      <td>5.0</td>\n",
       "    </tr>\n",
       "    <tr>\n",
       "      <td>2012-12-31 14:45:00</td>\n",
       "      <td>0.0</td>\n",
       "      <td>5.0</td>\n",
       "    </tr>\n",
       "    <tr>\n",
       "      <td>2012-12-31 14:50:00</td>\n",
       "      <td>0.0</td>\n",
       "      <td>5.0</td>\n",
       "    </tr>\n",
       "    <tr>\n",
       "      <td>2012-12-31 14:55:00</td>\n",
       "      <td>0.0</td>\n",
       "      <td>5.0</td>\n",
       "    </tr>\n",
       "  </tbody>\n",
       "</table>\n",
       "<p>20840 rows × 2 columns</p>\n",
       "</div>"
      ],
      "text/plain": [
       "                     PaidOccupancy  ParkingSpaceCount\n",
       "OccupancyDateTime                                    \n",
       "2012-01-03 09:00:00            0.0                7.0\n",
       "2012-01-03 09:05:00            0.0                7.0\n",
       "2012-01-03 09:10:00            0.4                7.0\n",
       "2012-01-03 09:15:00            1.0                7.0\n",
       "2012-01-03 09:20:00            1.0                7.0\n",
       "...                            ...                ...\n",
       "2012-12-31 14:35:00            0.0                5.0\n",
       "2012-12-31 14:40:00            0.0                5.0\n",
       "2012-12-31 14:45:00            0.0                5.0\n",
       "2012-12-31 14:50:00            0.0                5.0\n",
       "2012-12-31 14:55:00            0.0                5.0\n",
       "\n",
       "[20840 rows x 2 columns]"
      ]
     },
     "execution_count": 22,
     "metadata": {},
     "output_type": "execute_result"
    }
   ],
   "source": [
    "current_year"
   ]
  },
  {
   "cell_type": "code",
   "execution_count": 23,
   "metadata": {},
   "outputs": [
    {
     "data": {
      "text/plain": [
       "PaidOccupancy        0\n",
       "ParkingSpaceCount    0\n",
       "dtype: int64"
      ]
     },
     "execution_count": 23,
     "metadata": {},
     "output_type": "execute_result"
    }
   ],
   "source": [
    "np.sum(current_year.isna())"
   ]
  },
  {
   "cell_type": "code",
   "execution_count": 24,
   "metadata": {
    "scrolled": true
   },
   "outputs": [],
   "source": [
    "# level_values = df.index.get_level_values\n",
    "# blocks = level_values(0).unique()[:1]\n",
    "# num_blocks = len(blocks)\n",
    "\n",
    "# all_block_dfs = []\n",
    "# for i, block_ind in enumerate(blocks):\n",
    "#     print('block %d out of %d blocks' % (i, num_blocks))\n",
    "#     dfs = []\n",
    "#     for year in range(2012,2020):\n",
    "#         #df.loc[1001].index.hour.max()\n",
    "#         current_year = df.loc[block_ind][df.loc[block_ind].index.year == year]\n",
    "#         if len(current_year) > 0:\n",
    "        \n",
    "#             max_hour = current_year.index.hour.max()\n",
    "#             min_hour = current_year.index.hour.min()\n",
    "\n",
    "#             current_year = current_year.resample(rule='15min').mean()\n",
    "\n",
    "#             # remove non paying hours:\n",
    "#             current_year = current_year.iloc[current_year.index.indexer_between_time('%d:00:00' % min_hour, \n",
    "#                                                                   '%d:00:00' % max_hour, \n",
    "#                                                                   include_start=True, \n",
    "#                                                                   include_end=True)]\n",
    "#             # remove sundays\n",
    "#             current_year = current_year[current_year.index.dayofweek != 6]\n",
    "\n",
    "\n",
    "#             # remove holidays\n",
    "\n",
    "#             cal = calendar()\n",
    "#             holidays = cal.holidays(start=current_year.index[0], end=current_year.index[-1])\n",
    "\n",
    "#             current_year = current_year[~current_year.index.normalize().isin(holidays)]\n",
    "\n",
    "#             # replace infs with nan\n",
    "#             current_year = current_year.replace(np.inf, np.nan)            \n",
    "            \n",
    "#             #ffill parking spaces on block\n",
    "#             current_year['ParkingSpaceCount'] = current_year['ParkingSpaceCount'].fillna(method='ffill')\n",
    "\n",
    "#             # Fill nans with mean by time of day\n",
    "#             mask = current_year.PaidOccupancy.isna()\n",
    "\n",
    "#             filled_by_mean = current_year.groupby([current_year.index.hour]).transform(lambda x: x.fillna(x.mean()))\n",
    "            \n",
    "#             # this will show the values that were replaced\n",
    "#             #filled_by_mean[mask]\n",
    "            \n",
    "\n",
    "#             dfs.append(filled_by_mean)\n",
    "\n",
    "#     block_dfs = pd.concat(dfs).assign(SourceElementKey=block_ind).set_index('SourceElementKey', append=True).swaplevel(0,1)\n",
    "#     all_block_dfs.append(block_dfs)\n"
   ]
  },
  {
   "cell_type": "code",
   "execution_count": 25,
   "metadata": {},
   "outputs": [],
   "source": [
    "max_hour = current_year.index.hour.max()\n",
    "min_hour = current_year.index.hour.min()\n",
    "\n",
    "current_year = current_year.resample(rule='15min').mean()\n",
    "\n",
    "# remove non paying hours:\n",
    "current_year = current_year.iloc[current_year.index.indexer_between_time('%d:00:00' % min_hour, \n",
    "                                                      '%d:00:00' % max_hour, \n",
    "                                                      include_start=True, \n",
    "                                                      include_end=True)]\n",
    "# remove sundays\n",
    "current_year = current_year[current_year.index.dayofweek != 6]"
   ]
  },
  {
   "cell_type": "code",
   "execution_count": 26,
   "metadata": {
    "scrolled": true
   },
   "outputs": [
    {
     "name": "stdout",
     "output_type": "stream",
     "text": [
      "11198\n"
     ]
    },
    {
     "data": {
      "text/html": [
       "<div>\n",
       "<style scoped>\n",
       "    .dataframe tbody tr th:only-of-type {\n",
       "        vertical-align: middle;\n",
       "    }\n",
       "\n",
       "    .dataframe tbody tr th {\n",
       "        vertical-align: top;\n",
       "    }\n",
       "\n",
       "    .dataframe thead th {\n",
       "        text-align: right;\n",
       "    }\n",
       "</style>\n",
       "<table border=\"1\" class=\"dataframe\">\n",
       "  <thead>\n",
       "    <tr style=\"text-align: right;\">\n",
       "      <th></th>\n",
       "      <th>PaidOccupancy</th>\n",
       "      <th>ParkingSpaceCount</th>\n",
       "    </tr>\n",
       "    <tr>\n",
       "      <th>OccupancyDateTime</th>\n",
       "      <th></th>\n",
       "      <th></th>\n",
       "    </tr>\n",
       "  </thead>\n",
       "  <tbody>\n",
       "    <tr>\n",
       "      <td>2012-01-03 09:00:00</td>\n",
       "      <td>0.133333</td>\n",
       "      <td>7.0</td>\n",
       "    </tr>\n",
       "    <tr>\n",
       "      <td>2012-01-03 09:15:00</td>\n",
       "      <td>1.000000</td>\n",
       "      <td>7.0</td>\n",
       "    </tr>\n",
       "    <tr>\n",
       "      <td>2012-01-03 09:30:00</td>\n",
       "      <td>1.000000</td>\n",
       "      <td>7.0</td>\n",
       "    </tr>\n",
       "    <tr>\n",
       "      <td>2012-01-03 09:45:00</td>\n",
       "      <td>1.800000</td>\n",
       "      <td>7.0</td>\n",
       "    </tr>\n",
       "    <tr>\n",
       "      <td>2012-01-03 10:00:00</td>\n",
       "      <td>1.933333</td>\n",
       "      <td>7.0</td>\n",
       "    </tr>\n",
       "  </tbody>\n",
       "</table>\n",
       "</div>"
      ],
      "text/plain": [
       "                     PaidOccupancy  ParkingSpaceCount\n",
       "OccupancyDateTime                                    \n",
       "2012-01-03 09:00:00       0.133333                7.0\n",
       "2012-01-03 09:15:00       1.000000                7.0\n",
       "2012-01-03 09:30:00       1.000000                7.0\n",
       "2012-01-03 09:45:00       1.800000                7.0\n",
       "2012-01-03 10:00:00       1.933333                7.0"
      ]
     },
     "execution_count": 26,
     "metadata": {},
     "output_type": "execute_result"
    }
   ],
   "source": [
    "# remove holidays\n",
    "\n",
    "cal = calendar()\n",
    "holidays = cal.holidays(start=current_year.index[0], end=current_year.index[-1])\n",
    "\n",
    "current_year = current_year[~current_year.index.normalize().isin(holidays)]\n",
    "#print(len(current_year), np.sum(current_year.isna()))\n",
    "print(len(current_year))\n",
    "\n",
    "current_year.head()"
   ]
  },
  {
   "cell_type": "code",
   "execution_count": 27,
   "metadata": {},
   "outputs": [],
   "source": [
    "current_year['ParkingSpaceCount'] = current_year['ParkingSpaceCount'].fillna(method='ffill')"
   ]
  },
  {
   "cell_type": "code",
   "execution_count": 28,
   "metadata": {},
   "outputs": [],
   "source": [
    "mask = current_year.PaidOccupancy.isna()"
   ]
  },
  {
   "cell_type": "code",
   "execution_count": 29,
   "metadata": {},
   "outputs": [
    {
     "name": "stdout",
     "output_type": "stream",
     "text": [
      "4333\n"
     ]
    }
   ],
   "source": [
    "print(np.sum(mask))"
   ]
  },
  {
   "cell_type": "code",
   "execution_count": 30,
   "metadata": {
    "scrolled": true
   },
   "outputs": [
    {
     "name": "stdout",
     "output_type": "stream",
     "text": [
      "                     PaidOccupancy  ParkingSpaceCount\n",
      "OccupancyDateTime                                    \n",
      "2012-01-03 15:00:00            NaN                7.0\n",
      "2012-01-03 15:15:00            NaN                7.0\n",
      "2012-01-03 15:30:00            NaN                7.0\n",
      "2012-01-03 15:45:00            NaN                7.0\n",
      "2012-01-03 16:00:00            NaN                7.0\n",
      "...                            ...                ...\n",
      "2012-12-28 17:00:00            NaN                5.0\n",
      "2012-12-31 08:00:00            NaN                5.0\n",
      "2012-12-31 08:15:00            NaN                5.0\n",
      "2012-12-31 08:30:00            NaN                5.0\n",
      "2012-12-31 08:45:00            NaN                5.0\n",
      "\n",
      "[4333 rows x 2 columns]\n"
     ]
    }
   ],
   "source": [
    "print(current_year[mask])"
   ]
  },
  {
   "cell_type": "code",
   "execution_count": 31,
   "metadata": {
    "scrolled": false
   },
   "outputs": [
    {
     "data": {
      "text/html": [
       "<div>\n",
       "<style scoped>\n",
       "    .dataframe tbody tr th:only-of-type {\n",
       "        vertical-align: middle;\n",
       "    }\n",
       "\n",
       "    .dataframe tbody tr th {\n",
       "        vertical-align: top;\n",
       "    }\n",
       "\n",
       "    .dataframe thead th {\n",
       "        text-align: right;\n",
       "    }\n",
       "</style>\n",
       "<table border=\"1\" class=\"dataframe\">\n",
       "  <thead>\n",
       "    <tr style=\"text-align: right;\">\n",
       "      <th></th>\n",
       "      <th>PaidOccupancy</th>\n",
       "      <th>ParkingSpaceCount</th>\n",
       "    </tr>\n",
       "    <tr>\n",
       "      <th>OccupancyDateTime</th>\n",
       "      <th></th>\n",
       "      <th></th>\n",
       "    </tr>\n",
       "  </thead>\n",
       "  <tbody>\n",
       "    <tr>\n",
       "      <td>2012-01-03 09:00:00</td>\n",
       "      <td>0.133333</td>\n",
       "      <td>7.0</td>\n",
       "    </tr>\n",
       "    <tr>\n",
       "      <td>2012-01-03 09:15:00</td>\n",
       "      <td>1.000000</td>\n",
       "      <td>7.0</td>\n",
       "    </tr>\n",
       "    <tr>\n",
       "      <td>2012-01-03 09:30:00</td>\n",
       "      <td>1.000000</td>\n",
       "      <td>7.0</td>\n",
       "    </tr>\n",
       "    <tr>\n",
       "      <td>2012-01-03 09:45:00</td>\n",
       "      <td>1.800000</td>\n",
       "      <td>7.0</td>\n",
       "    </tr>\n",
       "    <tr>\n",
       "      <td>2012-01-03 10:00:00</td>\n",
       "      <td>1.933333</td>\n",
       "      <td>7.0</td>\n",
       "    </tr>\n",
       "    <tr>\n",
       "      <td>...</td>\n",
       "      <td>...</td>\n",
       "      <td>...</td>\n",
       "    </tr>\n",
       "    <tr>\n",
       "      <td>2012-12-31 13:45:00</td>\n",
       "      <td>0.000000</td>\n",
       "      <td>5.0</td>\n",
       "    </tr>\n",
       "    <tr>\n",
       "      <td>2012-12-31 14:00:00</td>\n",
       "      <td>0.000000</td>\n",
       "      <td>5.0</td>\n",
       "    </tr>\n",
       "    <tr>\n",
       "      <td>2012-12-31 14:15:00</td>\n",
       "      <td>0.000000</td>\n",
       "      <td>5.0</td>\n",
       "    </tr>\n",
       "    <tr>\n",
       "      <td>2012-12-31 14:30:00</td>\n",
       "      <td>0.000000</td>\n",
       "      <td>5.0</td>\n",
       "    </tr>\n",
       "    <tr>\n",
       "      <td>2012-12-31 14:45:00</td>\n",
       "      <td>0.000000</td>\n",
       "      <td>5.0</td>\n",
       "    </tr>\n",
       "  </tbody>\n",
       "</table>\n",
       "<p>11198 rows × 2 columns</p>\n",
       "</div>"
      ],
      "text/plain": [
       "                     PaidOccupancy  ParkingSpaceCount\n",
       "OccupancyDateTime                                    \n",
       "2012-01-03 09:00:00       0.133333                7.0\n",
       "2012-01-03 09:15:00       1.000000                7.0\n",
       "2012-01-03 09:30:00       1.000000                7.0\n",
       "2012-01-03 09:45:00       1.800000                7.0\n",
       "2012-01-03 10:00:00       1.933333                7.0\n",
       "...                            ...                ...\n",
       "2012-12-31 13:45:00       0.000000                5.0\n",
       "2012-12-31 14:00:00       0.000000                5.0\n",
       "2012-12-31 14:15:00       0.000000                5.0\n",
       "2012-12-31 14:30:00       0.000000                5.0\n",
       "2012-12-31 14:45:00       0.000000                5.0\n",
       "\n",
       "[11198 rows x 2 columns]"
      ]
     },
     "execution_count": 31,
     "metadata": {},
     "output_type": "execute_result"
    }
   ],
   "source": [
    "filled_by_mean = current_year.groupby([current_year.index.hour, current_year.index.minute]).transform(lambda x: x.fillna(x.mean()))\n",
    "filled_by_mean\n"
   ]
  },
  {
   "cell_type": "code",
   "execution_count": 32,
   "metadata": {},
   "outputs": [
    {
     "data": {
      "text/html": [
       "<div>\n",
       "<style scoped>\n",
       "    .dataframe tbody tr th:only-of-type {\n",
       "        vertical-align: middle;\n",
       "    }\n",
       "\n",
       "    .dataframe tbody tr th {\n",
       "        vertical-align: top;\n",
       "    }\n",
       "\n",
       "    .dataframe thead th {\n",
       "        text-align: right;\n",
       "    }\n",
       "</style>\n",
       "<table border=\"1\" class=\"dataframe\">\n",
       "  <thead>\n",
       "    <tr style=\"text-align: right;\">\n",
       "      <th></th>\n",
       "      <th>PaidOccupancy</th>\n",
       "      <th>ParkingSpaceCount</th>\n",
       "    </tr>\n",
       "    <tr>\n",
       "      <th>OccupancyDateTime</th>\n",
       "      <th></th>\n",
       "      <th></th>\n",
       "    </tr>\n",
       "  </thead>\n",
       "  <tbody>\n",
       "    <tr>\n",
       "      <td>2012-01-03 15:00:00</td>\n",
       "      <td>1.339103</td>\n",
       "      <td>7.0</td>\n",
       "    </tr>\n",
       "    <tr>\n",
       "      <td>2012-01-03 15:15:00</td>\n",
       "      <td>1.451163</td>\n",
       "      <td>7.0</td>\n",
       "    </tr>\n",
       "    <tr>\n",
       "      <td>2012-01-03 15:30:00</td>\n",
       "      <td>1.364341</td>\n",
       "      <td>7.0</td>\n",
       "    </tr>\n",
       "    <tr>\n",
       "      <td>2012-01-03 15:45:00</td>\n",
       "      <td>1.285271</td>\n",
       "      <td>7.0</td>\n",
       "    </tr>\n",
       "    <tr>\n",
       "      <td>2012-01-03 16:00:00</td>\n",
       "      <td>1.162791</td>\n",
       "      <td>7.0</td>\n",
       "    </tr>\n",
       "    <tr>\n",
       "      <td>...</td>\n",
       "      <td>...</td>\n",
       "      <td>...</td>\n",
       "    </tr>\n",
       "    <tr>\n",
       "      <td>2012-12-28 17:00:00</td>\n",
       "      <td>1.000000</td>\n",
       "      <td>5.0</td>\n",
       "    </tr>\n",
       "    <tr>\n",
       "      <td>2012-12-31 08:00:00</td>\n",
       "      <td>0.071429</td>\n",
       "      <td>5.0</td>\n",
       "    </tr>\n",
       "    <tr>\n",
       "      <td>2012-12-31 08:15:00</td>\n",
       "      <td>0.077778</td>\n",
       "      <td>5.0</td>\n",
       "    </tr>\n",
       "    <tr>\n",
       "      <td>2012-12-31 08:30:00</td>\n",
       "      <td>0.098413</td>\n",
       "      <td>5.0</td>\n",
       "    </tr>\n",
       "    <tr>\n",
       "      <td>2012-12-31 08:45:00</td>\n",
       "      <td>0.123810</td>\n",
       "      <td>5.0</td>\n",
       "    </tr>\n",
       "  </tbody>\n",
       "</table>\n",
       "<p>4333 rows × 2 columns</p>\n",
       "</div>"
      ],
      "text/plain": [
       "                     PaidOccupancy  ParkingSpaceCount\n",
       "OccupancyDateTime                                    \n",
       "2012-01-03 15:00:00       1.339103                7.0\n",
       "2012-01-03 15:15:00       1.451163                7.0\n",
       "2012-01-03 15:30:00       1.364341                7.0\n",
       "2012-01-03 15:45:00       1.285271                7.0\n",
       "2012-01-03 16:00:00       1.162791                7.0\n",
       "...                            ...                ...\n",
       "2012-12-28 17:00:00       1.000000                5.0\n",
       "2012-12-31 08:00:00       0.071429                5.0\n",
       "2012-12-31 08:15:00       0.077778                5.0\n",
       "2012-12-31 08:30:00       0.098413                5.0\n",
       "2012-12-31 08:45:00       0.123810                5.0\n",
       "\n",
       "[4333 rows x 2 columns]"
      ]
     },
     "execution_count": 32,
     "metadata": {},
     "output_type": "execute_result"
    }
   ],
   "source": [
    "filled_by_mean[mask]"
   ]
  },
  {
   "cell_type": "code",
   "execution_count": 33,
   "metadata": {
    "scrolled": true
   },
   "outputs": [
    {
     "ename": "ValueError",
     "evalue": "No objects to concatenate",
     "output_type": "error",
     "traceback": [
      "\u001b[0;31m---------------------------------------------------------------------------\u001b[0m",
      "\u001b[0;31mValueError\u001b[0m                                Traceback (most recent call last)",
      "\u001b[0;32m<ipython-input-33-b7f1ed7f3062>\u001b[0m in \u001b[0;36m<module>\u001b[0;34m\u001b[0m\n\u001b[0;32m----> 1\u001b[0;31m \u001b[0mall_dfs\u001b[0m \u001b[0;34m=\u001b[0m \u001b[0mpd\u001b[0m\u001b[0;34m.\u001b[0m\u001b[0mconcat\u001b[0m\u001b[0;34m(\u001b[0m\u001b[0mall_block_dfs\u001b[0m\u001b[0;34m)\u001b[0m\u001b[0;34m\u001b[0m\u001b[0;34m\u001b[0m\u001b[0m\n\u001b[0m",
      "\u001b[0;32m~/.pyenv/versions/anaconda3-2019.03/envs/myenv2/lib/python3.7/site-packages/pandas/core/reshape/concat.py\u001b[0m in \u001b[0;36mconcat\u001b[0;34m(objs, axis, join, join_axes, ignore_index, keys, levels, names, verify_integrity, sort, copy)\u001b[0m\n\u001b[1;32m    253\u001b[0m         \u001b[0mverify_integrity\u001b[0m\u001b[0;34m=\u001b[0m\u001b[0mverify_integrity\u001b[0m\u001b[0;34m,\u001b[0m\u001b[0;34m\u001b[0m\u001b[0;34m\u001b[0m\u001b[0m\n\u001b[1;32m    254\u001b[0m         \u001b[0mcopy\u001b[0m\u001b[0;34m=\u001b[0m\u001b[0mcopy\u001b[0m\u001b[0;34m,\u001b[0m\u001b[0;34m\u001b[0m\u001b[0;34m\u001b[0m\u001b[0m\n\u001b[0;32m--> 255\u001b[0;31m         \u001b[0msort\u001b[0m\u001b[0;34m=\u001b[0m\u001b[0msort\u001b[0m\u001b[0;34m,\u001b[0m\u001b[0;34m\u001b[0m\u001b[0;34m\u001b[0m\u001b[0m\n\u001b[0m\u001b[1;32m    256\u001b[0m     )\n\u001b[1;32m    257\u001b[0m \u001b[0;34m\u001b[0m\u001b[0m\n",
      "\u001b[0;32m~/.pyenv/versions/anaconda3-2019.03/envs/myenv2/lib/python3.7/site-packages/pandas/core/reshape/concat.py\u001b[0m in \u001b[0;36m__init__\u001b[0;34m(self, objs, axis, join, join_axes, keys, levels, names, ignore_index, verify_integrity, copy, sort)\u001b[0m\n\u001b[1;32m    302\u001b[0m \u001b[0;34m\u001b[0m\u001b[0m\n\u001b[1;32m    303\u001b[0m         \u001b[0;32mif\u001b[0m \u001b[0mlen\u001b[0m\u001b[0;34m(\u001b[0m\u001b[0mobjs\u001b[0m\u001b[0;34m)\u001b[0m \u001b[0;34m==\u001b[0m \u001b[0;36m0\u001b[0m\u001b[0;34m:\u001b[0m\u001b[0;34m\u001b[0m\u001b[0;34m\u001b[0m\u001b[0m\n\u001b[0;32m--> 304\u001b[0;31m             \u001b[0;32mraise\u001b[0m \u001b[0mValueError\u001b[0m\u001b[0;34m(\u001b[0m\u001b[0;34m\"No objects to concatenate\"\u001b[0m\u001b[0;34m)\u001b[0m\u001b[0;34m\u001b[0m\u001b[0;34m\u001b[0m\u001b[0m\n\u001b[0m\u001b[1;32m    305\u001b[0m \u001b[0;34m\u001b[0m\u001b[0m\n\u001b[1;32m    306\u001b[0m         \u001b[0;32mif\u001b[0m \u001b[0mkeys\u001b[0m \u001b[0;32mis\u001b[0m \u001b[0;32mNone\u001b[0m\u001b[0;34m:\u001b[0m\u001b[0;34m\u001b[0m\u001b[0;34m\u001b[0m\u001b[0m\n",
      "\u001b[0;31mValueError\u001b[0m: No objects to concatenate"
     ]
    }
   ],
   "source": [
    "all_dfs = pd.concat(all_block_dfs)"
   ]
  },
  {
   "cell_type": "code",
   "execution_count": null,
   "metadata": {},
   "outputs": [],
   "source": [
    "all_dfs['PercentOccupied'] = all_dfs['PaidOccupancy']/all_dfs['ParkingSpaceCount']"
   ]
  },
  {
   "cell_type": "code",
   "execution_count": null,
   "metadata": {},
   "outputs": [],
   "source": [
    "all_dfs.to_pickle('1.collect_data/data_files/15min.pkl')"
   ]
  }
 ],
 "metadata": {
  "kernelspec": {
   "display_name": "Python 3",
   "language": "python",
   "name": "python3"
  },
  "language_info": {
   "codemirror_mode": {
    "name": "ipython",
    "version": 3
   },
   "file_extension": ".py",
   "mimetype": "text/x-python",
   "name": "python",
   "nbconvert_exporter": "python",
   "pygments_lexer": "ipython3",
   "version": "3.7.4"
  }
 },
 "nbformat": 4,
 "nbformat_minor": 2
}
