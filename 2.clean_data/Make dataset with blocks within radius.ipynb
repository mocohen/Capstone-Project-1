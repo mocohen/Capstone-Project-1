{
 "cells": [
  {
   "cell_type": "markdown",
   "metadata": {},
   "source": [
    "In this notebook, I choose the parking availability to be the sum of the availability within 1/16 of a mile"
   ]
  },
  {
   "cell_type": "code",
   "execution_count": 62,
   "metadata": {},
   "outputs": [],
   "source": [
    "import pandas as pd\n",
    "import numpy as np\n",
    "import matplotlib.pyplot as plt\n",
    "import datetime\n",
    "%matplotlib inline"
   ]
  },
  {
   "cell_type": "code",
   "execution_count": 63,
   "metadata": {},
   "outputs": [],
   "source": [
    "blockface_detail = pd.read_csv('../1.collect_data/blockface_detail.csv')"
   ]
  },
  {
   "cell_type": "code",
   "execution_count": 64,
   "metadata": {},
   "outputs": [
    {
     "data": {
      "text/html": [
       "<div>\n",
       "<style scoped>\n",
       "    .dataframe tbody tr th:only-of-type {\n",
       "        vertical-align: middle;\n",
       "    }\n",
       "\n",
       "    .dataframe tbody tr th {\n",
       "        vertical-align: top;\n",
       "    }\n",
       "\n",
       "    .dataframe thead th {\n",
       "        text-align: right;\n",
       "    }\n",
       "</style>\n",
       "<table border=\"1\" class=\"dataframe\">\n",
       "  <thead>\n",
       "    <tr style=\"text-align: right;\">\n",
       "      <th></th>\n",
       "      <th>Unnamed: 0</th>\n",
       "      <th>blockfacename</th>\n",
       "      <th>location</th>\n",
       "      <th>paidparkingarea</th>\n",
       "      <th>paidparkingsubarea</th>\n",
       "      <th>parkingcategory</th>\n",
       "      <th>parkingspacecount</th>\n",
       "      <th>parkingtimelimitcategory</th>\n",
       "      <th>sideofstreet</th>\n",
       "      <th>sourceelementkey</th>\n",
       "      <th>latitude</th>\n",
       "      <th>longitude</th>\n",
       "    </tr>\n",
       "  </thead>\n",
       "  <tbody>\n",
       "    <tr>\n",
       "      <td>0</td>\n",
       "      <td>0</td>\n",
       "      <td>1ST AVE BETWEEN CHERRY ST AND COLUMBIA ST</td>\n",
       "      <td>{'type': 'Point', 'coordinates': [-122.3346935...</td>\n",
       "      <td>Pioneer Square</td>\n",
       "      <td>Core</td>\n",
       "      <td>Paid Parking</td>\n",
       "      <td>4</td>\n",
       "      <td>120.0</td>\n",
       "      <td>SW</td>\n",
       "      <td>1001</td>\n",
       "      <td>47.602873</td>\n",
       "      <td>-122.334694</td>\n",
       "    </tr>\n",
       "    <tr>\n",
       "      <td>1</td>\n",
       "      <td>1</td>\n",
       "      <td>1ST AVE BETWEEN CHERRY ST AND COLUMBIA ST</td>\n",
       "      <td>{'type': 'Point', 'coordinates': [-122.3345126...</td>\n",
       "      <td>Pioneer Square</td>\n",
       "      <td>Core</td>\n",
       "      <td>Paid Parking</td>\n",
       "      <td>8</td>\n",
       "      <td>120.0</td>\n",
       "      <td>NE</td>\n",
       "      <td>1002</td>\n",
       "      <td>47.602949</td>\n",
       "      <td>-122.334513</td>\n",
       "    </tr>\n",
       "    <tr>\n",
       "      <td>2</td>\n",
       "      <td>2</td>\n",
       "      <td>1ST AVE BETWEEN COLUMBIA ST AND MARION ST</td>\n",
       "      <td>{'type': 'Point', 'coordinates': [-122.3351432...</td>\n",
       "      <td>Commercial Core</td>\n",
       "      <td>Waterfront</td>\n",
       "      <td>Paid Parking</td>\n",
       "      <td>7</td>\n",
       "      <td>120.0</td>\n",
       "      <td>NE</td>\n",
       "      <td>1006</td>\n",
       "      <td>47.603674</td>\n",
       "      <td>-122.335143</td>\n",
       "    </tr>\n",
       "    <tr>\n",
       "      <td>3</td>\n",
       "      <td>3</td>\n",
       "      <td>1ST AVE BETWEEN MADISON ST AND SPRING ST</td>\n",
       "      <td>{'type': 'Point', 'coordinates': [-122.3366575...</td>\n",
       "      <td>Commercial Core</td>\n",
       "      <td>Waterfront</td>\n",
       "      <td>Paid Parking</td>\n",
       "      <td>5</td>\n",
       "      <td>30.0</td>\n",
       "      <td>SW</td>\n",
       "      <td>1009</td>\n",
       "      <td>47.605018</td>\n",
       "      <td>-122.336658</td>\n",
       "    </tr>\n",
       "    <tr>\n",
       "      <td>4</td>\n",
       "      <td>4</td>\n",
       "      <td>1ST AVE BETWEEN MADISON ST AND SPRING ST</td>\n",
       "      <td>{'type': 'Point', 'coordinates': [-122.3364474...</td>\n",
       "      <td>Commercial Core</td>\n",
       "      <td>Waterfront</td>\n",
       "      <td>Paid Parking</td>\n",
       "      <td>5</td>\n",
       "      <td>120.0</td>\n",
       "      <td>NE</td>\n",
       "      <td>1010</td>\n",
       "      <td>47.605101</td>\n",
       "      <td>-122.336447</td>\n",
       "    </tr>\n",
       "  </tbody>\n",
       "</table>\n",
       "</div>"
      ],
      "text/plain": [
       "   Unnamed: 0                              blockfacename  \\\n",
       "0           0  1ST AVE BETWEEN CHERRY ST AND COLUMBIA ST   \n",
       "1           1  1ST AVE BETWEEN CHERRY ST AND COLUMBIA ST   \n",
       "2           2  1ST AVE BETWEEN COLUMBIA ST AND MARION ST   \n",
       "3           3   1ST AVE BETWEEN MADISON ST AND SPRING ST   \n",
       "4           4   1ST AVE BETWEEN MADISON ST AND SPRING ST   \n",
       "\n",
       "                                            location  paidparkingarea  \\\n",
       "0  {'type': 'Point', 'coordinates': [-122.3346935...   Pioneer Square   \n",
       "1  {'type': 'Point', 'coordinates': [-122.3345126...   Pioneer Square   \n",
       "2  {'type': 'Point', 'coordinates': [-122.3351432...  Commercial Core   \n",
       "3  {'type': 'Point', 'coordinates': [-122.3366575...  Commercial Core   \n",
       "4  {'type': 'Point', 'coordinates': [-122.3364474...  Commercial Core   \n",
       "\n",
       "  paidparkingsubarea parkingcategory  parkingspacecount  \\\n",
       "0               Core    Paid Parking                  4   \n",
       "1               Core    Paid Parking                  8   \n",
       "2         Waterfront    Paid Parking                  7   \n",
       "3         Waterfront    Paid Parking                  5   \n",
       "4         Waterfront    Paid Parking                  5   \n",
       "\n",
       "   parkingtimelimitcategory sideofstreet  sourceelementkey   latitude  \\\n",
       "0                     120.0           SW              1001  47.602873   \n",
       "1                     120.0           NE              1002  47.602949   \n",
       "2                     120.0           NE              1006  47.603674   \n",
       "3                      30.0           SW              1009  47.605018   \n",
       "4                     120.0           NE              1010  47.605101   \n",
       "\n",
       "    longitude  \n",
       "0 -122.334694  \n",
       "1 -122.334513  \n",
       "2 -122.335143  \n",
       "3 -122.336658  \n",
       "4 -122.336447  "
      ]
     },
     "execution_count": 64,
     "metadata": {},
     "output_type": "execute_result"
    }
   ],
   "source": [
    "blockface_detail.head()"
   ]
  },
  {
   "cell_type": "code",
   "execution_count": 65,
   "metadata": {},
   "outputs": [],
   "source": [
    "import geopy.distance\n",
    "from scipy.spatial.distance import pdist\n",
    "from scipy.spatial.distance import squareform"
   ]
  },
  {
   "cell_type": "code",
   "execution_count": 66,
   "metadata": {},
   "outputs": [],
   "source": [
    "all_coords = np.array((blockface_detail.latitude.values, blockface_detail.longitude.values)).T"
   ]
  },
  {
   "cell_type": "code",
   "execution_count": 67,
   "metadata": {},
   "outputs": [],
   "source": [
    "def my_dist(u, v):\n",
    "    return geopy.distance.distance(u, v).miles"
   ]
  },
  {
   "cell_type": "code",
   "execution_count": 68,
   "metadata": {},
   "outputs": [],
   "source": [
    "dm = pdist(all_coords, my_dist)"
   ]
  },
  {
   "cell_type": "code",
   "execution_count": 69,
   "metadata": {},
   "outputs": [],
   "source": [
    "new_dfs = []\n",
    "data = pd.read_pickle('../1.collect_data/data_files/1hr.pkl').replace([np.inf, -np.inf], np.nan).dropna()\n",
    "\n",
    "for i, row in enumerate(squareform(dm)):\n",
    "    close_block_inds = np.where(row < (1/16))\n",
    "    block_keys = blockface_detail.iloc[close_block_inds].sourceelementkey.values\n",
    "    \n",
    "    idx = pd.IndexSlice\n",
    "    df1 = data.loc[idx[block_keys,:],:]\n",
    "    \n",
    "    within_x_occupancy = df1.groupby(level=['OccupancyDateTime']).sum()\n",
    "    within_x_occupancy['PercentOccupied'] = within_x_occupancy['PaidOccupancy'] / within_x_occupancy['ParkingSpaceCount']\n",
    "    new_dfs.append(within_x_occupancy.assign(SourceElementKey=blockface_detail.iloc[i].sourceelementkey).set_index('SourceElementKey', append=True).swaplevel(0,1))\n",
    "    "
   ]
  },
  {
   "cell_type": "code",
   "execution_count": 70,
   "metadata": {},
   "outputs": [],
   "source": [
    "all_dfs = pd.concat(new_dfs)\n",
    "all_dfs.to_pickle('../1.collect_data/data_files/1hr_1block-average.pkl')"
   ]
  },
  {
   "cell_type": "code",
   "execution_count": null,
   "metadata": {},
   "outputs": [],
   "source": []
  }
 ],
 "metadata": {
  "kernelspec": {
   "display_name": "Python 3",
   "language": "python",
   "name": "python3"
  },
  "language_info": {
   "codemirror_mode": {
    "name": "ipython",
    "version": 3
   },
   "file_extension": ".py",
   "mimetype": "text/x-python",
   "name": "python",
   "nbconvert_exporter": "python",
   "pygments_lexer": "ipython3",
   "version": "3.7.4"
  }
 },
 "nbformat": 4,
 "nbformat_minor": 2
}
