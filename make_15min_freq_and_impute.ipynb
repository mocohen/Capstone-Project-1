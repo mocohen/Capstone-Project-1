{
 "cells": [
  {
   "cell_type": "markdown",
   "metadata": {},
   "source": [
    "# Seasonal Decomposition\n",
    "\n",
    "Here I will perform a seasonal decomposition on the data.\n"
   ]
  },
  {
   "cell_type": "code",
   "execution_count": 184,
   "metadata": {},
   "outputs": [],
   "source": [
    "# import libraries\n",
    "import pandas as pd\n",
    "import numpy as np\n",
    "import matplotlib.pyplot as plt\n",
    "%matplotlib inline\n",
    "from statsmodels.tsa.seasonal import seasonal_decompose"
   ]
  },
  {
   "cell_type": "code",
   "execution_count": 185,
   "metadata": {},
   "outputs": [
    {
     "name": "stdout",
     "output_type": "stream",
     "text": [
      "2012.csv.zip                   2019.csv.zip\r\n",
      "2012.pkl                       2019.pkl\r\n",
      "2013.csv.zip                   48hrs.pkl\r\n",
      "2013.pkl                       5min.2019.pkl\r\n",
      "2014.csv.zip                   5min.pkl\r\n",
      "2014.pkl                       Annual_Parking_Study_Data.csv\r\n",
      "2015.csv.zip                   Blockface.csv\r\n",
      "2015.pkl                       fixed.zip\r\n",
      "2016.csv.zip                   kaggle_usholidays.csv\r\n",
      "2016.pkl                       make_five_min_freq.py\r\n",
      "2017.csv.zip                   \u001b[34mtest\u001b[m\u001b[m\r\n",
      "2017.pkl                       transpose_and_trim_five_min.py\r\n",
      "2018.csv.zip                   \u001b[34mweather\u001b[m\u001b[m\r\n",
      "2018.pkl\r\n"
     ]
    }
   ],
   "source": [
    "#find file to load\n",
    "!ls 1.collect_data/data_files"
   ]
  },
  {
   "cell_type": "code",
   "execution_count": 186,
   "metadata": {},
   "outputs": [],
   "source": [
    "#load in data\n",
    "df = pd.read_pickle('1.collect_data/data_files/5min.pkl')"
   ]
  },
  {
   "cell_type": "code",
   "execution_count": 187,
   "metadata": {
    "scrolled": true
   },
   "outputs": [
    {
     "data": {
      "text/html": [
       "<div>\n",
       "<style scoped>\n",
       "    .dataframe tbody tr th:only-of-type {\n",
       "        vertical-align: middle;\n",
       "    }\n",
       "\n",
       "    .dataframe tbody tr th {\n",
       "        vertical-align: top;\n",
       "    }\n",
       "\n",
       "    .dataframe thead th {\n",
       "        text-align: right;\n",
       "    }\n",
       "</style>\n",
       "<table border=\"1\" class=\"dataframe\">\n",
       "  <thead>\n",
       "    <tr style=\"text-align: right;\">\n",
       "      <th></th>\n",
       "      <th></th>\n",
       "      <th>PaidOccupancy</th>\n",
       "      <th>ParkingSpaceCount</th>\n",
       "    </tr>\n",
       "    <tr>\n",
       "      <th>SourceElementKey</th>\n",
       "      <th>OccupancyDateTime</th>\n",
       "      <th></th>\n",
       "      <th></th>\n",
       "    </tr>\n",
       "  </thead>\n",
       "  <tbody>\n",
       "    <tr>\n",
       "      <th rowspan=\"5\" valign=\"top\">1001</th>\n",
       "      <th>2012-01-03 09:00:00</th>\n",
       "      <td>0.0</td>\n",
       "      <td>7.0</td>\n",
       "    </tr>\n",
       "    <tr>\n",
       "      <th>2012-01-03 09:05:00</th>\n",
       "      <td>0.0</td>\n",
       "      <td>7.0</td>\n",
       "    </tr>\n",
       "    <tr>\n",
       "      <th>2012-01-03 09:10:00</th>\n",
       "      <td>0.4</td>\n",
       "      <td>7.0</td>\n",
       "    </tr>\n",
       "    <tr>\n",
       "      <th>2012-01-03 09:15:00</th>\n",
       "      <td>1.0</td>\n",
       "      <td>7.0</td>\n",
       "    </tr>\n",
       "    <tr>\n",
       "      <th>2012-01-03 09:20:00</th>\n",
       "      <td>1.0</td>\n",
       "      <td>7.0</td>\n",
       "    </tr>\n",
       "  </tbody>\n",
       "</table>\n",
       "</div>"
      ],
      "text/plain": [
       "                                      PaidOccupancy  ParkingSpaceCount\n",
       "SourceElementKey OccupancyDateTime                                    \n",
       "1001             2012-01-03 09:00:00            0.0                7.0\n",
       "                 2012-01-03 09:05:00            0.0                7.0\n",
       "                 2012-01-03 09:10:00            0.4                7.0\n",
       "                 2012-01-03 09:15:00            1.0                7.0\n",
       "                 2012-01-03 09:20:00            1.0                7.0"
      ]
     },
     "execution_count": 187,
     "metadata": {},
     "output_type": "execute_result"
    }
   ],
   "source": [
    "df.head()"
   ]
  },
  {
   "cell_type": "code",
   "execution_count": 188,
   "metadata": {},
   "outputs": [],
   "source": [
    "# make a new column for percent of occupied spaces\n",
    "df['PercentOccupied'] = df['PaidOccupancy']/df['ParkingSpaceCount']\n",
    "#df['PercentOccupied'] = df['PercentOccupied'].clip(None, 1)"
   ]
  },
  {
   "cell_type": "code",
   "execution_count": 189,
   "metadata": {},
   "outputs": [
    {
     "data": {
      "text/html": [
       "<div>\n",
       "<style scoped>\n",
       "    .dataframe tbody tr th:only-of-type {\n",
       "        vertical-align: middle;\n",
       "    }\n",
       "\n",
       "    .dataframe tbody tr th {\n",
       "        vertical-align: top;\n",
       "    }\n",
       "\n",
       "    .dataframe thead th {\n",
       "        text-align: right;\n",
       "    }\n",
       "</style>\n",
       "<table border=\"1\" class=\"dataframe\">\n",
       "  <thead>\n",
       "    <tr style=\"text-align: right;\">\n",
       "      <th></th>\n",
       "      <th></th>\n",
       "      <th>PaidOccupancy</th>\n",
       "      <th>ParkingSpaceCount</th>\n",
       "      <th>PercentOccupied</th>\n",
       "    </tr>\n",
       "    <tr>\n",
       "      <th>SourceElementKey</th>\n",
       "      <th>OccupancyDateTime</th>\n",
       "      <th></th>\n",
       "      <th></th>\n",
       "      <th></th>\n",
       "    </tr>\n",
       "  </thead>\n",
       "  <tbody>\n",
       "    <tr>\n",
       "      <th rowspan=\"5\" valign=\"top\">1001</th>\n",
       "      <th>2012-01-03 09:00:00</th>\n",
       "      <td>0.0</td>\n",
       "      <td>7.0</td>\n",
       "      <td>0.000000</td>\n",
       "    </tr>\n",
       "    <tr>\n",
       "      <th>2012-01-03 09:05:00</th>\n",
       "      <td>0.0</td>\n",
       "      <td>7.0</td>\n",
       "      <td>0.000000</td>\n",
       "    </tr>\n",
       "    <tr>\n",
       "      <th>2012-01-03 09:10:00</th>\n",
       "      <td>0.4</td>\n",
       "      <td>7.0</td>\n",
       "      <td>0.057143</td>\n",
       "    </tr>\n",
       "    <tr>\n",
       "      <th>2012-01-03 09:15:00</th>\n",
       "      <td>1.0</td>\n",
       "      <td>7.0</td>\n",
       "      <td>0.142857</td>\n",
       "    </tr>\n",
       "    <tr>\n",
       "      <th>2012-01-03 09:20:00</th>\n",
       "      <td>1.0</td>\n",
       "      <td>7.0</td>\n",
       "      <td>0.142857</td>\n",
       "    </tr>\n",
       "  </tbody>\n",
       "</table>\n",
       "</div>"
      ],
      "text/plain": [
       "                                      PaidOccupancy  ParkingSpaceCount  \\\n",
       "SourceElementKey OccupancyDateTime                                       \n",
       "1001             2012-01-03 09:00:00            0.0                7.0   \n",
       "                 2012-01-03 09:05:00            0.0                7.0   \n",
       "                 2012-01-03 09:10:00            0.4                7.0   \n",
       "                 2012-01-03 09:15:00            1.0                7.0   \n",
       "                 2012-01-03 09:20:00            1.0                7.0   \n",
       "\n",
       "                                      PercentOccupied  \n",
       "SourceElementKey OccupancyDateTime                     \n",
       "1001             2012-01-03 09:00:00         0.000000  \n",
       "                 2012-01-03 09:05:00         0.000000  \n",
       "                 2012-01-03 09:10:00         0.057143  \n",
       "                 2012-01-03 09:15:00         0.142857  \n",
       "                 2012-01-03 09:20:00         0.142857  "
      ]
     },
     "execution_count": 189,
     "metadata": {},
     "output_type": "execute_result"
    }
   ],
   "source": [
    "df.head()"
   ]
  },
  {
   "cell_type": "code",
   "execution_count": 190,
   "metadata": {},
   "outputs": [],
   "source": [
    "\n",
    "from pandas.tseries.holiday import USFederalHolidayCalendar as calendar"
   ]
  },
  {
   "cell_type": "code",
   "execution_count": 191,
   "metadata": {
    "scrolled": true
   },
   "outputs": [
    {
     "ename": "KeyboardInterrupt",
     "evalue": "",
     "output_type": "error",
     "traceback": [
      "\u001b[0;31m---------------------------------------------------------------------------\u001b[0m",
      "\u001b[0;31mKeyboardInterrupt\u001b[0m                         Traceback (most recent call last)",
      "\u001b[0;32m<ipython-input-191-b02573398a80>\u001b[0m in \u001b[0;36m<module>\u001b[0;34m\u001b[0m\n\u001b[1;32m      1\u001b[0m \u001b[0mlevel_values\u001b[0m \u001b[0;34m=\u001b[0m \u001b[0mdf\u001b[0m\u001b[0;34m.\u001b[0m\u001b[0mindex\u001b[0m\u001b[0;34m.\u001b[0m\u001b[0mget_level_values\u001b[0m\u001b[0;34m\u001b[0m\u001b[0;34m\u001b[0m\u001b[0m\n\u001b[0;32m----> 2\u001b[0;31m \u001b[0mblocks\u001b[0m \u001b[0;34m=\u001b[0m \u001b[0mlevel_values\u001b[0m\u001b[0;34m(\u001b[0m\u001b[0;36m0\u001b[0m\u001b[0;34m)\u001b[0m\u001b[0;34m.\u001b[0m\u001b[0munique\u001b[0m\u001b[0;34m(\u001b[0m\u001b[0;34m)\u001b[0m\u001b[0;34m\u001b[0m\u001b[0;34m\u001b[0m\u001b[0m\n\u001b[0m\u001b[1;32m      3\u001b[0m \u001b[0;34m\u001b[0m\u001b[0m\n\u001b[1;32m      4\u001b[0m \u001b[0mall_block_dfs\u001b[0m \u001b[0;34m=\u001b[0m \u001b[0;34m[\u001b[0m\u001b[0;34m]\u001b[0m\u001b[0;34m\u001b[0m\u001b[0;34m\u001b[0m\u001b[0m\n\u001b[1;32m      5\u001b[0m \u001b[0;32mfor\u001b[0m \u001b[0mblock_ind\u001b[0m \u001b[0;32min\u001b[0m \u001b[0mblocks\u001b[0m\u001b[0;34m:\u001b[0m\u001b[0;34m\u001b[0m\u001b[0;34m\u001b[0m\u001b[0m\n",
      "\u001b[0;32m~/.pyenv/versions/anaconda3-2019.03/lib/python3.7/site-packages/pandas/core/indexes/multi.py\u001b[0m in \u001b[0;36mget_level_values\u001b[0;34m(self, level)\u001b[0m\n\u001b[1;32m   1411\u001b[0m         \"\"\"\n\u001b[1;32m   1412\u001b[0m         \u001b[0mlevel\u001b[0m \u001b[0;34m=\u001b[0m \u001b[0mself\u001b[0m\u001b[0;34m.\u001b[0m\u001b[0m_get_level_number\u001b[0m\u001b[0;34m(\u001b[0m\u001b[0mlevel\u001b[0m\u001b[0;34m)\u001b[0m\u001b[0;34m\u001b[0m\u001b[0;34m\u001b[0m\u001b[0m\n\u001b[0;32m-> 1413\u001b[0;31m         \u001b[0mvalues\u001b[0m \u001b[0;34m=\u001b[0m \u001b[0mself\u001b[0m\u001b[0;34m.\u001b[0m\u001b[0m_get_level_values\u001b[0m\u001b[0;34m(\u001b[0m\u001b[0mlevel\u001b[0m\u001b[0;34m)\u001b[0m\u001b[0;34m\u001b[0m\u001b[0;34m\u001b[0m\u001b[0m\n\u001b[0m\u001b[1;32m   1414\u001b[0m         \u001b[0;32mreturn\u001b[0m \u001b[0mvalues\u001b[0m\u001b[0;34m\u001b[0m\u001b[0;34m\u001b[0m\u001b[0m\n\u001b[1;32m   1415\u001b[0m \u001b[0;34m\u001b[0m\u001b[0m\n",
      "\u001b[0;32m~/.pyenv/versions/anaconda3-2019.03/lib/python3.7/site-packages/pandas/core/indexes/multi.py\u001b[0m in \u001b[0;36m_get_level_values\u001b[0;34m(self, level, unique)\u001b[0m\n\u001b[1;32m   1374\u001b[0m             \u001b[0mlevel_codes\u001b[0m \u001b[0;34m=\u001b[0m \u001b[0malgos\u001b[0m\u001b[0;34m.\u001b[0m\u001b[0munique\u001b[0m\u001b[0;34m(\u001b[0m\u001b[0mlevel_codes\u001b[0m\u001b[0;34m)\u001b[0m\u001b[0;34m\u001b[0m\u001b[0;34m\u001b[0m\u001b[0m\n\u001b[1;32m   1375\u001b[0m         filled = algos.take_1d(values._values, level_codes,\n\u001b[0;32m-> 1376\u001b[0;31m                                fill_value=values._na_value)\n\u001b[0m\u001b[1;32m   1377\u001b[0m         \u001b[0mvalues\u001b[0m \u001b[0;34m=\u001b[0m \u001b[0mvalues\u001b[0m\u001b[0;34m.\u001b[0m\u001b[0m_shallow_copy\u001b[0m\u001b[0;34m(\u001b[0m\u001b[0mfilled\u001b[0m\u001b[0;34m)\u001b[0m\u001b[0;34m\u001b[0m\u001b[0;34m\u001b[0m\u001b[0m\n\u001b[1;32m   1378\u001b[0m         \u001b[0;32mreturn\u001b[0m \u001b[0mvalues\u001b[0m\u001b[0;34m\u001b[0m\u001b[0;34m\u001b[0m\u001b[0m\n",
      "\u001b[0;32m~/.pyenv/versions/anaconda3-2019.03/lib/python3.7/site-packages/pandas/core/algorithms.py\u001b[0m in \u001b[0;36mtake_nd\u001b[0;34m(arr, indexer, axis, out, fill_value, mask_info, allow_fill)\u001b[0m\n\u001b[1;32m   1653\u001b[0m     func = _get_take_nd_function(arr.ndim, arr.dtype, out.dtype, axis=axis,\n\u001b[1;32m   1654\u001b[0m                                  mask_info=mask_info)\n\u001b[0;32m-> 1655\u001b[0;31m     \u001b[0mfunc\u001b[0m\u001b[0;34m(\u001b[0m\u001b[0marr\u001b[0m\u001b[0;34m,\u001b[0m \u001b[0mindexer\u001b[0m\u001b[0;34m,\u001b[0m \u001b[0mout\u001b[0m\u001b[0;34m,\u001b[0m \u001b[0mfill_value\u001b[0m\u001b[0;34m)\u001b[0m\u001b[0;34m\u001b[0m\u001b[0;34m\u001b[0m\u001b[0m\n\u001b[0m\u001b[1;32m   1656\u001b[0m \u001b[0;34m\u001b[0m\u001b[0m\n\u001b[1;32m   1657\u001b[0m     \u001b[0;32mif\u001b[0m \u001b[0mflip_order\u001b[0m\u001b[0;34m:\u001b[0m\u001b[0;34m\u001b[0m\u001b[0;34m\u001b[0m\u001b[0m\n",
      "\u001b[0;31mKeyboardInterrupt\u001b[0m: "
     ]
    }
   ],
   "source": [
    "level_values = df.index.get_level_values\n",
    "blocks = level_values(0).unique()\n",
    "\n",
    "all_block_dfs = []\n",
    "for block_ind in blocks:\n",
    "    dfs = []\n",
    "    for year in range(2012,2020):\n",
    "        #df.loc[1001].index.hour.max()\n",
    "        current_year = df.loc[block_ind][df.loc[block_ind].index.year == year]\n",
    "        if len(current_year) > 0:\n",
    "        \n",
    "            max_hour = current_year.index.hour.max()\n",
    "            min_hour = current_year.index.hour.min()\n",
    "\n",
    "            current_year = current_year.resample(rule='15min').mean()\n",
    "\n",
    "            # remove non paying hours:\n",
    "            current_year = current_year.iloc[current_year.index.indexer_between_time('%d:00:00' % min_hour, \n",
    "                                                                  '%d:00:00' % max_hour, \n",
    "                                                                  include_start=True, \n",
    "                                                                  include_end=True)]\n",
    "            # remove sundays\n",
    "            current_year = current_year[current_year.index.dayofweek != 6]\n",
    "\n",
    "\n",
    "            # remove holidays\n",
    "\n",
    "            cal = calendar()\n",
    "            holidays = cal.holidays(start=current_year.index[0], end=current_year.index[-1])\n",
    "\n",
    "            current_year = current_year[~current_year.index.normalize().isin(holidays)]\n",
    "\n",
    "            # replace nans with mean\n",
    "            current_year = current_year.replace(np.inf, np.nan)\n",
    "            means = current_year.mean()\n",
    "            current_year.fillna(means, inplace=True)\n",
    "\n",
    "            dfs.append(current_year)\n",
    "\n",
    "    block_dfs = pd.concat(dfs).assign(SourceElementKey=block_ind).set_index('SourceElementKey', append=True).swaplevel(0,1)\n",
    "    all_block_dfs.append(block_dfs)\n",
    "\n"
   ]
  },
  {
   "cell_type": "code",
   "execution_count": null,
   "metadata": {
    "scrolled": true
   },
   "outputs": [],
   "source": [
    "all_dfs = pd.concat(all_block_dfs)"
   ]
  },
  {
   "cell_type": "code",
   "execution_count": null,
   "metadata": {},
   "outputs": [],
   "source": [
    "all_dfs.to_pickle('1.collect_data/data_files/15min.pkl')"
   ]
  }
 ],
 "metadata": {
  "kernelspec": {
   "display_name": "Python 3",
   "language": "python",
   "name": "python3"
  },
  "language_info": {
   "codemirror_mode": {
    "name": "ipython",
    "version": 3
   },
   "file_extension": ".py",
   "mimetype": "text/x-python",
   "name": "python",
   "nbconvert_exporter": "python",
   "pygments_lexer": "ipython3",
   "version": "3.7.3"
  }
 },
 "nbformat": 4,
 "nbformat_minor": 2
}
